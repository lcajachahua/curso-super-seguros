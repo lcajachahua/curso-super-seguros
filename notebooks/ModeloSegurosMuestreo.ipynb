{
 "cells": [
  {
   "cell_type": "markdown",
   "metadata": {
    "colab_type": "text",
    "id": "b8i4MkfOtI3N"
   },
   "source": [
    "# **Caso: Reclamos en una Empresa de Seguros**\n",
    "\n",
    "El objetivo es construir un modelo para poder calcular la probabilidad de que un cliente presente un reclamo de seguro. Como la proporción de clientes que cumplen con esta condición es reducida, aprovecharemos este caso para probar distintos métodos de balanceo de muestras.\n",
    "\n",
    "https://www.kaggle.com/c/porto-seguro-safe-driver-prediction/data\n"
   ]
  },
  {
   "cell_type": "code",
   "execution_count": null,
   "metadata": {
    "colab": {
     "base_uri": "https://localhost:8080/",
     "height": 71
    },
    "colab_type": "code",
    "executionInfo": {
     "elapsed": 1072,
     "status": "ok",
     "timestamp": 1588348742428,
     "user": {
      "displayName": "LC",
      "photoUrl": "",
      "userId": "01596675882994571196"
     },
     "user_tz": 300
    },
    "id": "_yGu867VsrU2",
    "outputId": "0bf3fb21-e2e5-429c-80c3-bcb70acefb51"
   },
   "outputs": [],
   "source": [
    "## Podemos hacer el balanceo de manera artesanal, para entender las lógicas.\n",
    "import numpy as np\n",
    "import pandas as pd\n",
    "import matplotlib.pyplot as plt\n",
    "import seaborn as sns"
   ]
  },
  {
   "cell_type": "markdown",
   "metadata": {
    "colab_type": "text",
    "id": "V2zHy1KRmMas"
   },
   "source": [
    "### **Carga de la base de datos**\n",
    "\n",
    "Desarrollar el mejor modelo de propensión que prediga si se logrará la venta de un préstamo digital."
   ]
  },
  {
   "cell_type": "code",
   "execution_count": null,
   "metadata": {
    "colab": {},
    "colab_type": "code",
    "id": "2YXJcHufxtqW"
   },
   "outputs": [],
   "source": [
    "train = pd.read_csv('../data/train.csv')"
   ]
  },
  {
   "cell_type": "code",
   "execution_count": null,
   "metadata": {
    "colab": {
     "base_uri": "https://localhost:8080/",
     "height": 292
    },
    "colab_type": "code",
    "executionInfo": {
     "elapsed": 691,
     "status": "ok",
     "timestamp": 1588351854875,
     "user": {
      "displayName": "LC",
      "photoUrl": "",
      "userId": "01596675882994571196"
     },
     "user_tz": 300
    },
    "id": "yY7z1Keextsx",
    "outputId": "32e5a8e2-ce33-49d6-bbd3-543e127f97b0"
   },
   "outputs": [],
   "source": [
    "train.head(5)"
   ]
  },
  {
   "cell_type": "code",
   "execution_count": null,
   "metadata": {
    "colab": {
     "base_uri": "https://localhost:8080/",
     "height": 68
    },
    "colab_type": "code",
    "executionInfo": {
     "elapsed": 898,
     "status": "ok",
     "timestamp": 1588294720419,
     "user": {
      "displayName": "LC",
      "photoUrl": "",
      "userId": "01596675882994571196"
     },
     "user_tz": 300
    },
    "id": "h3rHm-XvxtvK",
    "outputId": "2d6165df-b87a-47a5-b08f-31cc15116ce0"
   },
   "outputs": [],
   "source": [
    "train.target.value_counts(normalize=True)"
   ]
  },
  {
   "cell_type": "code",
   "execution_count": null,
   "metadata": {},
   "outputs": [],
   "source": [
    "train.target.value_counts()"
   ]
  },
  {
   "cell_type": "code",
   "execution_count": null,
   "metadata": {
    "colab": {
     "base_uri": "https://localhost:8080/",
     "height": 440
    },
    "colab_type": "code",
    "executionInfo": {
     "elapsed": 1248,
     "status": "ok",
     "timestamp": 1588349318017,
     "user": {
      "displayName": "LC",
      "photoUrl": "",
      "userId": "01596675882994571196"
     },
     "user_tz": 300
    },
    "id": "49t8PcORBlPJ",
    "outputId": "85965b4c-33da-4686-96b9-4e6cc1bebddc"
   },
   "outputs": [],
   "source": [
    "sns.factorplot('target',data=train,kind=\"count\")"
   ]
  },
  {
   "cell_type": "code",
   "execution_count": null,
   "metadata": {
    "colab": {},
    "colab_type": "code",
    "id": "zAfkRmL8xtxb"
   },
   "outputs": [],
   "source": [
    "train.dtypes"
   ]
  },
  {
   "cell_type": "code",
   "execution_count": null,
   "metadata": {},
   "outputs": [],
   "source": [
    "df = train.sample(frac=0.9, random_state=1000)\n",
    "df_unseen = train.drop(df.index)\n",
    "df.reset_index(inplace=True, drop=True)\n",
    "df_unseen.reset_index(inplace=True, drop=True)\n",
    "print('Data for Modeling: ' + str(df.shape))\n",
    "print('Unseen Data For Predictions: ' + str(df_unseen.shape))"
   ]
  },
  {
   "cell_type": "code",
   "execution_count": null,
   "metadata": {},
   "outputs": [],
   "source": [
    "df.target.value_counts()"
   ]
  },
  {
   "cell_type": "markdown",
   "metadata": {
    "colab_type": "text",
    "id": "4cGPzgkgf07u"
   },
   "source": [
    "### Modelos con la muestra completa"
   ]
  },
  {
   "cell_type": "code",
   "execution_count": null,
   "metadata": {
    "colab": {},
    "colab_type": "code",
    "id": "lR2S2WsFsrcW"
   },
   "outputs": [],
   "source": [
    "from sklearn.model_selection import train_test_split\n",
    "from sklearn.metrics import classification_report, confusion_matrix, accuracy_score, precision_score, recall_score, f1_score\n",
    "from sklearn.tree import DecisionTreeClassifier\n",
    "from sklearn.ensemble import RandomForestClassifier\n",
    "import xgboost as xgb"
   ]
  },
  {
   "cell_type": "code",
   "execution_count": null,
   "metadata": {
    "colab": {},
    "colab_type": "code",
    "id": "eiLO-qVwirej"
   },
   "outputs": [],
   "source": [
    "# limpieza básica\n",
    "df = df.drop(['id'], axis=1)"
   ]
  },
  {
   "cell_type": "code",
   "execution_count": null,
   "metadata": {
    "colab": {},
    "colab_type": "code",
    "id": "3gp3Pkkuf0Uk"
   },
   "outputs": [],
   "source": [
    "#Separación de predictoras y predicha\n",
    "X = df.drop('target', axis=1)\n",
    "y = df['target']"
   ]
  },
  {
   "cell_type": "code",
   "execution_count": null,
   "metadata": {
    "colab": {},
    "colab_type": "code",
    "id": "aN4OoNU0f_cz"
   },
   "outputs": [],
   "source": [
    "#Creación de muestras de train y test\n",
    "X_train, X_test, y_train, y_test = train_test_split(X, y, test_size=0.3, random_state=22)"
   ]
  },
  {
   "cell_type": "code",
   "execution_count": null,
   "metadata": {
    "colab": {
     "base_uri": "https://localhost:8080/",
     "height": 34
    },
    "colab_type": "code",
    "executionInfo": {
     "elapsed": 782,
     "status": "ok",
     "timestamp": 1588294842990,
     "user": {
      "displayName": "LC",
      "photoUrl": "",
      "userId": "01596675882994571196"
     },
     "user_tz": 300
    },
    "id": "MqdEO5H8v75g",
    "outputId": "a82014e1-f16f-498a-8651-d49b367de725"
   },
   "outputs": [],
   "source": [
    "X_train.shape, y_train.shape"
   ]
  },
  {
   "cell_type": "code",
   "execution_count": null,
   "metadata": {
    "colab": {
     "base_uri": "https://localhost:8080/",
     "height": 34
    },
    "colab_type": "code",
    "executionInfo": {
     "elapsed": 939,
     "status": "ok",
     "timestamp": 1588294862678,
     "user": {
      "displayName": "LC",
      "photoUrl": "",
      "userId": "01596675882994571196"
     },
     "user_tz": 300
    },
    "id": "JMixsjFdwAM_",
    "outputId": "0131448c-5236-4215-f582-f96be57d4625"
   },
   "outputs": [],
   "source": [
    "X_test.shape, y_test.shape"
   ]
  },
  {
   "cell_type": "markdown",
   "metadata": {},
   "source": [
    "### Modelo Decision Tree"
   ]
  },
  {
   "cell_type": "code",
   "execution_count": null,
   "metadata": {
    "colab": {},
    "colab_type": "code",
    "id": "NvqIXicxf_fJ"
   },
   "outputs": [],
   "source": [
    "tree = DecisionTreeClassifier()\n",
    "tree_model = tree.fit(X_train, y_train)\n",
    "Y_pred = tree_model.predict(X_test)"
   ]
  },
  {
   "cell_type": "code",
   "execution_count": null,
   "metadata": {},
   "outputs": [],
   "source": [
    "ind = pd.DataFrame(columns = ['Modelo', 'Muestra', 'Tamaño', 'Accuracy', 'Precision', 'Recall', 'F1Score'])"
   ]
  },
  {
   "cell_type": "code",
   "execution_count": null,
   "metadata": {},
   "outputs": [],
   "source": [
    "print(\"Matriz confusion: Test\")\n",
    "print(confusion_matrix(y_test,Y_pred))\n",
    "\n",
    "ind = ind.append({'Modelo' : 'DecisionTree', 'Muestra' : 'Test', 'Tamaño': len(Y_pred), 'Accuracy' : accuracy_score(y_test,Y_pred), \n",
    "                  'Precision' : precision_score(y_test,Y_pred), 'Recall' : recall_score(y_test,Y_pred), 'F1Score' : f1_score(y_test,Y_pred)}, ignore_index = True)"
   ]
  },
  {
   "cell_type": "code",
   "execution_count": null,
   "metadata": {},
   "outputs": [],
   "source": [
    "# Almacenamos las probabilidades\n",
    "y_real = df_unseen['target']\n",
    "Y_pred = tree_model.predict(df_unseen.drop(['id','target'], axis=1))\n",
    "U_pred = tree_model.predict_proba(df_unseen.drop(['id','target'], axis=1))[:,1]\n",
    "datos = np.hstack((df_unseen['id'].values.reshape(-1,1), df_unseen['target'].values.reshape(-1,1), U_pred.reshape(-1,1)))\n",
    "df_submmit = pd.DataFrame(datos, columns=['id','real','prob'])\n",
    "df_submmit.to_csv('../data/com_tree.csv', index=False)\n",
    "\n",
    "print(\"Matriz confusion: Unseen\")\n",
    "print(confusion_matrix(y_real,Y_pred))\n",
    "\n",
    "ind = ind.append({'Modelo' : 'DecisionTree', 'Muestra' : 'Reserva', 'Tamaño': len(Y_pred), 'Accuracy' : accuracy_score(y_real,Y_pred), \n",
    "                  'Precision' : precision_score(y_real,Y_pred), 'Recall' : recall_score(y_real,Y_pred), 'F1Score' : f1_score(y_real,Y_pred)}, ignore_index = True)\n",
    "ind.head()"
   ]
  },
  {
   "cell_type": "markdown",
   "metadata": {},
   "source": [
    "### Modelo XGBoost"
   ]
  },
  {
   "cell_type": "code",
   "execution_count": null,
   "metadata": {
    "colab": {},
    "colab_type": "code",
    "id": "0DbUhybuf0XI"
   },
   "outputs": [],
   "source": [
    "xgb_mod=xgb.XGBClassifier()\n",
    "xgb_mod.fit(X_train, y_train)\n",
    "Y_pred= xgb_mod.predict(X_test)"
   ]
  },
  {
   "cell_type": "code",
   "execution_count": null,
   "metadata": {},
   "outputs": [],
   "source": [
    "print(\"Matriz confusion: Test\")\n",
    "print(confusion_matrix(y_test,Y_pred))\n",
    "\n",
    "ind = ind.append({'Modelo' : 'XGBoost', 'Muestra' : 'Test', 'Tamaño': len(Y_pred), 'Accuracy' : accuracy_score(y_test,Y_pred), \n",
    "                  'Precision' : precision_score(y_test,Y_pred), 'Recall' : recall_score(y_test,Y_pred), 'F1Score' : f1_score(y_test,Y_pred)}, ignore_index = True)"
   ]
  },
  {
   "cell_type": "code",
   "execution_count": null,
   "metadata": {},
   "outputs": [],
   "source": [
    "# Almacenamos las probabilidades\n",
    "y_real = df_unseen['target']\n",
    "Y_pred = xgb_mod.predict(df_unseen.drop(['id','target'], axis=1))\n",
    "U_pred = xgb_mod.predict_proba(df_unseen.drop(['id','target'], axis=1))[:,1]\n",
    "datos = np.hstack((df_unseen['id'].values.reshape(-1,1), df_unseen['target'].values.reshape(-1,1), U_pred.reshape(-1,1)))\n",
    "df_submmit = pd.DataFrame(datos, columns=['id','real','prob'])\n",
    "df_submmit.to_csv('../data/com_xgb.csv', index=False)\n",
    "\n",
    "print(\"Matriz confusion: Unseen\")\n",
    "print(confusion_matrix(y_real,Y_pred))\n",
    "\n",
    "ind = ind.append({'Modelo' : 'XGBoost', 'Muestra' : 'Reserva', 'Tamaño': len(Y_pred), 'Accuracy' : accuracy_score(y_real,Y_pred), \n",
    "                  'Precision' : precision_score(y_real,Y_pred), 'Recall' : recall_score(y_real,Y_pred), 'F1Score' : f1_score(y_real,Y_pred)}, ignore_index = True)\n",
    "ind.head()"
   ]
  },
  {
   "cell_type": "markdown",
   "metadata": {},
   "source": [
    "### Modelo RandomForest"
   ]
  },
  {
   "cell_type": "code",
   "execution_count": null,
   "metadata": {},
   "outputs": [],
   "source": [
    "rf = RandomForestClassifier()\n",
    "rf.fit(X_train, y_train)\n",
    "Y_pred=rf.predict(X_test)"
   ]
  },
  {
   "cell_type": "code",
   "execution_count": null,
   "metadata": {},
   "outputs": [],
   "source": [
    "print(\"Matriz confusion: Test\")\n",
    "print(confusion_matrix(y_test,Y_pred))\n",
    "\n",
    "ind = ind.append({'Modelo' : 'RandomForest', 'Muestra' : 'Test', 'Tamaño': len(Y_pred), 'Accuracy' : accuracy_score(y_test,Y_pred), \n",
    "                  'Precision' : precision_score(y_test,Y_pred), 'Recall' : recall_score(y_test,Y_pred), 'F1Score' : f1_score(y_test,Y_pred)}, ignore_index = True)"
   ]
  },
  {
   "cell_type": "code",
   "execution_count": null,
   "metadata": {},
   "outputs": [],
   "source": [
    "# Almacenamos las probabilidades\n",
    "y_real = df_unseen['target']\n",
    "Y_pred = rf.predict(df_unseen.drop(['id','target'], axis=1))\n",
    "U_pred = rf.predict_proba(df_unseen.drop(['id','target'], axis=1))[:,1]\n",
    "datos = np.hstack((df_unseen['id'].values.reshape(-1,1), df_unseen['target'].values.reshape(-1,1), U_pred.reshape(-1,1)))\n",
    "df_submmit = pd.DataFrame(datos, columns=['id','real','prob'])\n",
    "df_submmit.to_csv('../data/com_rf.csv', index=False)\n",
    "\n",
    "print(\"Matriz confusion: Unseen\")\n",
    "print(confusion_matrix(y_real,Y_pred))\n",
    "\n",
    "ind = ind.append({'Modelo' : 'RandomForest', 'Muestra' : 'Reserva', 'Tamaño': len(Y_pred), 'Accuracy' : accuracy_score(y_real,Y_pred), \n",
    "                  'Precision' : precision_score(y_real,Y_pred), 'Recall' : recall_score(y_real,Y_pred), 'F1Score' : f1_score(y_real,Y_pred)}, ignore_index = True)\n",
    "ind"
   ]
  },
  {
   "cell_type": "markdown",
   "metadata": {
    "colab_type": "text",
    "id": "c7aNeXw6lBa8"
   },
   "source": [
    "## **Resampling**"
   ]
  },
  {
   "cell_type": "code",
   "execution_count": null,
   "metadata": {
    "colab": {},
    "colab_type": "code",
    "id": "jNDXj7lcnYMc"
   },
   "outputs": [],
   "source": [
    "# Conteo de clases\n",
    "count_class_0, count_class_1 = df.target.value_counts()"
   ]
  },
  {
   "cell_type": "code",
   "execution_count": null,
   "metadata": {
    "colab": {
     "base_uri": "https://localhost:8080/",
     "height": 68
    },
    "colab_type": "code",
    "executionInfo": {
     "elapsed": 869,
     "status": "ok",
     "timestamp": 1588295002774,
     "user": {
      "displayName": "LC",
      "photoUrl": "",
      "userId": "01596675882994571196"
     },
     "user_tz": 300
    },
    "id": "26gREJTNnYWa",
    "outputId": "a9fda528-cd69-4e3d-d30b-ba2c34e89ad3"
   },
   "outputs": [],
   "source": [
    "print('Cantidades por fila de clase:')\n",
    "print('Class_0:',count_class_0)\n",
    "print('Class_1:',count_class_1)"
   ]
  },
  {
   "cell_type": "code",
   "execution_count": null,
   "metadata": {
    "colab": {},
    "colab_type": "code",
    "id": "hal685vNnYPJ"
   },
   "outputs": [],
   "source": [
    "# Dividiendo los sets por clases\n",
    "df_class_0 = df[df['target'] == 0]\n",
    "df_class_1 = df[df['target'] == 1]"
   ]
  },
  {
   "cell_type": "code",
   "execution_count": null,
   "metadata": {
    "colab": {
     "base_uri": "https://localhost:8080/",
     "height": 68
    },
    "colab_type": "code",
    "executionInfo": {
     "elapsed": 1083,
     "status": "ok",
     "timestamp": 1588295013054,
     "user": {
      "displayName": "LC",
      "photoUrl": "",
      "userId": "01596675882994571196"
     },
     "user_tz": 300
    },
    "id": "LLHr89qwncV4",
    "outputId": "cb8372a1-e01c-4bcf-afa2-ce6ca0d795b1"
   },
   "outputs": [],
   "source": [
    "print('Dimensión por tipo de clases:')\n",
    "print('dim class_0:',df_class_0.shape)\n",
    "print('dim class_1:',df_class_1.shape)"
   ]
  },
  {
   "cell_type": "markdown",
   "metadata": {
    "colab_type": "text",
    "id": "EYeo8ZmT4MqD"
   },
   "source": [
    "### 1. Random under-sampling (Submuestreo aleatorio)"
   ]
  },
  {
   "cell_type": "code",
   "execution_count": null,
   "metadata": {
    "colab": {},
    "colab_type": "code",
    "id": "wdHy3k_Y4Ks8"
   },
   "outputs": [],
   "source": [
    "df_class_0_under = df_class_0.sample(count_class_1*4)\n",
    "df_under = pd.concat([df_class_0_under, df_class_1], axis=0)"
   ]
  },
  {
   "cell_type": "code",
   "execution_count": null,
   "metadata": {
    "colab": {
     "base_uri": "https://localhost:8080/",
     "height": 68
    },
    "colab_type": "code",
    "executionInfo": {
     "elapsed": 875,
     "status": "ok",
     "timestamp": 1588295051207,
     "user": {
      "displayName": "LC",
      "photoUrl": "",
      "userId": "01596675882994571196"
     },
     "user_tz": 300
    },
    "id": "gRc3AWSAaoEm",
    "outputId": "70436415-dd51-41d0-ccfa-aceebc774fa5"
   },
   "outputs": [],
   "source": [
    "print('Dimensión por tipo de clases generadas:')\n",
    "print('dim df_class_0_under:',df_class_0_under.shape)\n",
    "print('dim df_under:',df_under.shape)"
   ]
  },
  {
   "cell_type": "code",
   "execution_count": null,
   "metadata": {
    "colab": {
     "base_uri": "https://localhost:8080/",
     "height": 85
    },
    "colab_type": "code",
    "executionInfo": {
     "elapsed": 861,
     "status": "ok",
     "timestamp": 1588295104327,
     "user": {
      "displayName": "LC",
      "photoUrl": "",
      "userId": "01596675882994571196"
     },
     "user_tz": 300
    },
    "id": "ZDNglo-NaoG_",
    "outputId": "24973db3-dc24-45e8-9e85-da9ac06f7bae"
   },
   "outputs": [],
   "source": [
    "print('Random under-sampling:')\n",
    "print(df_under.target.value_counts())"
   ]
  },
  {
   "cell_type": "code",
   "execution_count": null,
   "metadata": {
    "colab": {
     "base_uri": "https://localhost:8080/",
     "height": 278
    },
    "colab_type": "code",
    "executionInfo": {
     "elapsed": 1613,
     "status": "ok",
     "timestamp": 1588295108488,
     "user": {
      "displayName": "LC",
      "photoUrl": "",
      "userId": "01596675882994571196"
     },
     "user_tz": 300
    },
    "id": "GkvuM6IEaoJe",
    "outputId": "f11f54d6-b4c7-4018-842d-7e61fd7bde67"
   },
   "outputs": [],
   "source": [
    "df_under.target.value_counts().plot(kind='bar', title='Count (target)');"
   ]
  },
  {
   "cell_type": "code",
   "execution_count": null,
   "metadata": {},
   "outputs": [],
   "source": [
    "#Separación de predictoras y predicha\n",
    "X = df_under.drop('target', axis=1)\n",
    "y = df_under['target']"
   ]
  },
  {
   "cell_type": "code",
   "execution_count": null,
   "metadata": {},
   "outputs": [],
   "source": [
    "#Creación de muestras de train y test\n",
    "X_train, X_test, y_train, y_test = train_test_split(X, y, test_size=0.3, random_state=22)"
   ]
  },
  {
   "cell_type": "markdown",
   "metadata": {},
   "source": [
    "### Modelo Decision Tree"
   ]
  },
  {
   "cell_type": "code",
   "execution_count": null,
   "metadata": {},
   "outputs": [],
   "source": [
    "tree = DecisionTreeClassifier()\n",
    "tree_model = tree.fit(X_train, y_train)\n",
    "Y_pred = tree_model.predict(X_test)"
   ]
  },
  {
   "cell_type": "code",
   "execution_count": null,
   "metadata": {},
   "outputs": [],
   "source": [
    "print(\"Matriz confusion: Test\")\n",
    "print(confusion_matrix(y_test,Y_pred))\n",
    "\n",
    "ind = ind.append({'Modelo' : 'DecisionTree Under', 'Muestra' : 'Test', 'Tamaño': len(Y_pred), 'Accuracy' : accuracy_score(y_test,Y_pred), \n",
    "                  'Precision' : precision_score(y_test,Y_pred), 'Recall' : recall_score(y_test,Y_pred), 'F1Score' : f1_score(y_test,Y_pred)}, ignore_index = True)"
   ]
  },
  {
   "cell_type": "code",
   "execution_count": null,
   "metadata": {},
   "outputs": [],
   "source": [
    "# Almacenamos las probabilidades\n",
    "y_real = df_unseen['target']\n",
    "Y_pred = tree_model.predict(df_unseen.drop(['id','target'], axis=1))\n",
    "U_pred = tree_model.predict_proba(df_unseen.drop(['id','target'], axis=1))[:,1]\n",
    "datos = np.hstack((df_unseen['id'].values.reshape(-1,1), df_unseen['target'].values.reshape(-1,1), U_pred.reshape(-1,1)))\n",
    "df_submmit = pd.DataFrame(datos, columns=['id','real','prob'])\n",
    "df_submmit.to_csv('../data/under_tree.csv', index=False)\n",
    "\n",
    "print(\"Matriz confusion: Unseen\")\n",
    "print(confusion_matrix(y_real,Y_pred))\n",
    "\n",
    "ind = ind.append({'Modelo' : 'DecisionTree Under', 'Muestra' : 'Reserva', 'Tamaño': len(Y_pred), 'Accuracy' : accuracy_score(y_real,Y_pred), \n",
    "                  'Precision' : precision_score(y_real,Y_pred), 'Recall' : recall_score(y_real,Y_pred), 'F1Score' : f1_score(y_real,Y_pred)}, ignore_index = True)\n",
    "ind"
   ]
  },
  {
   "cell_type": "markdown",
   "metadata": {},
   "source": [
    "### Modelo XGBoost"
   ]
  },
  {
   "cell_type": "code",
   "execution_count": null,
   "metadata": {},
   "outputs": [],
   "source": [
    "xgb_mod=xgb.XGBClassifier()\n",
    "xgb_mod.fit(X_train, y_train)\n",
    "Y_pred= xgb_mod.predict(X_test)"
   ]
  },
  {
   "cell_type": "code",
   "execution_count": null,
   "metadata": {},
   "outputs": [],
   "source": [
    "print(\"Matriz confusion: Test\")\n",
    "print(confusion_matrix(y_test,Y_pred))\n",
    "\n",
    "ind = ind.append({'Modelo' : 'XGBoost Under', 'Muestra' : 'Test', 'Tamaño': len(Y_pred), 'Accuracy' : accuracy_score(y_test,Y_pred), \n",
    "                  'Precision' : precision_score(y_test,Y_pred), 'Recall' : recall_score(y_test,Y_pred), 'F1Score' : f1_score(y_test,Y_pred)}, ignore_index = True)"
   ]
  },
  {
   "cell_type": "code",
   "execution_count": null,
   "metadata": {},
   "outputs": [],
   "source": [
    "# Almacenamos las probabilidades\n",
    "y_real = df_unseen['target']\n",
    "Y_pred = xgb_mod.predict(df_unseen.drop(['id','target'], axis=1))\n",
    "U_pred = xgb_mod.predict_proba(df_unseen.drop(['id','target'], axis=1))[:,1]\n",
    "datos = np.hstack((df_unseen['id'].values.reshape(-1,1), df_unseen['target'].values.reshape(-1,1), U_pred.reshape(-1,1)))\n",
    "df_submmit = pd.DataFrame(datos, columns=['id','real','prob'])\n",
    "df_submmit.to_csv('../data/under_xgb.csv', index=False)\n",
    "\n",
    "print(\"Matriz confusion: Unseen\")\n",
    "print(confusion_matrix(y_real,Y_pred))\n",
    "\n",
    "ind = ind.append({'Modelo' : 'XGBoost Under', 'Muestra' : 'Reserva', 'Tamaño': len(Y_pred), 'Accuracy' : accuracy_score(y_real,Y_pred), \n",
    "                  'Precision' : precision_score(y_real,Y_pred), 'Recall' : recall_score(y_real,Y_pred), 'F1Score' : f1_score(y_real,Y_pred)}, ignore_index = True)\n",
    "ind"
   ]
  },
  {
   "cell_type": "markdown",
   "metadata": {},
   "source": [
    "### Modelo RandomForest"
   ]
  },
  {
   "cell_type": "code",
   "execution_count": null,
   "metadata": {},
   "outputs": [],
   "source": [
    "rf = RandomForestClassifier()\n",
    "rf.fit(X_train, y_train)\n",
    "Y_pred=rf.predict(X_test)"
   ]
  },
  {
   "cell_type": "code",
   "execution_count": null,
   "metadata": {},
   "outputs": [],
   "source": [
    "print(\"Matriz confusion: Test\")\n",
    "print(confusion_matrix(y_test,Y_pred))\n",
    "\n",
    "ind = ind.append({'Modelo' : 'RandomForest Under', 'Muestra' : 'Test', 'Tamaño': len(Y_pred), 'Accuracy' : accuracy_score(y_test,Y_pred), \n",
    "                  'Precision' : precision_score(y_test,Y_pred), 'Recall' : recall_score(y_test,Y_pred), 'F1Score' : f1_score(y_test,Y_pred)}, ignore_index = True)"
   ]
  },
  {
   "cell_type": "code",
   "execution_count": null,
   "metadata": {},
   "outputs": [],
   "source": [
    "# Almacenamos las probabilidades\n",
    "y_real = df_unseen['target']\n",
    "Y_pred = rf.predict(df_unseen.drop(['id','target'], axis=1))\n",
    "U_pred = rf.predict_proba(df_unseen.drop(['id','target'], axis=1))[:,1]\n",
    "datos = np.hstack((df_unseen['id'].values.reshape(-1,1), df_unseen['target'].values.reshape(-1,1), U_pred.reshape(-1,1)))\n",
    "df_submmit = pd.DataFrame(datos, columns=['id','real','prob'])\n",
    "df_submmit.to_csv('../data/under_rf.csv', index=False)\n",
    "\n",
    "print(\"Matriz confusion: Unseen\")\n",
    "print(confusion_matrix(y_real,Y_pred))\n",
    "\n",
    "ind = ind.append({'Modelo' : 'RandomForest Under', 'Muestra' : 'Reserva', 'Tamaño': len(Y_pred), 'Accuracy' : accuracy_score(y_real,Y_pred), \n",
    "                  'Precision' : precision_score(y_real,Y_pred), 'Recall' : recall_score(y_real,Y_pred), 'F1Score' : f1_score(y_real,Y_pred)}, ignore_index = True)\n",
    "ind"
   ]
  },
  {
   "cell_type": "markdown",
   "metadata": {
    "colab_type": "text",
    "id": "aFpImToab7pr"
   },
   "source": [
    "### 2. Random over-sampling (Sobremuestreo aleatorio)"
   ]
  },
  {
   "cell_type": "code",
   "execution_count": null,
   "metadata": {
    "colab": {},
    "colab_type": "code",
    "id": "mmKuAF6t4KvM"
   },
   "outputs": [],
   "source": [
    "df_class_1_over = df_class_1.sample(round(count_class_0/4), replace=True)\n",
    "df_over = pd.concat([df_class_0, df_class_1_over], axis=0)"
   ]
  },
  {
   "cell_type": "code",
   "execution_count": null,
   "metadata": {
    "colab": {
     "base_uri": "https://localhost:8080/",
     "height": 68
    },
    "colab_type": "code",
    "executionInfo": {
     "elapsed": 907,
     "status": "ok",
     "timestamp": 1588295131469,
     "user": {
      "displayName": "LC",
      "photoUrl": "",
      "userId": "01596675882994571196"
     },
     "user_tz": 300
    },
    "id": "mS8bi2OJ4Kxk",
    "outputId": "0872fe50-e7ad-4b85-df54-532a6cb0918b"
   },
   "outputs": [],
   "source": [
    "print('Dimensión por tipo de clases generadas:')\n",
    "print('dim df_class_1_over:',df_class_1_over.shape)\n",
    "print('dim df_over:',df_over.shape)"
   ]
  },
  {
   "cell_type": "code",
   "execution_count": null,
   "metadata": {
    "colab": {
     "base_uri": "https://localhost:8080/",
     "height": 85
    },
    "colab_type": "code",
    "executionInfo": {
     "elapsed": 905,
     "status": "ok",
     "timestamp": 1588295140029,
     "user": {
      "displayName": "LC",
      "photoUrl": "",
      "userId": "01596675882994571196"
     },
     "user_tz": 300
    },
    "id": "KAiRr-7naOEg",
    "outputId": "52218835-eb5d-4c64-c02f-ce8c9b118afa"
   },
   "outputs": [],
   "source": [
    "print('Random over-sampling:')\n",
    "print(df_over.target.value_counts())"
   ]
  },
  {
   "cell_type": "code",
   "execution_count": null,
   "metadata": {
    "colab": {
     "base_uri": "https://localhost:8080/",
     "height": 278
    },
    "colab_type": "code",
    "executionInfo": {
     "elapsed": 774,
     "status": "ok",
     "timestamp": 1588172414462,
     "user": {
      "displayName": "LC",
      "photoUrl": "",
      "userId": "01596675882994571196"
     },
     "user_tz": 300
    },
    "id": "u1s7Il_5aOHM",
    "outputId": "538fc7bf-33bf-4a1b-a31a-3ccf5ca43f79"
   },
   "outputs": [],
   "source": [
    "df_over.target.value_counts().plot(kind='bar', title='Count (target)');"
   ]
  },
  {
   "cell_type": "code",
   "execution_count": null,
   "metadata": {},
   "outputs": [],
   "source": [
    "#Separación de predictoras y predicha\n",
    "X = df_over.drop('target', axis=1)\n",
    "y = df_over['target']"
   ]
  },
  {
   "cell_type": "code",
   "execution_count": null,
   "metadata": {},
   "outputs": [],
   "source": [
    "#Creación de muestras de train y test\n",
    "X_train, X_test, y_train, y_test = train_test_split(X, y, test_size=0.3, random_state=22)"
   ]
  },
  {
   "cell_type": "markdown",
   "metadata": {},
   "source": [
    "### Modelo Decision Tree"
   ]
  },
  {
   "cell_type": "code",
   "execution_count": null,
   "metadata": {},
   "outputs": [],
   "source": [
    "tree = DecisionTreeClassifier()\n",
    "tree_model = tree.fit(X_train, y_train)\n",
    "Y_pred = tree_model.predict(X_test)"
   ]
  },
  {
   "cell_type": "code",
   "execution_count": null,
   "metadata": {},
   "outputs": [],
   "source": [
    "print(\"Matriz confusion: Test\")\n",
    "print(confusion_matrix(y_test,Y_pred))\n",
    "\n",
    "ind = ind.append({'Modelo' : 'DecisionTree Over', 'Muestra' : 'Test', 'Tamaño': len(Y_pred), 'Accuracy' : accuracy_score(y_test,Y_pred), \n",
    "                  'Precision' : precision_score(y_test,Y_pred), 'Recall' : recall_score(y_test,Y_pred), 'F1Score' : f1_score(y_test,Y_pred)}, ignore_index = True)"
   ]
  },
  {
   "cell_type": "code",
   "execution_count": null,
   "metadata": {},
   "outputs": [],
   "source": [
    "# Almacenamos las probabilidades\n",
    "y_real = df_unseen['target']\n",
    "Y_pred = tree_model.predict(df_unseen.drop(['id','target'], axis=1))\n",
    "U_pred = tree_model.predict_proba(df_unseen.drop(['id','target'], axis=1))[:,1]\n",
    "datos = np.hstack((df_unseen['id'].values.reshape(-1,1), df_unseen['target'].values.reshape(-1,1), U_pred.reshape(-1,1)))\n",
    "df_submmit = pd.DataFrame(datos, columns=['id','real','prob'])\n",
    "df_submmit.to_csv('../data/over_tree.csv', index=False)\n",
    "\n",
    "print(\"Matriz confusion: Unseen\")\n",
    "print(confusion_matrix(y_real,Y_pred))\n",
    "\n",
    "ind = ind.append({'Modelo' : 'DecisionTree Over', 'Muestra' : 'Reserva', 'Tamaño': len(Y_pred), 'Accuracy' : accuracy_score(y_real,Y_pred), \n",
    "                  'Precision' : precision_score(y_real,Y_pred), 'Recall' : recall_score(y_real,Y_pred), 'F1Score' : f1_score(y_real,Y_pred)}, ignore_index = True)\n",
    "ind"
   ]
  },
  {
   "cell_type": "markdown",
   "metadata": {},
   "source": [
    "### Modelo XGBoost"
   ]
  },
  {
   "cell_type": "code",
   "execution_count": null,
   "metadata": {},
   "outputs": [],
   "source": [
    "xgb_mod=xgb.XGBClassifier()\n",
    "xgb_mod.fit(X_train, y_train)\n",
    "Y_pred= xgb_mod.predict(X_test)"
   ]
  },
  {
   "cell_type": "code",
   "execution_count": null,
   "metadata": {},
   "outputs": [],
   "source": [
    "print(\"Matriz confusion: Test\")\n",
    "print(confusion_matrix(y_test,Y_pred))\n",
    "\n",
    "ind = ind.append({'Modelo' : 'XGBoost Over', 'Muestra' : 'Test', 'Tamaño': len(Y_pred), 'Accuracy' : accuracy_score(y_test,Y_pred), \n",
    "                  'Precision' : precision_score(y_test,Y_pred), 'Recall' : recall_score(y_test,Y_pred), 'F1Score' : f1_score(y_test,Y_pred)}, ignore_index = True)"
   ]
  },
  {
   "cell_type": "code",
   "execution_count": null,
   "metadata": {},
   "outputs": [],
   "source": [
    "# Almacenamos las probabilidades\n",
    "y_real = df_unseen['target']\n",
    "Y_pred = xgb_mod.predict(df_unseen.drop(['id','target'], axis=1))\n",
    "U_pred = xgb_mod.predict_proba(df_unseen.drop(['id','target'], axis=1))[:,1]\n",
    "datos = np.hstack((df_unseen['id'].values.reshape(-1,1), df_unseen['target'].values.reshape(-1,1), U_pred.reshape(-1,1)))\n",
    "df_submmit = pd.DataFrame(datos, columns=['id','real','prob'])\n",
    "df_submmit.to_csv('../data/over_xgb.csv', index=False)\n",
    "\n",
    "print(\"Matriz confusion: Unseen\")\n",
    "print(confusion_matrix(y_real,Y_pred))\n",
    "\n",
    "ind = ind.append({'Modelo' : 'XGBoost Over', 'Muestra' : 'Reserva', 'Tamaño': len(Y_pred), 'Accuracy' : accuracy_score(y_real,Y_pred), \n",
    "                  'Precision' : precision_score(y_real,Y_pred), 'Recall' : recall_score(y_real,Y_pred), 'F1Score' : f1_score(y_real,Y_pred)}, ignore_index = True)\n",
    "ind"
   ]
  },
  {
   "cell_type": "markdown",
   "metadata": {},
   "source": [
    "### Modelo RandomForest"
   ]
  },
  {
   "cell_type": "code",
   "execution_count": null,
   "metadata": {},
   "outputs": [],
   "source": [
    "rf = RandomForestClassifier()\n",
    "rf.fit(X_train, y_train)\n",
    "Y_pred=rf.predict(X_test)"
   ]
  },
  {
   "cell_type": "code",
   "execution_count": null,
   "metadata": {},
   "outputs": [],
   "source": [
    "print(\"Matriz confusion: Test\")\n",
    "print(confusion_matrix(y_test,Y_pred))\n",
    "\n",
    "ind = ind.append({'Modelo' : 'RandomForest Over', 'Muestra' : 'Test', 'Tamaño': len(Y_pred), 'Accuracy' : accuracy_score(y_test,Y_pred), \n",
    "                  'Precision' : precision_score(y_test,Y_pred), 'Recall' : recall_score(y_test,Y_pred), 'F1Score' : f1_score(y_test,Y_pred)}, ignore_index = True)"
   ]
  },
  {
   "cell_type": "code",
   "execution_count": null,
   "metadata": {},
   "outputs": [],
   "source": [
    "# Almacenamos las probabilidades\n",
    "y_real = df_unseen['target']\n",
    "Y_pred = rf.predict(df_unseen.drop(['id','target'], axis=1))\n",
    "U_pred = rf.predict_proba(df_unseen.drop(['id','target'], axis=1))[:,1]\n",
    "datos = np.hstack((df_unseen['id'].values.reshape(-1,1), df_unseen['target'].values.reshape(-1,1), U_pred.reshape(-1,1)))\n",
    "df_submmit = pd.DataFrame(datos, columns=['id','real','prob'])\n",
    "df_submmit.to_csv('../data/over_rf.csv', index=False)\n",
    "\n",
    "print(\"Matriz confusion: Unseen\")\n",
    "print(confusion_matrix(y_real,Y_pred))\n",
    "\n",
    "ind = ind.append({'Modelo' : 'RandomForest Over', 'Muestra' : 'Reserva', 'Tamaño': len(Y_pred), 'Accuracy' : accuracy_score(y_real,Y_pred), \n",
    "                  'Precision' : precision_score(y_real,Y_pred), 'Recall' : recall_score(y_real,Y_pred), 'F1Score' : f1_score(y_real,Y_pred)}, ignore_index = True)\n",
    "ind"
   ]
  },
  {
   "cell_type": "markdown",
   "metadata": {
    "colab_type": "text",
    "id": "jyMM3hBs0U8K"
   },
   "source": [
    "### 3. Advanced Resampling - SMOTE"
   ]
  },
  {
   "cell_type": "code",
   "execution_count": null,
   "metadata": {},
   "outputs": [],
   "source": [
    "# !pip install imblearn\n",
    "# conda install -c glemaitre imbalanced-learn\n",
    "# conda install -c conda-forge imbalanced-learn"
   ]
  },
  {
   "cell_type": "code",
   "execution_count": null,
   "metadata": {
    "colab": {},
    "colab_type": "code",
    "id": "O2riXqdpcsKx"
   },
   "outputs": [],
   "source": [
    "from imblearn.over_sampling import SMOTE"
   ]
  },
  {
   "cell_type": "code",
   "execution_count": null,
   "metadata": {
    "colab": {},
    "colab_type": "code",
    "id": "vbwNW7oksfCO"
   },
   "outputs": [],
   "source": [
    "#Separación de predictoras y predicha\n",
    "X = df.drop('target', axis=1)\n",
    "y = df['target']"
   ]
  },
  {
   "cell_type": "code",
   "execution_count": null,
   "metadata": {
    "colab": {
     "base_uri": "https://localhost:8080/",
     "height": 71
    },
    "colab_type": "code",
    "executionInfo": {
     "elapsed": 2885,
     "status": "ok",
     "timestamp": 1588352060104,
     "user": {
      "displayName": "LC",
      "photoUrl": "",
      "userId": "01596675882994571196"
     },
     "user_tz": 300
    },
    "id": "bp-kb3W5sfFD",
    "outputId": "dd4901df-a0e9-4e17-bbda-817726fe9cd5"
   },
   "outputs": [],
   "source": [
    "#Aplicando SMOTE\n",
    "smote = SMOTE(sampling_strategy=0.2)\n",
    "X_sm, y_sm = smote.fit_sample(X, y)"
   ]
  },
  {
   "cell_type": "code",
   "execution_count": null,
   "metadata": {
    "colab": {},
    "colab_type": "code",
    "id": "sS9f-2ZYsfKR"
   },
   "outputs": [],
   "source": [
    "df_X_sm = pd.DataFrame(data=X_sm,columns=X.columns)\n",
    "df_y_sm = pd.DataFrame(data=y_sm,columns=[\"target\"])\n",
    "\n",
    "# Concatenamos la información\n",
    "df_balanceado_sm = pd.concat([df_X_sm, df_y_sm], axis=1)"
   ]
  },
  {
   "cell_type": "code",
   "execution_count": null,
   "metadata": {
    "colab": {
     "base_uri": "https://localhost:8080/",
     "height": 68
    },
    "colab_type": "code",
    "executionInfo": {
     "elapsed": 601,
     "status": "ok",
     "timestamp": 1588352072728,
     "user": {
      "displayName": "LC",
      "photoUrl": "",
      "userId": "01596675882994571196"
     },
     "user_tz": 300
    },
    "id": "MBtIlIh74K0E",
    "outputId": "c717d180-3ef9-4023-cc51-cf64f3009618"
   },
   "outputs": [],
   "source": [
    "df_balanceado_sm.target.value_counts()"
   ]
  },
  {
   "cell_type": "code",
   "execution_count": null,
   "metadata": {
    "colab": {},
    "colab_type": "code",
    "id": "LRMVNLtlxznE"
   },
   "outputs": [],
   "source": [
    "#Separación de predictoras y predicha\n",
    "X = df_balanceado_sm.drop('target', axis=1)\n",
    "y = df_balanceado_sm['target']"
   ]
  },
  {
   "cell_type": "code",
   "execution_count": null,
   "metadata": {
    "colab": {},
    "colab_type": "code",
    "id": "o2NkhZk903C1"
   },
   "outputs": [],
   "source": [
    "#Creación de muestras de train y test\n",
    "X_train, X_test, y_train, y_test = train_test_split(X, y, test_size=0.3, random_state=22)"
   ]
  },
  {
   "cell_type": "markdown",
   "metadata": {},
   "source": [
    "### Modelo Decision Tree"
   ]
  },
  {
   "cell_type": "code",
   "execution_count": null,
   "metadata": {},
   "outputs": [],
   "source": [
    "tree = DecisionTreeClassifier()\n",
    "tree_model = tree.fit(X_train, y_train)\n",
    "Y_pred = tree_model.predict(X_test)"
   ]
  },
  {
   "cell_type": "code",
   "execution_count": null,
   "metadata": {
    "colab": {
     "base_uri": "https://localhost:8080/",
     "height": 34
    },
    "colab_type": "code",
    "executionInfo": {
     "elapsed": 1515,
     "status": "ok",
     "timestamp": 1588352298625,
     "user": {
      "displayName": "LC",
      "photoUrl": "",
      "userId": "01596675882994571196"
     },
     "user_tz": 300
    },
    "id": "ZYrT2l6A03Fd",
    "outputId": "f0a00a2a-9456-4d7d-e973-5444c92ac5e7"
   },
   "outputs": [],
   "source": [
    "print(\"Matriz confusion: Test\")\n",
    "print(confusion_matrix(y_test,Y_pred))\n",
    "\n",
    "ind = ind.append({'Modelo' : 'DecisionTree SMOTE', 'Muestra' : 'Test', 'Tamaño': len(Y_pred), 'Accuracy' : accuracy_score(y_test,Y_pred), \n",
    "                  'Precision' : precision_score(y_test,Y_pred), 'Recall' : recall_score(y_test,Y_pred), 'F1Score' : f1_score(y_test,Y_pred)}, ignore_index = True)"
   ]
  },
  {
   "cell_type": "code",
   "execution_count": null,
   "metadata": {},
   "outputs": [],
   "source": [
    "# Almacenamos las probabilidades\n",
    "y_real = df_unseen['target']\n",
    "Y_pred = tree_model.predict(df_unseen.drop(['id','target'], axis=1))\n",
    "U_pred = tree_model.predict_proba(df_unseen.drop(['id','target'], axis=1))[:,1]\n",
    "datos = np.hstack((df_unseen['id'].values.reshape(-1,1), df_unseen['target'].values.reshape(-1,1), U_pred.reshape(-1,1)))\n",
    "df_submmit = pd.DataFrame(datos, columns=['id','real','prob'])\n",
    "df_submmit.to_csv('../data/smote_tree.csv', index=False)\n",
    "\n",
    "print(\"Matriz confusion: Unseen\")\n",
    "print(confusion_matrix(y_real,Y_pred))\n",
    "\n",
    "ind = ind.append({'Modelo' : 'DecisionTree SMOTE', 'Muestra' : 'Reserva', 'Tamaño': len(Y_pred), 'Accuracy' : accuracy_score(y_real,Y_pred), \n",
    "                  'Precision' : precision_score(y_real,Y_pred), 'Recall' : recall_score(y_real,Y_pred), 'F1Score' : f1_score(y_real,Y_pred)}, ignore_index = True)\n",
    "ind"
   ]
  },
  {
   "cell_type": "markdown",
   "metadata": {},
   "source": [
    "### Modelo XGBoost"
   ]
  },
  {
   "cell_type": "code",
   "execution_count": null,
   "metadata": {},
   "outputs": [],
   "source": [
    "xgb_mod=xgb.XGBClassifier()\n",
    "xgb_mod.fit(X_train, y_train)\n",
    "Y_pred= xgb_mod.predict(X_test)"
   ]
  },
  {
   "cell_type": "code",
   "execution_count": null,
   "metadata": {},
   "outputs": [],
   "source": [
    "print(\"Matriz confusion: Test\")\n",
    "print(confusion_matrix(y_test,Y_pred))\n",
    "\n",
    "ind = ind.append({'Modelo' : 'XGBoost SMOTE', 'Muestra' : 'Test', 'Tamaño': len(Y_pred), 'Accuracy' : accuracy_score(y_test,Y_pred), \n",
    "                  'Precision' : precision_score(y_test,Y_pred), 'Recall' : recall_score(y_test,Y_pred), 'F1Score' : f1_score(y_test,Y_pred)}, ignore_index = True)"
   ]
  },
  {
   "cell_type": "code",
   "execution_count": null,
   "metadata": {},
   "outputs": [],
   "source": [
    "# Almacenamos las probabilidades\n",
    "y_real = df_unseen['target']\n",
    "Y_pred = xgb_mod.predict(df_unseen.drop(['id','target'], axis=1))\n",
    "U_pred = xgb_mod.predict_proba(df_unseen.drop(['id','target'], axis=1))[:,1]\n",
    "datos = np.hstack((df_unseen['id'].values.reshape(-1,1), df_unseen['target'].values.reshape(-1,1), U_pred.reshape(-1,1)))\n",
    "df_submmit = pd.DataFrame(datos, columns=['id','real','prob'])\n",
    "df_submmit.to_csv('../data/smote_xgb.csv', index=False)\n",
    "\n",
    "print(\"Matriz confusion: Unseen\")\n",
    "print(confusion_matrix(y_real,Y_pred))\n",
    "\n",
    "ind = ind.append({'Modelo' : 'XGBoost SMOTE', 'Muestra' : 'Reserva', 'Tamaño': len(Y_pred), 'Accuracy' : accuracy_score(y_real,Y_pred), \n",
    "                  'Precision' : precision_score(y_real,Y_pred), 'Recall' : recall_score(y_real,Y_pred), 'F1Score' : f1_score(y_real,Y_pred)}, ignore_index = True)\n",
    "ind"
   ]
  },
  {
   "cell_type": "markdown",
   "metadata": {},
   "source": [
    "### Modelo RandomForest"
   ]
  },
  {
   "cell_type": "code",
   "execution_count": null,
   "metadata": {},
   "outputs": [],
   "source": [
    "rf = RandomForestClassifier()\n",
    "rf.fit(X_train, y_train)\n",
    "Y_pred=rf.predict(X_test)"
   ]
  },
  {
   "cell_type": "code",
   "execution_count": null,
   "metadata": {},
   "outputs": [],
   "source": [
    "print(\"Matriz confusion: Test\")\n",
    "print(confusion_matrix(y_test,Y_pred))\n",
    "\n",
    "ind = ind.append({'Modelo' : 'RandomForest SMOTE', 'Muestra' : 'Test', 'Tamaño': len(Y_pred), 'Accuracy' : accuracy_score(y_test,Y_pred), \n",
    "                  'Precision' : precision_score(y_test,Y_pred), 'Recall' : recall_score(y_test,Y_pred), 'F1Score' : f1_score(y_test,Y_pred)}, ignore_index = True)"
   ]
  },
  {
   "cell_type": "code",
   "execution_count": null,
   "metadata": {},
   "outputs": [],
   "source": [
    "# Almacenamos las probabilidades\n",
    "y_real = df_unseen['target']\n",
    "Y_pred = rf.predict(df_unseen.drop(['id','target'], axis=1))\n",
    "U_pred = rf.predict_proba(df_unseen.drop(['id','target'], axis=1))[:,1]\n",
    "datos = np.hstack((df_unseen['id'].values.reshape(-1,1), df_unseen['target'].values.reshape(-1,1), U_pred.reshape(-1,1)))\n",
    "df_submmit = pd.DataFrame(datos, columns=['id','real','prob'])\n",
    "df_submmit.to_csv('../data/smote_rf.csv', index=False)\n",
    "\n",
    "print(\"Matriz confusion: Unseen\")\n",
    "print(confusion_matrix(y_real,Y_pred))\n",
    "\n",
    "ind = ind.append({'Modelo' : 'RandomForest SMOTE', 'Muestra' : 'Reserva', 'Tamaño': len(Y_pred), 'Accuracy' : accuracy_score(y_real,Y_pred), \n",
    "                  'Precision' : precision_score(y_real,Y_pred), 'Recall' : recall_score(y_real,Y_pred), 'F1Score' : f1_score(y_real,Y_pred)}, ignore_index = True)\n",
    "ind"
   ]
  },
  {
   "cell_type": "code",
   "execution_count": null,
   "metadata": {},
   "outputs": [],
   "source": []
  },
  {
   "cell_type": "markdown",
   "metadata": {},
   "source": [
    "Copyright 2021. Elaborado por Luis Cajachahua"
   ]
  }
 ],
 "metadata": {
  "colab": {
   "authorship_tag": "ABX9TyNa//3M4G0ziIjyi3XMSIRP",
   "name": "D. Resampling strategies.ipynb",
   "provenance": []
  },
  "kernelspec": {
   "display_name": "Python 3",
   "language": "python",
   "name": "python3"
  },
  "language_info": {
   "codemirror_mode": {
    "name": "ipython",
    "version": 3
   },
   "file_extension": ".py",
   "mimetype": "text/x-python",
   "name": "python",
   "nbconvert_exporter": "python",
   "pygments_lexer": "ipython3",
   "version": "3.8.8"
  }
 },
 "nbformat": 4,
 "nbformat_minor": 4
}
