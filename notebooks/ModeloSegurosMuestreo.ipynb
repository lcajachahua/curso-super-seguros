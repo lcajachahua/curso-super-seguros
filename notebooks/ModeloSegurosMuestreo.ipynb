{
 "cells": [
  {
   "cell_type": "markdown",
   "metadata": {
    "colab_type": "text",
    "id": "b8i4MkfOtI3N"
   },
   "source": [
    "# **Caso: Reclamos en una Empresa de Seguros**\n",
    "\n",
    "El objetivo es construir un modelo para poder calcular la probabilidad de que un cliente presente un reclamo de seguro. Como la proporción de clientes que cumplen con esta condición es reducida, aprovecharemos este caso para probar distintos métodos de balanceo de muestras.\n",
    "\n",
    "https://www.kaggle.com/c/porto-seguro-safe-driver-prediction/data\n"
   ]
  },
  {
   "cell_type": "code",
   "execution_count": 1,
   "metadata": {
    "colab": {
     "base_uri": "https://localhost:8080/",
     "height": 71
    },
    "colab_type": "code",
    "executionInfo": {
     "elapsed": 1072,
     "status": "ok",
     "timestamp": 1588348742428,
     "user": {
      "displayName": "LC",
      "photoUrl": "",
      "userId": "01596675882994571196"
     },
     "user_tz": 300
    },
    "id": "_yGu867VsrU2",
    "outputId": "0bf3fb21-e2e5-429c-80c3-bcb70acefb51"
   },
   "outputs": [],
   "source": [
    "## Podemos hacer el balanceo de manera artesanal, para entender las lógicas.\n",
    "import numpy as np\n",
    "import pandas as pd\n",
    "import matplotlib.pyplot as plt\n",
    "import seaborn as sns"
   ]
  },
  {
   "cell_type": "markdown",
   "metadata": {
    "colab_type": "text",
    "id": "V2zHy1KRmMas"
   },
   "source": [
    "### **Carga de la base de datos**\n",
    "\n",
    "Desarrollar el mejor modelo de propensión que prediga si se logrará la venta de un préstamo digital."
   ]
  },
  {
   "cell_type": "code",
   "execution_count": 2,
   "metadata": {
    "colab": {},
    "colab_type": "code",
    "id": "2YXJcHufxtqW"
   },
   "outputs": [],
   "source": [
    "train = pd.read_csv('train.csv')"
   ]
  },
  {
   "cell_type": "code",
   "execution_count": 3,
   "metadata": {
    "colab": {
     "base_uri": "https://localhost:8080/",
     "height": 292
    },
    "colab_type": "code",
    "executionInfo": {
     "elapsed": 691,
     "status": "ok",
     "timestamp": 1588351854875,
     "user": {
      "displayName": "LC",
      "photoUrl": "",
      "userId": "01596675882994571196"
     },
     "user_tz": 300
    },
    "id": "yY7z1Keextsx",
    "outputId": "32e5a8e2-ce33-49d6-bbd3-543e127f97b0"
   },
   "outputs": [
    {
     "data": {
      "text/html": [
       "<div>\n",
       "<style scoped>\n",
       "    .dataframe tbody tr th:only-of-type {\n",
       "        vertical-align: middle;\n",
       "    }\n",
       "\n",
       "    .dataframe tbody tr th {\n",
       "        vertical-align: top;\n",
       "    }\n",
       "\n",
       "    .dataframe thead th {\n",
       "        text-align: right;\n",
       "    }\n",
       "</style>\n",
       "<table border=\"1\" class=\"dataframe\">\n",
       "  <thead>\n",
       "    <tr style=\"text-align: right;\">\n",
       "      <th></th>\n",
       "      <th>id</th>\n",
       "      <th>target</th>\n",
       "      <th>ps_ind_01</th>\n",
       "      <th>ps_ind_02_cat</th>\n",
       "      <th>ps_ind_03</th>\n",
       "      <th>ps_ind_04_cat</th>\n",
       "      <th>ps_ind_05_cat</th>\n",
       "      <th>ps_ind_06_bin</th>\n",
       "      <th>ps_ind_07_bin</th>\n",
       "      <th>ps_ind_08_bin</th>\n",
       "      <th>...</th>\n",
       "      <th>ps_calc_11</th>\n",
       "      <th>ps_calc_12</th>\n",
       "      <th>ps_calc_13</th>\n",
       "      <th>ps_calc_14</th>\n",
       "      <th>ps_calc_15_bin</th>\n",
       "      <th>ps_calc_16_bin</th>\n",
       "      <th>ps_calc_17_bin</th>\n",
       "      <th>ps_calc_18_bin</th>\n",
       "      <th>ps_calc_19_bin</th>\n",
       "      <th>ps_calc_20_bin</th>\n",
       "    </tr>\n",
       "  </thead>\n",
       "  <tbody>\n",
       "    <tr>\n",
       "      <th>0</th>\n",
       "      <td>7</td>\n",
       "      <td>0</td>\n",
       "      <td>2</td>\n",
       "      <td>2</td>\n",
       "      <td>5</td>\n",
       "      <td>1</td>\n",
       "      <td>0</td>\n",
       "      <td>0</td>\n",
       "      <td>1</td>\n",
       "      <td>0</td>\n",
       "      <td>...</td>\n",
       "      <td>9</td>\n",
       "      <td>1</td>\n",
       "      <td>5</td>\n",
       "      <td>8</td>\n",
       "      <td>0</td>\n",
       "      <td>1</td>\n",
       "      <td>1</td>\n",
       "      <td>0</td>\n",
       "      <td>0</td>\n",
       "      <td>1</td>\n",
       "    </tr>\n",
       "    <tr>\n",
       "      <th>1</th>\n",
       "      <td>9</td>\n",
       "      <td>0</td>\n",
       "      <td>1</td>\n",
       "      <td>1</td>\n",
       "      <td>7</td>\n",
       "      <td>0</td>\n",
       "      <td>0</td>\n",
       "      <td>0</td>\n",
       "      <td>0</td>\n",
       "      <td>1</td>\n",
       "      <td>...</td>\n",
       "      <td>3</td>\n",
       "      <td>1</td>\n",
       "      <td>1</td>\n",
       "      <td>9</td>\n",
       "      <td>0</td>\n",
       "      <td>1</td>\n",
       "      <td>1</td>\n",
       "      <td>0</td>\n",
       "      <td>1</td>\n",
       "      <td>0</td>\n",
       "    </tr>\n",
       "    <tr>\n",
       "      <th>2</th>\n",
       "      <td>13</td>\n",
       "      <td>0</td>\n",
       "      <td>5</td>\n",
       "      <td>4</td>\n",
       "      <td>9</td>\n",
       "      <td>1</td>\n",
       "      <td>0</td>\n",
       "      <td>0</td>\n",
       "      <td>0</td>\n",
       "      <td>1</td>\n",
       "      <td>...</td>\n",
       "      <td>4</td>\n",
       "      <td>2</td>\n",
       "      <td>7</td>\n",
       "      <td>7</td>\n",
       "      <td>0</td>\n",
       "      <td>1</td>\n",
       "      <td>1</td>\n",
       "      <td>0</td>\n",
       "      <td>1</td>\n",
       "      <td>0</td>\n",
       "    </tr>\n",
       "    <tr>\n",
       "      <th>3</th>\n",
       "      <td>16</td>\n",
       "      <td>0</td>\n",
       "      <td>0</td>\n",
       "      <td>1</td>\n",
       "      <td>2</td>\n",
       "      <td>0</td>\n",
       "      <td>0</td>\n",
       "      <td>1</td>\n",
       "      <td>0</td>\n",
       "      <td>0</td>\n",
       "      <td>...</td>\n",
       "      <td>2</td>\n",
       "      <td>2</td>\n",
       "      <td>4</td>\n",
       "      <td>9</td>\n",
       "      <td>0</td>\n",
       "      <td>0</td>\n",
       "      <td>0</td>\n",
       "      <td>0</td>\n",
       "      <td>0</td>\n",
       "      <td>0</td>\n",
       "    </tr>\n",
       "    <tr>\n",
       "      <th>4</th>\n",
       "      <td>17</td>\n",
       "      <td>0</td>\n",
       "      <td>0</td>\n",
       "      <td>2</td>\n",
       "      <td>0</td>\n",
       "      <td>1</td>\n",
       "      <td>0</td>\n",
       "      <td>1</td>\n",
       "      <td>0</td>\n",
       "      <td>0</td>\n",
       "      <td>...</td>\n",
       "      <td>3</td>\n",
       "      <td>1</td>\n",
       "      <td>1</td>\n",
       "      <td>3</td>\n",
       "      <td>0</td>\n",
       "      <td>0</td>\n",
       "      <td>0</td>\n",
       "      <td>1</td>\n",
       "      <td>1</td>\n",
       "      <td>0</td>\n",
       "    </tr>\n",
       "  </tbody>\n",
       "</table>\n",
       "<p>5 rows × 59 columns</p>\n",
       "</div>"
      ],
      "text/plain": [
       "   id  target  ps_ind_01  ps_ind_02_cat  ps_ind_03  ps_ind_04_cat  \\\n",
       "0   7       0          2              2          5              1   \n",
       "1   9       0          1              1          7              0   \n",
       "2  13       0          5              4          9              1   \n",
       "3  16       0          0              1          2              0   \n",
       "4  17       0          0              2          0              1   \n",
       "\n",
       "   ps_ind_05_cat  ps_ind_06_bin  ps_ind_07_bin  ps_ind_08_bin  ...  \\\n",
       "0              0              0              1              0  ...   \n",
       "1              0              0              0              1  ...   \n",
       "2              0              0              0              1  ...   \n",
       "3              0              1              0              0  ...   \n",
       "4              0              1              0              0  ...   \n",
       "\n",
       "   ps_calc_11  ps_calc_12  ps_calc_13  ps_calc_14  ps_calc_15_bin  \\\n",
       "0           9           1           5           8               0   \n",
       "1           3           1           1           9               0   \n",
       "2           4           2           7           7               0   \n",
       "3           2           2           4           9               0   \n",
       "4           3           1           1           3               0   \n",
       "\n",
       "   ps_calc_16_bin  ps_calc_17_bin  ps_calc_18_bin  ps_calc_19_bin  \\\n",
       "0               1               1               0               0   \n",
       "1               1               1               0               1   \n",
       "2               1               1               0               1   \n",
       "3               0               0               0               0   \n",
       "4               0               0               1               1   \n",
       "\n",
       "   ps_calc_20_bin  \n",
       "0               1  \n",
       "1               0  \n",
       "2               0  \n",
       "3               0  \n",
       "4               0  \n",
       "\n",
       "[5 rows x 59 columns]"
      ]
     },
     "execution_count": 3,
     "metadata": {},
     "output_type": "execute_result"
    }
   ],
   "source": [
    "train.head(5)"
   ]
  },
  {
   "cell_type": "code",
   "execution_count": 4,
   "metadata": {
    "colab": {
     "base_uri": "https://localhost:8080/",
     "height": 68
    },
    "colab_type": "code",
    "executionInfo": {
     "elapsed": 898,
     "status": "ok",
     "timestamp": 1588294720419,
     "user": {
      "displayName": "LC",
      "photoUrl": "",
      "userId": "01596675882994571196"
     },
     "user_tz": 300
    },
    "id": "h3rHm-XvxtvK",
    "outputId": "2d6165df-b87a-47a5-b08f-31cc15116ce0"
   },
   "outputs": [
    {
     "data": {
      "text/plain": [
       "target\n",
       "0    0.963552\n",
       "1    0.036448\n",
       "Name: proportion, dtype: float64"
      ]
     },
     "execution_count": 4,
     "metadata": {},
     "output_type": "execute_result"
    }
   ],
   "source": [
    "train.target.value_counts(normalize=True)"
   ]
  },
  {
   "cell_type": "code",
   "execution_count": 5,
   "metadata": {},
   "outputs": [
    {
     "data": {
      "text/plain": [
       "target\n",
       "0    573518\n",
       "1     21694\n",
       "Name: count, dtype: int64"
      ]
     },
     "execution_count": 5,
     "metadata": {},
     "output_type": "execute_result"
    }
   ],
   "source": [
    "train.target.value_counts()"
   ]
  },
  {
   "cell_type": "code",
   "execution_count": 49,
   "metadata": {},
   "outputs": [
    {
     "data": {
      "image/png": "[encoded data removed]",
      "text/plain": [
       "<Figure size 640x480 with 1 Axes>"
      ]
     },
     "metadata": {},
     "output_type": "display_data"
    }
   ],
   "source": [
    "train.target.value_counts().plot(kind='bar', title='Count (target)');"
   ]
  },
  {
   "cell_type": "code",
   "execution_count": 9,
   "metadata": {
    "colab": {},
    "colab_type": "code",
    "id": "zAfkRmL8xtxb"
   },
   "outputs": [
    {
     "data": {
      "text/plain": [
       "id                  int64\n",
       "target              int64\n",
       "ps_ind_01           int64\n",
       "ps_ind_02_cat       int64\n",
       "ps_ind_03           int64\n",
       "ps_ind_04_cat       int64\n",
       "ps_ind_05_cat       int64\n",
       "ps_ind_06_bin       int64\n",
       "ps_ind_07_bin       int64\n",
       "ps_ind_08_bin       int64\n",
       "ps_ind_09_bin       int64\n",
       "ps_ind_10_bin       int64\n",
       "ps_ind_11_bin       int64\n",
       "ps_ind_12_bin       int64\n",
       "ps_ind_13_bin       int64\n",
       "ps_ind_14           int64\n",
       "ps_ind_15           int64\n",
       "ps_ind_16_bin       int64\n",
       "ps_ind_17_bin       int64\n",
       "ps_ind_18_bin       int64\n",
       "ps_reg_01         float64\n",
       "ps_reg_02         float64\n",
       "ps_reg_03         float64\n",
       "ps_car_01_cat       int64\n",
       "ps_car_02_cat       int64\n",
       "ps_car_03_cat       int64\n",
       "ps_car_04_cat       int64\n",
       "ps_car_05_cat       int64\n",
       "ps_car_06_cat       int64\n",
       "ps_car_07_cat       int64\n",
       "ps_car_08_cat       int64\n",
       "ps_car_09_cat       int64\n",
       "ps_car_10_cat       int64\n",
       "ps_car_11_cat       int64\n",
       "ps_car_11           int64\n",
       "ps_car_12         float64\n",
       "ps_car_13         float64\n",
       "ps_car_14         float64\n",
       "ps_car_15         float64\n",
       "ps_calc_01        float64\n",
       "ps_calc_02        float64\n",
       "ps_calc_03        float64\n",
       "ps_calc_04          int64\n",
       "ps_calc_05          int64\n",
       "ps_calc_06          int64\n",
       "ps_calc_07          int64\n",
       "ps_calc_08          int64\n",
       "ps_calc_09          int64\n",
       "ps_calc_10          int64\n",
       "ps_calc_11          int64\n",
       "ps_calc_12          int64\n",
       "ps_calc_13          int64\n",
       "ps_calc_14          int64\n",
       "ps_calc_15_bin      int64\n",
       "ps_calc_16_bin      int64\n",
       "ps_calc_17_bin      int64\n",
       "ps_calc_18_bin      int64\n",
       "ps_calc_19_bin      int64\n",
       "ps_calc_20_bin      int64\n",
       "dtype: object"
      ]
     },
     "execution_count": 9,
     "metadata": {},
     "output_type": "execute_result"
    }
   ],
   "source": [
    "train.dtypes"
   ]
  },
  {
   "cell_type": "code",
   "execution_count": 10,
   "metadata": {},
   "outputs": [
    {
     "name": "stdout",
     "output_type": "stream",
     "text": [
      "Data for Modeling: (535691, 59)\n",
      "Unseen Data For Predictions: (59521, 59)\n"
     ]
    }
   ],
   "source": [
    "df = train.sample(frac=0.9, random_state=1000)\n",
    "df_unseen = train.drop(df.index)\n",
    "df.reset_index(inplace=True, drop=True)\n",
    "df_unseen.reset_index(inplace=True, drop=True)\n",
    "print('Data for Modeling: ' + str(df.shape))\n",
    "print('Unseen Data For Predictions: ' + str(df_unseen.shape))"
   ]
  },
  {
   "cell_type": "code",
   "execution_count": 11,
   "metadata": {},
   "outputs": [
    {
     "data": {
      "text/plain": [
       "target\n",
       "0    516201\n",
       "1     19490\n",
       "Name: count, dtype: int64"
      ]
     },
     "execution_count": 11,
     "metadata": {},
     "output_type": "execute_result"
    }
   ],
   "source": [
    "df.target.value_counts()"
   ]
  },
  {
   "cell_type": "markdown",
   "metadata": {
    "colab_type": "text",
    "id": "4cGPzgkgf07u"
   },
   "source": [
    "### Modelos con la muestra completa"
   ]
  },
  {
   "cell_type": "code",
   "execution_count": 12,
   "metadata": {
    "colab": {},
    "colab_type": "code",
    "id": "lR2S2WsFsrcW"
   },
   "outputs": [],
   "source": [
    "from sklearn.model_selection import train_test_split\n",
    "from sklearn.metrics import classification_report, confusion_matrix, accuracy_score, precision_score, recall_score, f1_score\n",
    "from sklearn.tree import DecisionTreeClassifier\n",
    "from sklearn.ensemble import RandomForestClassifier\n",
    "import xgboost as xgb"
   ]
  },
  {
   "cell_type": "code",
   "execution_count": 13,
   "metadata": {
    "colab": {},
    "colab_type": "code",
    "id": "eiLO-qVwirej"
   },
   "outputs": [],
   "source": [
    "# limpieza básica\n",
    "df = df.drop(['id'], axis=1)"
   ]
  },
  {
   "cell_type": "code",
   "execution_count": 14,
   "metadata": {
    "colab": {},
    "colab_type": "code",
    "id": "3gp3Pkkuf0Uk"
   },
   "outputs": [],
   "source": [
    "#Separación de predictoras y predicha\n",
    "X = df.drop('target', axis=1)\n",
    "y = df['target']"
   ]
  },
  {
   "cell_type": "code",
   "execution_count": 15,
   "metadata": {
    "colab": {},
    "colab_type": "code",
    "id": "aN4OoNU0f_cz"
   },
   "outputs": [],
   "source": [
    "#Creación de muestras de train y test\n",
    "X_train, X_test, y_train, y_test = train_test_split(X, y, test_size=0.3, random_state=22)"
   ]
  },
  {
   "cell_type": "code",
   "execution_count": 16,
   "metadata": {
    "colab": {
     "base_uri": "https://localhost:8080/",
     "height": 34
    },
    "colab_type": "code",
    "executionInfo": {
     "elapsed": 782,
     "status": "ok",
     "timestamp": 1588294842990,
     "user": {
      "displayName": "LC",
      "photoUrl": "",
      "userId": "01596675882994571196"
     },
     "user_tz": 300
    },
    "id": "MqdEO5H8v75g",
    "outputId": "a82014e1-f16f-498a-8651-d49b367de725"
   },
   "outputs": [
    {
     "data": {
      "text/plain": [
       "((374983, 57), (374983,))"
      ]
     },
     "execution_count": 16,
     "metadata": {},
     "output_type": "execute_result"
    }
   ],
   "source": [
    "X_train.shape, y_train.shape"
   ]
  },
  {
   "cell_type": "code",
   "execution_count": 17,
   "metadata": {
    "colab": {
     "base_uri": "https://localhost:8080/",
     "height": 34
    },
    "colab_type": "code",
    "executionInfo": {
     "elapsed": 939,
     "status": "ok",
     "timestamp": 1588294862678,
     "user": {
      "displayName": "LC",
      "photoUrl": "",
      "userId": "01596675882994571196"
     },
     "user_tz": 300
    },
    "id": "JMixsjFdwAM_",
    "outputId": "0131448c-5236-4215-f582-f96be57d4625"
   },
   "outputs": [
    {
     "data": {
      "text/plain": [
       "((160708, 57), (160708,))"
      ]
     },
     "execution_count": 17,
     "metadata": {},
     "output_type": "execute_result"
    }
   ],
   "source": [
    "X_test.shape, y_test.shape"
   ]
  },
  {
   "cell_type": "markdown",
   "metadata": {},
   "source": [
    "### Modelo Decision Tree"
   ]
  },
  {
   "cell_type": "code",
   "execution_count": 18,
   "metadata": {
    "colab": {},
    "colab_type": "code",
    "id": "NvqIXicxf_fJ"
   },
   "outputs": [],
   "source": [
    "tree = DecisionTreeClassifier()\n",
    "tree_model = tree.fit(X_train, y_train)\n",
    "Y_pred = tree_model.predict(X_test)"
   ]
  },
  {
   "cell_type": "code",
   "execution_count": 19,
   "metadata": {},
   "outputs": [],
   "source": [
    "ind = pd.DataFrame(columns = ['Modelo', 'Muestra', 'Tamaño', 'Accuracy', 'Precision', 'Recall', 'F1Score'])"
   ]
  },
  {
   "cell_type": "code",
   "execution_count": 23,
   "metadata": {},
   "outputs": [
    {
     "name": "stdout",
     "output_type": "stream",
     "text": [
      "Matriz confusion: Test\n",
      "[[147239   7547]\n",
      " [  5555    367]]\n"
     ]
    }
   ],
   "source": [
    "print(\"Matriz confusion: Test\")\n",
    "print(confusion_matrix(y_test,Y_pred))\n",
    "\n",
    "new = pd.DataFrame([{'Modelo' : 'DecisionTree', 'Muestra' : 'Test', 'Tamaño': len(Y_pred), 'Accuracy' : accuracy_score(y_test,Y_pred), \n",
    "                  'Precision' : precision_score(y_test,Y_pred), 'Recall' : recall_score(y_test,Y_pred), 'F1Score' : f1_score(y_test,Y_pred)}])\n",
    "ind = pd.concat([ind, new], ignore_index=True)"
   ]
  },
  {
   "cell_type": "code",
   "execution_count": null,
   "metadata": {},
   "outputs": [
    {
     "name": "stdout",
     "output_type": "stream",
     "text": [
      "Matriz confusion: Unseen\n",
      "[[54520  2797]\n",
      " [ 2067   137]]\n"
     ]
    },
    {
     "data": {
      "text/html": [
       "<div>\n",
       "<style scoped>\n",
       "    .dataframe tbody tr th:only-of-type {\n",
       "        vertical-align: middle;\n",
       "    }\n",
       "\n",
       "    .dataframe tbody tr th {\n",
       "        vertical-align: top;\n",
       "    }\n",
       "\n",
       "    .dataframe thead th {\n",
       "        text-align: right;\n",
       "    }\n",
       "</style>\n",
       "<table border=\"1\" class=\"dataframe\">\n",
       "  <thead>\n",
       "    <tr style=\"text-align: right;\">\n",
       "      <th></th>\n",
       "      <th>Modelo</th>\n",
       "      <th>Muestra</th>\n",
       "      <th>Tamaño</th>\n",
       "      <th>Accuracy</th>\n",
       "      <th>Precision</th>\n",
       "      <th>Recall</th>\n",
       "      <th>F1Score</th>\n",
       "    </tr>\n",
       "  </thead>\n",
       "  <tbody>\n",
       "    <tr>\n",
       "      <th>0</th>\n",
       "      <td>DecisionTree</td>\n",
       "      <td>Test</td>\n",
       "      <td>160708</td>\n",
       "      <td>0.918473</td>\n",
       "      <td>0.046374</td>\n",
       "      <td>0.061972</td>\n",
       "      <td>0.053050</td>\n",
       "    </tr>\n",
       "    <tr>\n",
       "      <th>1</th>\n",
       "      <td>DecisionTree</td>\n",
       "      <td>Reserva</td>\n",
       "      <td>59521</td>\n",
       "      <td>0.918281</td>\n",
       "      <td>0.046694</td>\n",
       "      <td>0.062160</td>\n",
       "      <td>0.053328</td>\n",
       "    </tr>\n",
       "  </tbody>\n",
       "</table>\n",
       "</div>"
      ],
      "text/plain": [
       "         Modelo  Muestra  Tamaño  Accuracy  Precision    Recall   F1Score\n",
       "0  DecisionTree     Test  160708  0.918473   0.046374  0.061972  0.053050\n",
       "1  DecisionTree  Reserva   59521  0.918281   0.046694  0.062160  0.053328"
      ]
     },
     "execution_count": 25,
     "metadata": {},
     "output_type": "execute_result"
    }
   ],
   "source": [
    "# Almacenamos las probabilidades\n",
    "y_real = df_unseen['target']\n",
    "Y_pred = tree_model.predict(df_unseen.drop(['id','target'], axis=1))\n",
    "U_pred = tree_model.predict_proba(df_unseen.drop(['id','target'], axis=1))[:,1]\n",
    "datos = np.hstack((df_unseen['id'].values.reshape(-1,1), df_unseen['target'].values.reshape(-1,1), U_pred.reshape(-1,1)))\n",
    "df_submmit = pd.DataFrame(datos, columns=['id','real','prob'])\n",
    "df_submmit.to_csv('com_tree.csv', index=False)\n",
    "\n",
    "print(\"Matriz confusion: Unseen\")\n",
    "print(confusion_matrix(y_real,Y_pred))\n",
    "\n",
    "new = pd.DataFrame([{'Modelo' : 'DecisionTree', 'Muestra' : 'Reserva', 'Tamaño': len(Y_pred), 'Accuracy' : accuracy_score(y_real,Y_pred), \n",
    "                  'Precision' : precision_score(y_real,Y_pred), 'Recall' : recall_score(y_real,Y_pred), 'F1Score' : f1_score(y_real,Y_pred)}])\n",
    "ind = pd.concat([ind, new], ignore_index=True)\n",
    "ind.head()"
   ]
  },
  {
   "cell_type": "markdown",
   "metadata": {},
   "source": [
    "### Modelo XGBoost"
   ]
  },
  {
   "cell_type": "code",
   "execution_count": 26,
   "metadata": {
    "colab": {},
    "colab_type": "code",
    "id": "0DbUhybuf0XI"
   },
   "outputs": [],
   "source": [
    "xgb_mod=xgb.XGBClassifier()\n",
    "xgb_mod.fit(X_train, y_train)\n",
    "Y_pred= xgb_mod.predict(X_test)"
   ]
  },
  {
   "cell_type": "code",
   "execution_count": 27,
   "metadata": {},
   "outputs": [
    {
     "name": "stdout",
     "output_type": "stream",
     "text": [
      "Matriz confusion: Test\n",
      "[[154773     13]\n",
      " [  5917      5]]\n"
     ]
    }
   ],
   "source": [
    "print(\"Matriz confusion: Test\")\n",
    "print(confusion_matrix(y_test,Y_pred))\n",
    "\n",
    "new = pd.DataFrame([{'Modelo' : 'XGBoost', 'Muestra' : 'Test', 'Tamaño': len(Y_pred), 'Accuracy' : accuracy_score(y_test,Y_pred), \n",
    "                  'Precision' : precision_score(y_test,Y_pred), 'Recall' : recall_score(y_test,Y_pred), 'F1Score' : f1_score(y_test,Y_pred)}])\n",
    "ind = pd.concat([ind, new], ignore_index=True)"
   ]
  },
  {
   "cell_type": "code",
   "execution_count": 28,
   "metadata": {},
   "outputs": [
    {
     "name": "stdout",
     "output_type": "stream",
     "text": [
      "Matriz confusion: Unseen\n",
      "[[57314     3]\n",
      " [ 2202     2]]\n"
     ]
    },
    {
     "data": {
      "text/html": [
       "<div>\n",
       "<style scoped>\n",
       "    .dataframe tbody tr th:only-of-type {\n",
       "        vertical-align: middle;\n",
       "    }\n",
       "\n",
       "    .dataframe tbody tr th {\n",
       "        vertical-align: top;\n",
       "    }\n",
       "\n",
       "    .dataframe thead th {\n",
       "        text-align: right;\n",
       "    }\n",
       "</style>\n",
       "<table border=\"1\" class=\"dataframe\">\n",
       "  <thead>\n",
       "    <tr style=\"text-align: right;\">\n",
       "      <th></th>\n",
       "      <th>Modelo</th>\n",
       "      <th>Muestra</th>\n",
       "      <th>Tamaño</th>\n",
       "      <th>Accuracy</th>\n",
       "      <th>Precision</th>\n",
       "      <th>Recall</th>\n",
       "      <th>F1Score</th>\n",
       "    </tr>\n",
       "  </thead>\n",
       "  <tbody>\n",
       "    <tr>\n",
       "      <th>0</th>\n",
       "      <td>DecisionTree</td>\n",
       "      <td>Test</td>\n",
       "      <td>160708</td>\n",
       "      <td>0.918473</td>\n",
       "      <td>0.046374</td>\n",
       "      <td>0.061972</td>\n",
       "      <td>0.053050</td>\n",
       "    </tr>\n",
       "    <tr>\n",
       "      <th>1</th>\n",
       "      <td>DecisionTree</td>\n",
       "      <td>Reserva</td>\n",
       "      <td>59521</td>\n",
       "      <td>0.918281</td>\n",
       "      <td>0.046694</td>\n",
       "      <td>0.062160</td>\n",
       "      <td>0.053328</td>\n",
       "    </tr>\n",
       "    <tr>\n",
       "      <th>2</th>\n",
       "      <td>XGBoost</td>\n",
       "      <td>Test</td>\n",
       "      <td>160708</td>\n",
       "      <td>0.963101</td>\n",
       "      <td>0.277778</td>\n",
       "      <td>0.000844</td>\n",
       "      <td>0.001684</td>\n",
       "    </tr>\n",
       "    <tr>\n",
       "      <th>3</th>\n",
       "      <td>XGBoost</td>\n",
       "      <td>Reserva</td>\n",
       "      <td>59521</td>\n",
       "      <td>0.962954</td>\n",
       "      <td>0.400000</td>\n",
       "      <td>0.000907</td>\n",
       "      <td>0.001811</td>\n",
       "    </tr>\n",
       "  </tbody>\n",
       "</table>\n",
       "</div>"
      ],
      "text/plain": [
       "         Modelo  Muestra  Tamaño  Accuracy  Precision    Recall   F1Score\n",
       "0  DecisionTree     Test  160708  0.918473   0.046374  0.061972  0.053050\n",
       "1  DecisionTree  Reserva   59521  0.918281   0.046694  0.062160  0.053328\n",
       "2       XGBoost     Test  160708  0.963101   0.277778  0.000844  0.001684\n",
       "3       XGBoost  Reserva   59521  0.962954   0.400000  0.000907  0.001811"
      ]
     },
     "execution_count": 28,
     "metadata": {},
     "output_type": "execute_result"
    }
   ],
   "source": [
    "# Almacenamos las probabilidades\n",
    "y_real = df_unseen['target']\n",
    "Y_pred = xgb_mod.predict(df_unseen.drop(['id','target'], axis=1))\n",
    "U_pred = xgb_mod.predict_proba(df_unseen.drop(['id','target'], axis=1))[:,1]\n",
    "datos = np.hstack((df_unseen['id'].values.reshape(-1,1), df_unseen['target'].values.reshape(-1,1), U_pred.reshape(-1,1)))\n",
    "df_submmit = pd.DataFrame(datos, columns=['id','real','prob'])\n",
    "df_submmit.to_csv('com_xgb.csv', index=False)\n",
    "\n",
    "print(\"Matriz confusion: Unseen\")\n",
    "print(confusion_matrix(y_real,Y_pred))\n",
    "\n",
    "new = pd.DataFrame([{'Modelo' : 'XGBoost', 'Muestra' : 'Reserva', 'Tamaño': len(Y_pred), 'Accuracy' : accuracy_score(y_real,Y_pred), \n",
    "                  'Precision' : precision_score(y_real,Y_pred), 'Recall' : recall_score(y_real,Y_pred), 'F1Score' : f1_score(y_real,Y_pred)}])\n",
    "ind = pd.concat([ind, new], ignore_index=True)\n",
    "ind.head()"
   ]
  },
  {
   "cell_type": "markdown",
   "metadata": {},
   "source": [
    "### Modelo RandomForest"
   ]
  },
  {
   "cell_type": "code",
   "execution_count": 29,
   "metadata": {},
   "outputs": [],
   "source": [
    "rf = RandomForestClassifier()\n",
    "rf.fit(X_train, y_train)\n",
    "Y_pred=rf.predict(X_test)"
   ]
  },
  {
   "cell_type": "code",
   "execution_count": 30,
   "metadata": {},
   "outputs": [
    {
     "name": "stdout",
     "output_type": "stream",
     "text": [
      "Matriz confusion: Test\n",
      "[[154782      4]\n",
      " [  5920      2]]\n"
     ]
    }
   ],
   "source": [
    "print(\"Matriz confusion: Test\")\n",
    "print(confusion_matrix(y_test,Y_pred))\n",
    "\n",
    "new = pd.DataFrame([{'Modelo' : 'RandomForest', 'Muestra' : 'Test', 'Tamaño': len(Y_pred), 'Accuracy' : accuracy_score(y_test,Y_pred), \n",
    "                  'Precision' : precision_score(y_test,Y_pred), 'Recall' : recall_score(y_test,Y_pred), 'F1Score' : f1_score(y_test,Y_pred)}])\n",
    "ind = pd.concat([ind, new], ignore_index=True)"
   ]
  },
  {
   "cell_type": "code",
   "execution_count": 31,
   "metadata": {},
   "outputs": [
    {
     "name": "stdout",
     "output_type": "stream",
     "text": [
      "Matriz confusion: Unseen\n",
      "[[57317     0]\n",
      " [ 2204     0]]\n"
     ]
    },
    {
     "name": "stderr",
     "output_type": "stream",
     "text": [
      "C:\\TDAPPS\\anaconda3\\lib\\site-packages\\sklearn\\metrics\\_classification.py:1344: UndefinedMetricWarning: Precision is ill-defined and being set to 0.0 due to no predicted samples. Use `zero_division` parameter to control this behavior.\n",
      "  _warn_prf(average, modifier, msg_start, len(result))\n"
     ]
    },
    {
     "data": {
      "text/html": [
       "<div>\n",
       "<style scoped>\n",
       "    .dataframe tbody tr th:only-of-type {\n",
       "        vertical-align: middle;\n",
       "    }\n",
       "\n",
       "    .dataframe tbody tr th {\n",
       "        vertical-align: top;\n",
       "    }\n",
       "\n",
       "    .dataframe thead th {\n",
       "        text-align: right;\n",
       "    }\n",
       "</style>\n",
       "<table border=\"1\" class=\"dataframe\">\n",
       "  <thead>\n",
       "    <tr style=\"text-align: right;\">\n",
       "      <th></th>\n",
       "      <th>Modelo</th>\n",
       "      <th>Muestra</th>\n",
       "      <th>Tamaño</th>\n",
       "      <th>Accuracy</th>\n",
       "      <th>Precision</th>\n",
       "      <th>Recall</th>\n",
       "      <th>F1Score</th>\n",
       "    </tr>\n",
       "  </thead>\n",
       "  <tbody>\n",
       "    <tr>\n",
       "      <th>0</th>\n",
       "      <td>DecisionTree</td>\n",
       "      <td>Test</td>\n",
       "      <td>160708</td>\n",
       "      <td>0.918473</td>\n",
       "      <td>0.046374</td>\n",
       "      <td>0.061972</td>\n",
       "      <td>0.053050</td>\n",
       "    </tr>\n",
       "    <tr>\n",
       "      <th>1</th>\n",
       "      <td>DecisionTree</td>\n",
       "      <td>Reserva</td>\n",
       "      <td>59521</td>\n",
       "      <td>0.918281</td>\n",
       "      <td>0.046694</td>\n",
       "      <td>0.062160</td>\n",
       "      <td>0.053328</td>\n",
       "    </tr>\n",
       "    <tr>\n",
       "      <th>2</th>\n",
       "      <td>XGBoost</td>\n",
       "      <td>Test</td>\n",
       "      <td>160708</td>\n",
       "      <td>0.963101</td>\n",
       "      <td>0.277778</td>\n",
       "      <td>0.000844</td>\n",
       "      <td>0.001684</td>\n",
       "    </tr>\n",
       "    <tr>\n",
       "      <th>3</th>\n",
       "      <td>XGBoost</td>\n",
       "      <td>Reserva</td>\n",
       "      <td>59521</td>\n",
       "      <td>0.962954</td>\n",
       "      <td>0.400000</td>\n",
       "      <td>0.000907</td>\n",
       "      <td>0.001811</td>\n",
       "    </tr>\n",
       "    <tr>\n",
       "      <th>4</th>\n",
       "      <td>RandomForest</td>\n",
       "      <td>Test</td>\n",
       "      <td>160708</td>\n",
       "      <td>0.963138</td>\n",
       "      <td>0.333333</td>\n",
       "      <td>0.000338</td>\n",
       "      <td>0.000675</td>\n",
       "    </tr>\n",
       "    <tr>\n",
       "      <th>5</th>\n",
       "      <td>RandomForest</td>\n",
       "      <td>Reserva</td>\n",
       "      <td>59521</td>\n",
       "      <td>0.962971</td>\n",
       "      <td>0.000000</td>\n",
       "      <td>0.000000</td>\n",
       "      <td>0.000000</td>\n",
       "    </tr>\n",
       "  </tbody>\n",
       "</table>\n",
       "</div>"
      ],
      "text/plain": [
       "         Modelo  Muestra  Tamaño  Accuracy  Precision    Recall   F1Score\n",
       "0  DecisionTree     Test  160708  0.918473   0.046374  0.061972  0.053050\n",
       "1  DecisionTree  Reserva   59521  0.918281   0.046694  0.062160  0.053328\n",
       "2       XGBoost     Test  160708  0.963101   0.277778  0.000844  0.001684\n",
       "3       XGBoost  Reserva   59521  0.962954   0.400000  0.000907  0.001811\n",
       "4  RandomForest     Test  160708  0.963138   0.333333  0.000338  0.000675\n",
       "5  RandomForest  Reserva   59521  0.962971   0.000000  0.000000  0.000000"
      ]
     },
     "execution_count": 31,
     "metadata": {},
     "output_type": "execute_result"
    }
   ],
   "source": [
    "# Almacenamos las probabilidades\n",
    "y_real = df_unseen['target']\n",
    "Y_pred = rf.predict(df_unseen.drop(['id','target'], axis=1))\n",
    "U_pred = rf.predict_proba(df_unseen.drop(['id','target'], axis=1))[:,1]\n",
    "datos = np.hstack((df_unseen['id'].values.reshape(-1,1), df_unseen['target'].values.reshape(-1,1), U_pred.reshape(-1,1)))\n",
    "df_submmit = pd.DataFrame(datos, columns=['id','real','prob'])\n",
    "df_submmit.to_csv('com_rf.csv', index=False)\n",
    "\n",
    "print(\"Matriz confusion: Unseen\")\n",
    "print(confusion_matrix(y_real,Y_pred))\n",
    "\n",
    "new = pd.DataFrame([{'Modelo' : 'RandomForest', 'Muestra' : 'Reserva', 'Tamaño': len(Y_pred), 'Accuracy' : accuracy_score(y_real,Y_pred), \n",
    "                  'Precision' : precision_score(y_real,Y_pred), 'Recall' : recall_score(y_real,Y_pred), 'F1Score' : f1_score(y_real,Y_pred)}])\n",
    "ind = pd.concat([ind, new], ignore_index=True)\n",
    "ind"
   ]
  },
  {
   "cell_type": "markdown",
   "metadata": {
    "colab_type": "text",
    "id": "c7aNeXw6lBa8"
   },
   "source": [
    "## **Resampling**"
   ]
  },
  {
   "cell_type": "code",
   "execution_count": 32,
   "metadata": {
    "colab": {},
    "colab_type": "code",
    "id": "jNDXj7lcnYMc"
   },
   "outputs": [],
   "source": [
    "# Conteo de clases\n",
    "count_class_0, count_class_1 = df.target.value_counts()"
   ]
  },
  {
   "cell_type": "code",
   "execution_count": 33,
   "metadata": {
    "colab": {
     "base_uri": "https://localhost:8080/",
     "height": 68
    },
    "colab_type": "code",
    "executionInfo": {
     "elapsed": 869,
     "status": "ok",
     "timestamp": 1588295002774,
     "user": {
      "displayName": "LC",
      "photoUrl": "",
      "userId": "01596675882994571196"
     },
     "user_tz": 300
    },
    "id": "26gREJTNnYWa",
    "outputId": "a9fda528-cd69-4e3d-d30b-ba2c34e89ad3"
   },
   "outputs": [
    {
     "name": "stdout",
     "output_type": "stream",
     "text": [
      "Cantidades por fila de clase:\n",
      "Class_0: 516201\n",
      "Class_1: 19490\n"
     ]
    }
   ],
   "source": [
    "print('Cantidades por fila de clase:')\n",
    "print('Class_0:',count_class_0)\n",
    "print('Class_1:',count_class_1)"
   ]
  },
  {
   "cell_type": "code",
   "execution_count": 34,
   "metadata": {
    "colab": {},
    "colab_type": "code",
    "id": "hal685vNnYPJ"
   },
   "outputs": [],
   "source": [
    "# Dividiendo los sets por clases\n",
    "df_class_0 = df[df['target'] == 0]\n",
    "df_class_1 = df[df['target'] == 1]"
   ]
  },
  {
   "cell_type": "code",
   "execution_count": 35,
   "metadata": {
    "colab": {
     "base_uri": "https://localhost:8080/",
     "height": 68
    },
    "colab_type": "code",
    "executionInfo": {
     "elapsed": 1083,
     "status": "ok",
     "timestamp": 1588295013054,
     "user": {
      "displayName": "LC",
      "photoUrl": "",
      "userId": "01596675882994571196"
     },
     "user_tz": 300
    },
    "id": "LLHr89qwncV4",
    "outputId": "cb8372a1-e01c-4bcf-afa2-ce6ca0d795b1"
   },
   "outputs": [
    {
     "name": "stdout",
     "output_type": "stream",
     "text": [
      "Dimensión por tipo de clases:\n",
      "dim class_0: (516201, 58)\n",
      "dim class_1: (19490, 58)\n"
     ]
    }
   ],
   "source": [
    "print('Dimensión por tipo de clases:')\n",
    "print('dim class_0:',df_class_0.shape)\n",
    "print('dim class_1:',df_class_1.shape)"
   ]
  },
  {
   "cell_type": "markdown",
   "metadata": {
    "colab_type": "text",
    "id": "EYeo8ZmT4MqD"
   },
   "source": [
    "### 1. Random under-sampling (Submuestreo aleatorio)"
   ]
  },
  {
   "cell_type": "code",
   "execution_count": 36,
   "metadata": {
    "colab": {},
    "colab_type": "code",
    "id": "wdHy3k_Y4Ks8"
   },
   "outputs": [],
   "source": [
    "df_class_0_under = df_class_0.sample(count_class_1*4)\n",
    "df_under = pd.concat([df_class_0_under, df_class_1], axis=0)"
   ]
  },
  {
   "cell_type": "code",
   "execution_count": 37,
   "metadata": {
    "colab": {
     "base_uri": "https://localhost:8080/",
     "height": 68
    },
    "colab_type": "code",
    "executionInfo": {
     "elapsed": 875,
     "status": "ok",
     "timestamp": 1588295051207,
     "user": {
      "displayName": "LC",
      "photoUrl": "",
      "userId": "01596675882994571196"
     },
     "user_tz": 300
    },
    "id": "gRc3AWSAaoEm",
    "outputId": "70436415-dd51-41d0-ccfa-aceebc774fa5"
   },
   "outputs": [
    {
     "name": "stdout",
     "output_type": "stream",
     "text": [
      "Dimensión por tipo de clases generadas:\n",
      "dim df_class_0_under: (77960, 58)\n",
      "dim df_under: (97450, 58)\n"
     ]
    }
   ],
   "source": [
    "print('Dimensión por tipo de clases generadas:')\n",
    "print('dim df_class_0_under:',df_class_0_under.shape)\n",
    "print('dim df_under:',df_under.shape)"
   ]
  },
  {
   "cell_type": "code",
   "execution_count": 38,
   "metadata": {
    "colab": {
     "base_uri": "https://localhost:8080/",
     "height": 85
    },
    "colab_type": "code",
    "executionInfo": {
     "elapsed": 861,
     "status": "ok",
     "timestamp": 1588295104327,
     "user": {
      "displayName": "LC",
      "photoUrl": "",
      "userId": "01596675882994571196"
     },
     "user_tz": 300
    },
    "id": "ZDNglo-NaoG_",
    "outputId": "24973db3-dc24-45e8-9e85-da9ac06f7bae"
   },
   "outputs": [
    {
     "name": "stdout",
     "output_type": "stream",
     "text": [
      "Random under-sampling:\n",
      "target\n",
      "0    77960\n",
      "1    19490\n",
      "Name: count, dtype: int64\n"
     ]
    }
   ],
   "source": [
    "print('Random under-sampling:')\n",
    "print(df_under.target.value_counts())"
   ]
  },
  {
   "cell_type": "code",
   "execution_count": 39,
   "metadata": {
    "colab": {
     "base_uri": "https://localhost:8080/",
     "height": 278
    },
    "colab_type": "code",
    "executionInfo": {
     "elapsed": 1613,
     "status": "ok",
     "timestamp": 1588295108488,
     "user": {
      "displayName": "LC",
      "photoUrl": "",
      "userId": "01596675882994571196"
     },
     "user_tz": 300
    },
    "id": "GkvuM6IEaoJe",
    "outputId": "f11f54d6-b4c7-4018-842d-7e61fd7bde67"
   },
   "outputs": [
    {
     "data": {
      "image/png": "[encoded data removed]",
      "text/plain": [
       "<Figure size 640x480 with 1 Axes>"
      ]
     },
     "metadata": {},
     "output_type": "display_data"
    }
   ],
   "source": [
    "df_under.target.value_counts().plot(kind='bar', title='Count (target)');"
   ]
  },
  {
   "cell_type": "code",
   "execution_count": 40,
   "metadata": {},
   "outputs": [],
   "source": [
    "#Separación de predictoras y predicha\n",
    "X = df_under.drop('target', axis=1)\n",
    "y = df_under['target']"
   ]
  },
  {
   "cell_type": "code",
   "execution_count": 41,
   "metadata": {},
   "outputs": [],
   "source": [
    "#Creación de muestras de train y test\n",
    "X_train, X_test, y_train, y_test = train_test_split(X, y, test_size=0.3, random_state=22)"
   ]
  },
  {
   "cell_type": "markdown",
   "metadata": {},
   "source": [
    "### Modelo Decision Tree"
   ]
  },
  {
   "cell_type": "code",
   "execution_count": 42,
   "metadata": {},
   "outputs": [],
   "source": [
    "tree = DecisionTreeClassifier()\n",
    "tree_model = tree.fit(X_train, y_train)\n",
    "Y_pred = tree_model.predict(X_test)"
   ]
  },
  {
   "cell_type": "code",
   "execution_count": 43,
   "metadata": {},
   "outputs": [
    {
     "name": "stdout",
     "output_type": "stream",
     "text": [
      "Matriz confusion: Test\n",
      "[[18387  4954]\n",
      " [ 4380  1514]]\n"
     ]
    }
   ],
   "source": [
    "print(\"Matriz confusion: Test\")\n",
    "print(confusion_matrix(y_test,Y_pred))\n",
    "\n",
    "new = pd.DataFrame([{'Modelo' : 'DecisionTree Under', 'Muestra' : 'Test', 'Tamaño': len(Y_pred), 'Accuracy' : accuracy_score(y_test,Y_pred), \n",
    "                  'Precision' : precision_score(y_test,Y_pred), 'Recall' : recall_score(y_test,Y_pred), 'F1Score' : f1_score(y_test,Y_pred)}])\n",
    "ind = pd.concat([ind, new], ignore_index=True)"
   ]
  },
  {
   "cell_type": "code",
   "execution_count": 44,
   "metadata": {},
   "outputs": [
    {
     "name": "stdout",
     "output_type": "stream",
     "text": [
      "Matriz confusion: Unseen\n",
      "[[45276 12041]\n",
      " [ 1652   552]]\n"
     ]
    },
    {
     "data": {
      "text/html": [
       "<div>\n",
       "<style scoped>\n",
       "    .dataframe tbody tr th:only-of-type {\n",
       "        vertical-align: middle;\n",
       "    }\n",
       "\n",
       "    .dataframe tbody tr th {\n",
       "        vertical-align: top;\n",
       "    }\n",
       "\n",
       "    .dataframe thead th {\n",
       "        text-align: right;\n",
       "    }\n",
       "</style>\n",
       "<table border=\"1\" class=\"dataframe\">\n",
       "  <thead>\n",
       "    <tr style=\"text-align: right;\">\n",
       "      <th></th>\n",
       "      <th>Modelo</th>\n",
       "      <th>Muestra</th>\n",
       "      <th>Tamaño</th>\n",
       "      <th>Accuracy</th>\n",
       "      <th>Precision</th>\n",
       "      <th>Recall</th>\n",
       "      <th>F1Score</th>\n",
       "    </tr>\n",
       "  </thead>\n",
       "  <tbody>\n",
       "    <tr>\n",
       "      <th>0</th>\n",
       "      <td>DecisionTree</td>\n",
       "      <td>Test</td>\n",
       "      <td>160708</td>\n",
       "      <td>0.918473</td>\n",
       "      <td>0.046374</td>\n",
       "      <td>0.061972</td>\n",
       "      <td>0.053050</td>\n",
       "    </tr>\n",
       "    <tr>\n",
       "      <th>1</th>\n",
       "      <td>DecisionTree</td>\n",
       "      <td>Reserva</td>\n",
       "      <td>59521</td>\n",
       "      <td>0.918281</td>\n",
       "      <td>0.046694</td>\n",
       "      <td>0.062160</td>\n",
       "      <td>0.053328</td>\n",
       "    </tr>\n",
       "    <tr>\n",
       "      <th>2</th>\n",
       "      <td>XGBoost</td>\n",
       "      <td>Test</td>\n",
       "      <td>160708</td>\n",
       "      <td>0.963101</td>\n",
       "      <td>0.277778</td>\n",
       "      <td>0.000844</td>\n",
       "      <td>0.001684</td>\n",
       "    </tr>\n",
       "    <tr>\n",
       "      <th>3</th>\n",
       "      <td>XGBoost</td>\n",
       "      <td>Reserva</td>\n",
       "      <td>59521</td>\n",
       "      <td>0.962954</td>\n",
       "      <td>0.400000</td>\n",
       "      <td>0.000907</td>\n",
       "      <td>0.001811</td>\n",
       "    </tr>\n",
       "    <tr>\n",
       "      <th>4</th>\n",
       "      <td>RandomForest</td>\n",
       "      <td>Test</td>\n",
       "      <td>160708</td>\n",
       "      <td>0.963138</td>\n",
       "      <td>0.333333</td>\n",
       "      <td>0.000338</td>\n",
       "      <td>0.000675</td>\n",
       "    </tr>\n",
       "    <tr>\n",
       "      <th>5</th>\n",
       "      <td>RandomForest</td>\n",
       "      <td>Reserva</td>\n",
       "      <td>59521</td>\n",
       "      <td>0.962971</td>\n",
       "      <td>0.000000</td>\n",
       "      <td>0.000000</td>\n",
       "      <td>0.000000</td>\n",
       "    </tr>\n",
       "    <tr>\n",
       "      <th>6</th>\n",
       "      <td>DecisionTree Under</td>\n",
       "      <td>Test</td>\n",
       "      <td>29235</td>\n",
       "      <td>0.680725</td>\n",
       "      <td>0.234075</td>\n",
       "      <td>0.256871</td>\n",
       "      <td>0.244944</td>\n",
       "    </tr>\n",
       "    <tr>\n",
       "      <th>7</th>\n",
       "      <td>DecisionTree Under</td>\n",
       "      <td>Reserva</td>\n",
       "      <td>59521</td>\n",
       "      <td>0.769947</td>\n",
       "      <td>0.043834</td>\n",
       "      <td>0.250454</td>\n",
       "      <td>0.074610</td>\n",
       "    </tr>\n",
       "  </tbody>\n",
       "</table>\n",
       "</div>"
      ],
      "text/plain": [
       "               Modelo  Muestra  Tamaño  Accuracy  Precision    Recall  \\\n",
       "0        DecisionTree     Test  160708  0.918473   0.046374  0.061972   \n",
       "1        DecisionTree  Reserva   59521  0.918281   0.046694  0.062160   \n",
       "2             XGBoost     Test  160708  0.963101   0.277778  0.000844   \n",
       "3             XGBoost  Reserva   59521  0.962954   0.400000  0.000907   \n",
       "4        RandomForest     Test  160708  0.963138   0.333333  0.000338   \n",
       "5        RandomForest  Reserva   59521  0.962971   0.000000  0.000000   \n",
       "6  DecisionTree Under     Test   29235  0.680725   0.234075  0.256871   \n",
       "7  DecisionTree Under  Reserva   59521  0.769947   0.043834  0.250454   \n",
       "\n",
       "    F1Score  \n",
       "0  0.053050  \n",
       "1  0.053328  \n",
       "2  0.001684  \n",
       "3  0.001811  \n",
       "4  0.000675  \n",
       "5  0.000000  \n",
       "6  0.244944  \n",
       "7  0.074610  "
      ]
     },
     "execution_count": 44,
     "metadata": {},
     "output_type": "execute_result"
    }
   ],
   "source": [
    "# Almacenamos las probabilidades\n",
    "y_real = df_unseen['target']\n",
    "Y_pred = tree_model.predict(df_unseen.drop(['id','target'], axis=1))\n",
    "U_pred = tree_model.predict_proba(df_unseen.drop(['id','target'], axis=1))[:,1]\n",
    "datos = np.hstack((df_unseen['id'].values.reshape(-1,1), df_unseen['target'].values.reshape(-1,1), U_pred.reshape(-1,1)))\n",
    "df_submmit = pd.DataFrame(datos, columns=['id','real','prob'])\n",
    "df_submmit.to_csv('under_tree.csv', index=False)\n",
    "\n",
    "print(\"Matriz confusion: Unseen\")\n",
    "print(confusion_matrix(y_real,Y_pred))\n",
    "\n",
    "new = pd.DataFrame([{'Modelo' : 'DecisionTree Under', 'Muestra' : 'Reserva', 'Tamaño': len(Y_pred), 'Accuracy' : accuracy_score(y_real,Y_pred), \n",
    "                  'Precision' : precision_score(y_real,Y_pred), 'Recall' : recall_score(y_real,Y_pred), 'F1Score' : f1_score(y_real,Y_pred)}])\n",
    "ind = pd.concat([ind, new], ignore_index=True)\n",
    "ind"
   ]
  },
  {
   "cell_type": "markdown",
   "metadata": {},
   "source": [
    "### Modelo XGBoost"
   ]
  },
  {
   "cell_type": "code",
   "execution_count": 45,
   "metadata": {},
   "outputs": [],
   "source": [
    "xgb_mod=xgb.XGBClassifier()\n",
    "xgb_mod.fit(X_train, y_train)\n",
    "Y_pred= xgb_mod.predict(X_test)"
   ]
  },
  {
   "cell_type": "code",
   "execution_count": 46,
   "metadata": {},
   "outputs": [
    {
     "name": "stdout",
     "output_type": "stream",
     "text": [
      "Matriz confusion: Test\n",
      "[[22926   415]\n",
      " [ 5610   284]]\n"
     ]
    }
   ],
   "source": [
    "print(\"Matriz confusion: Test\")\n",
    "print(confusion_matrix(y_test,Y_pred))\n",
    "\n",
    "new = pd.DataFrame([{'Modelo' : 'XGBoost Under', 'Muestra' : 'Test', 'Tamaño': len(Y_pred), 'Accuracy' : accuracy_score(y_test,Y_pred), \n",
    "                  'Precision' : precision_score(y_test,Y_pred), 'Recall' : recall_score(y_test,Y_pred), 'F1Score' : f1_score(y_test,Y_pred)}])\n",
    "ind = pd.concat([ind, new], ignore_index=True)"
   ]
  },
  {
   "cell_type": "code",
   "execution_count": 47,
   "metadata": {},
   "outputs": [
    {
     "name": "stdout",
     "output_type": "stream",
     "text": [
      "Matriz confusion: Unseen\n",
      "[[56265  1052]\n",
      " [ 2119    85]]\n"
     ]
    },
    {
     "data": {
      "text/html": [
       "<div>\n",
       "<style scoped>\n",
       "    .dataframe tbody tr th:only-of-type {\n",
       "        vertical-align: middle;\n",
       "    }\n",
       "\n",
       "    .dataframe tbody tr th {\n",
       "        vertical-align: top;\n",
       "    }\n",
       "\n",
       "    .dataframe thead th {\n",
       "        text-align: right;\n",
       "    }\n",
       "</style>\n",
       "<table border=\"1\" class=\"dataframe\">\n",
       "  <thead>\n",
       "    <tr style=\"text-align: right;\">\n",
       "      <th></th>\n",
       "      <th>Modelo</th>\n",
       "      <th>Muestra</th>\n",
       "      <th>Tamaño</th>\n",
       "      <th>Accuracy</th>\n",
       "      <th>Precision</th>\n",
       "      <th>Recall</th>\n",
       "      <th>F1Score</th>\n",
       "    </tr>\n",
       "  </thead>\n",
       "  <tbody>\n",
       "    <tr>\n",
       "      <th>0</th>\n",
       "      <td>DecisionTree</td>\n",
       "      <td>Test</td>\n",
       "      <td>160708</td>\n",
       "      <td>0.918473</td>\n",
       "      <td>0.046374</td>\n",
       "      <td>0.061972</td>\n",
       "      <td>0.053050</td>\n",
       "    </tr>\n",
       "    <tr>\n",
       "      <th>1</th>\n",
       "      <td>DecisionTree</td>\n",
       "      <td>Reserva</td>\n",
       "      <td>59521</td>\n",
       "      <td>0.918281</td>\n",
       "      <td>0.046694</td>\n",
       "      <td>0.062160</td>\n",
       "      <td>0.053328</td>\n",
       "    </tr>\n",
       "    <tr>\n",
       "      <th>2</th>\n",
       "      <td>XGBoost</td>\n",
       "      <td>Test</td>\n",
       "      <td>160708</td>\n",
       "      <td>0.963101</td>\n",
       "      <td>0.277778</td>\n",
       "      <td>0.000844</td>\n",
       "      <td>0.001684</td>\n",
       "    </tr>\n",
       "    <tr>\n",
       "      <th>3</th>\n",
       "      <td>XGBoost</td>\n",
       "      <td>Reserva</td>\n",
       "      <td>59521</td>\n",
       "      <td>0.962954</td>\n",
       "      <td>0.400000</td>\n",
       "      <td>0.000907</td>\n",
       "      <td>0.001811</td>\n",
       "    </tr>\n",
       "    <tr>\n",
       "      <th>4</th>\n",
       "      <td>RandomForest</td>\n",
       "      <td>Test</td>\n",
       "      <td>160708</td>\n",
       "      <td>0.963138</td>\n",
       "      <td>0.333333</td>\n",
       "      <td>0.000338</td>\n",
       "      <td>0.000675</td>\n",
       "    </tr>\n",
       "    <tr>\n",
       "      <th>5</th>\n",
       "      <td>RandomForest</td>\n",
       "      <td>Reserva</td>\n",
       "      <td>59521</td>\n",
       "      <td>0.962971</td>\n",
       "      <td>0.000000</td>\n",
       "      <td>0.000000</td>\n",
       "      <td>0.000000</td>\n",
       "    </tr>\n",
       "    <tr>\n",
       "      <th>6</th>\n",
       "      <td>DecisionTree Under</td>\n",
       "      <td>Test</td>\n",
       "      <td>29235</td>\n",
       "      <td>0.680725</td>\n",
       "      <td>0.234075</td>\n",
       "      <td>0.256871</td>\n",
       "      <td>0.244944</td>\n",
       "    </tr>\n",
       "    <tr>\n",
       "      <th>7</th>\n",
       "      <td>DecisionTree Under</td>\n",
       "      <td>Reserva</td>\n",
       "      <td>59521</td>\n",
       "      <td>0.769947</td>\n",
       "      <td>0.043834</td>\n",
       "      <td>0.250454</td>\n",
       "      <td>0.074610</td>\n",
       "    </tr>\n",
       "    <tr>\n",
       "      <th>8</th>\n",
       "      <td>XGBoost Under</td>\n",
       "      <td>Test</td>\n",
       "      <td>29235</td>\n",
       "      <td>0.793911</td>\n",
       "      <td>0.406295</td>\n",
       "      <td>0.048185</td>\n",
       "      <td>0.086152</td>\n",
       "    </tr>\n",
       "    <tr>\n",
       "      <th>9</th>\n",
       "      <td>XGBoost Under</td>\n",
       "      <td>Reserva</td>\n",
       "      <td>59521</td>\n",
       "      <td>0.946725</td>\n",
       "      <td>0.074758</td>\n",
       "      <td>0.038566</td>\n",
       "      <td>0.050883</td>\n",
       "    </tr>\n",
       "  </tbody>\n",
       "</table>\n",
       "</div>"
      ],
      "text/plain": [
       "               Modelo  Muestra  Tamaño  Accuracy  Precision    Recall  \\\n",
       "0        DecisionTree     Test  160708  0.918473   0.046374  0.061972   \n",
       "1        DecisionTree  Reserva   59521  0.918281   0.046694  0.062160   \n",
       "2             XGBoost     Test  160708  0.963101   0.277778  0.000844   \n",
       "3             XGBoost  Reserva   59521  0.962954   0.400000  0.000907   \n",
       "4        RandomForest     Test  160708  0.963138   0.333333  0.000338   \n",
       "5        RandomForest  Reserva   59521  0.962971   0.000000  0.000000   \n",
       "6  DecisionTree Under     Test   29235  0.680725   0.234075  0.256871   \n",
       "7  DecisionTree Under  Reserva   59521  0.769947   0.043834  0.250454   \n",
       "8       XGBoost Under     Test   29235  0.793911   0.406295  0.048185   \n",
       "9       XGBoost Under  Reserva   59521  0.946725   0.074758  0.038566   \n",
       "\n",
       "    F1Score  \n",
       "0  0.053050  \n",
       "1  0.053328  \n",
       "2  0.001684  \n",
       "3  0.001811  \n",
       "4  0.000675  \n",
       "5  0.000000  \n",
       "6  0.244944  \n",
       "7  0.074610  \n",
       "8  0.086152  \n",
       "9  0.050883  "
      ]
     },
     "execution_count": 47,
     "metadata": {},
     "output_type": "execute_result"
    }
   ],
   "source": [
    "# Almacenamos las probabilidades\n",
    "y_real = df_unseen['target']\n",
    "Y_pred = xgb_mod.predict(df_unseen.drop(['id','target'], axis=1))\n",
    "U_pred = xgb_mod.predict_proba(df_unseen.drop(['id','target'], axis=1))[:,1]\n",
    "datos = np.hstack((df_unseen['id'].values.reshape(-1,1), df_unseen['target'].values.reshape(-1,1), U_pred.reshape(-1,1)))\n",
    "df_submmit = pd.DataFrame(datos, columns=['id','real','prob'])\n",
    "df_submmit.to_csv('under_xgb.csv', index=False)\n",
    "\n",
    "print(\"Matriz confusion: Unseen\")\n",
    "print(confusion_matrix(y_real,Y_pred))\n",
    "\n",
    "new = pd.DataFrame([{'Modelo' : 'XGBoost Under', 'Muestra' : 'Reserva', 'Tamaño': len(Y_pred), 'Accuracy' : accuracy_score(y_real,Y_pred), \n",
    "                  'Precision' : precision_score(y_real,Y_pred), 'Recall' : recall_score(y_real,Y_pred), 'F1Score' : f1_score(y_real,Y_pred)}])\n",
    "ind = pd.concat([ind, new], ignore_index=True)\n",
    "ind"
   ]
  },
  {
   "cell_type": "markdown",
   "metadata": {},
   "source": [
    "### Modelo RandomForest"
   ]
  },
  {
   "cell_type": "code",
   "execution_count": 48,
   "metadata": {},
   "outputs": [],
   "source": [
    "rf = RandomForestClassifier()\n",
    "rf.fit(X_train, y_train)\n",
    "Y_pred=rf.predict(X_test)"
   ]
  },
  {
   "cell_type": "code",
   "execution_count": 50,
   "metadata": {},
   "outputs": [
    {
     "name": "stdout",
     "output_type": "stream",
     "text": [
      "Matriz confusion: Test\n",
      "[[23293    48]\n",
      " [ 5842    52]]\n"
     ]
    }
   ],
   "source": [
    "print(\"Matriz confusion: Test\")\n",
    "print(confusion_matrix(y_test,Y_pred))\n",
    "\n",
    "new = pd.DataFrame([{'Modelo' : 'RandomForest Under', 'Muestra' : 'Test', 'Tamaño': len(Y_pred), 'Accuracy' : accuracy_score(y_test,Y_pred), \n",
    "                  'Precision' : precision_score(y_test,Y_pred), 'Recall' : recall_score(y_test,Y_pred), 'F1Score' : f1_score(y_test,Y_pred)}])\n",
    "ind = pd.concat([ind, new], ignore_index=True)"
   ]
  },
  {
   "cell_type": "code",
   "execution_count": 51,
   "metadata": {},
   "outputs": [
    {
     "name": "stdout",
     "output_type": "stream",
     "text": [
      "Matriz confusion: Unseen\n",
      "[[57209   108]\n",
      " [ 2176    28]]\n"
     ]
    },
    {
     "data": {
      "text/html": [
       "<div>\n",
       "<style scoped>\n",
       "    .dataframe tbody tr th:only-of-type {\n",
       "        vertical-align: middle;\n",
       "    }\n",
       "\n",
       "    .dataframe tbody tr th {\n",
       "        vertical-align: top;\n",
       "    }\n",
       "\n",
       "    .dataframe thead th {\n",
       "        text-align: right;\n",
       "    }\n",
       "</style>\n",
       "<table border=\"1\" class=\"dataframe\">\n",
       "  <thead>\n",
       "    <tr style=\"text-align: right;\">\n",
       "      <th></th>\n",
       "      <th>Modelo</th>\n",
       "      <th>Muestra</th>\n",
       "      <th>Tamaño</th>\n",
       "      <th>Accuracy</th>\n",
       "      <th>Precision</th>\n",
       "      <th>Recall</th>\n",
       "      <th>F1Score</th>\n",
       "    </tr>\n",
       "  </thead>\n",
       "  <tbody>\n",
       "    <tr>\n",
       "      <th>0</th>\n",
       "      <td>DecisionTree</td>\n",
       "      <td>Test</td>\n",
       "      <td>160708</td>\n",
       "      <td>0.918473</td>\n",
       "      <td>0.046374</td>\n",
       "      <td>0.061972</td>\n",
       "      <td>0.053050</td>\n",
       "    </tr>\n",
       "    <tr>\n",
       "      <th>1</th>\n",
       "      <td>DecisionTree</td>\n",
       "      <td>Reserva</td>\n",
       "      <td>59521</td>\n",
       "      <td>0.918281</td>\n",
       "      <td>0.046694</td>\n",
       "      <td>0.062160</td>\n",
       "      <td>0.053328</td>\n",
       "    </tr>\n",
       "    <tr>\n",
       "      <th>2</th>\n",
       "      <td>XGBoost</td>\n",
       "      <td>Test</td>\n",
       "      <td>160708</td>\n",
       "      <td>0.963101</td>\n",
       "      <td>0.277778</td>\n",
       "      <td>0.000844</td>\n",
       "      <td>0.001684</td>\n",
       "    </tr>\n",
       "    <tr>\n",
       "      <th>3</th>\n",
       "      <td>XGBoost</td>\n",
       "      <td>Reserva</td>\n",
       "      <td>59521</td>\n",
       "      <td>0.962954</td>\n",
       "      <td>0.400000</td>\n",
       "      <td>0.000907</td>\n",
       "      <td>0.001811</td>\n",
       "    </tr>\n",
       "    <tr>\n",
       "      <th>4</th>\n",
       "      <td>RandomForest</td>\n",
       "      <td>Test</td>\n",
       "      <td>160708</td>\n",
       "      <td>0.963138</td>\n",
       "      <td>0.333333</td>\n",
       "      <td>0.000338</td>\n",
       "      <td>0.000675</td>\n",
       "    </tr>\n",
       "    <tr>\n",
       "      <th>5</th>\n",
       "      <td>RandomForest</td>\n",
       "      <td>Reserva</td>\n",
       "      <td>59521</td>\n",
       "      <td>0.962971</td>\n",
       "      <td>0.000000</td>\n",
       "      <td>0.000000</td>\n",
       "      <td>0.000000</td>\n",
       "    </tr>\n",
       "    <tr>\n",
       "      <th>6</th>\n",
       "      <td>DecisionTree Under</td>\n",
       "      <td>Test</td>\n",
       "      <td>29235</td>\n",
       "      <td>0.680725</td>\n",
       "      <td>0.234075</td>\n",
       "      <td>0.256871</td>\n",
       "      <td>0.244944</td>\n",
       "    </tr>\n",
       "    <tr>\n",
       "      <th>7</th>\n",
       "      <td>DecisionTree Under</td>\n",
       "      <td>Reserva</td>\n",
       "      <td>59521</td>\n",
       "      <td>0.769947</td>\n",
       "      <td>0.043834</td>\n",
       "      <td>0.250454</td>\n",
       "      <td>0.074610</td>\n",
       "    </tr>\n",
       "    <tr>\n",
       "      <th>8</th>\n",
       "      <td>XGBoost Under</td>\n",
       "      <td>Test</td>\n",
       "      <td>29235</td>\n",
       "      <td>0.793911</td>\n",
       "      <td>0.406295</td>\n",
       "      <td>0.048185</td>\n",
       "      <td>0.086152</td>\n",
       "    </tr>\n",
       "    <tr>\n",
       "      <th>9</th>\n",
       "      <td>XGBoost Under</td>\n",
       "      <td>Reserva</td>\n",
       "      <td>59521</td>\n",
       "      <td>0.946725</td>\n",
       "      <td>0.074758</td>\n",
       "      <td>0.038566</td>\n",
       "      <td>0.050883</td>\n",
       "    </tr>\n",
       "    <tr>\n",
       "      <th>10</th>\n",
       "      <td>RandomForest Under</td>\n",
       "      <td>Test</td>\n",
       "      <td>29235</td>\n",
       "      <td>0.798529</td>\n",
       "      <td>0.520000</td>\n",
       "      <td>0.008823</td>\n",
       "      <td>0.017351</td>\n",
       "    </tr>\n",
       "    <tr>\n",
       "      <th>11</th>\n",
       "      <td>RandomForest Under</td>\n",
       "      <td>Reserva</td>\n",
       "      <td>59521</td>\n",
       "      <td>0.961627</td>\n",
       "      <td>0.205882</td>\n",
       "      <td>0.012704</td>\n",
       "      <td>0.023932</td>\n",
       "    </tr>\n",
       "  </tbody>\n",
       "</table>\n",
       "</div>"
      ],
      "text/plain": [
       "                Modelo  Muestra  Tamaño  Accuracy  Precision    Recall  \\\n",
       "0         DecisionTree     Test  160708  0.918473   0.046374  0.061972   \n",
       "1         DecisionTree  Reserva   59521  0.918281   0.046694  0.062160   \n",
       "2              XGBoost     Test  160708  0.963101   0.277778  0.000844   \n",
       "3              XGBoost  Reserva   59521  0.962954   0.400000  0.000907   \n",
       "4         RandomForest     Test  160708  0.963138   0.333333  0.000338   \n",
       "5         RandomForest  Reserva   59521  0.962971   0.000000  0.000000   \n",
       "6   DecisionTree Under     Test   29235  0.680725   0.234075  0.256871   \n",
       "7   DecisionTree Under  Reserva   59521  0.769947   0.043834  0.250454   \n",
       "8        XGBoost Under     Test   29235  0.793911   0.406295  0.048185   \n",
       "9        XGBoost Under  Reserva   59521  0.946725   0.074758  0.038566   \n",
       "10  RandomForest Under     Test   29235  0.798529   0.520000  0.008823   \n",
       "11  RandomForest Under  Reserva   59521  0.961627   0.205882  0.012704   \n",
       "\n",
       "     F1Score  \n",
       "0   0.053050  \n",
       "1   0.053328  \n",
       "2   0.001684  \n",
       "3   0.001811  \n",
       "4   0.000675  \n",
       "5   0.000000  \n",
       "6   0.244944  \n",
       "7   0.074610  \n",
       "8   0.086152  \n",
       "9   0.050883  \n",
       "10  0.017351  \n",
       "11  0.023932  "
      ]
     },
     "execution_count": 51,
     "metadata": {},
     "output_type": "execute_result"
    }
   ],
   "source": [
    "# Almacenamos las probabilidades\n",
    "y_real = df_unseen['target']\n",
    "Y_pred = rf.predict(df_unseen.drop(['id','target'], axis=1))\n",
    "U_pred = rf.predict_proba(df_unseen.drop(['id','target'], axis=1))[:,1]\n",
    "datos = np.hstack((df_unseen['id'].values.reshape(-1,1), df_unseen['target'].values.reshape(-1,1), U_pred.reshape(-1,1)))\n",
    "df_submmit = pd.DataFrame(datos, columns=['id','real','prob'])\n",
    "df_submmit.to_csv('under_rf.csv', index=False)\n",
    "\n",
    "print(\"Matriz confusion: Unseen\")\n",
    "print(confusion_matrix(y_real,Y_pred))\n",
    "\n",
    "new = pd.DataFrame([{'Modelo' : 'RandomForest Under', 'Muestra' : 'Reserva', 'Tamaño': len(Y_pred), 'Accuracy' : accuracy_score(y_real,Y_pred), \n",
    "                  'Precision' : precision_score(y_real,Y_pred), 'Recall' : recall_score(y_real,Y_pred), 'F1Score' : f1_score(y_real,Y_pred)}])\n",
    "ind = pd.concat([ind, new], ignore_index=True)\n",
    "ind"
   ]
  },
  {
   "cell_type": "markdown",
   "metadata": {
    "colab_type": "text",
    "id": "aFpImToab7pr"
   },
   "source": [
    "### 2. Random over-sampling (Sobremuestreo aleatorio)"
   ]
  },
  {
   "cell_type": "code",
   "execution_count": 52,
   "metadata": {
    "colab": {},
    "colab_type": "code",
    "id": "mmKuAF6t4KvM"
   },
   "outputs": [],
   "source": [
    "df_class_1_over = df_class_1.sample(round(count_class_0/4), replace=True)\n",
    "df_over = pd.concat([df_class_0, df_class_1_over], axis=0)"
   ]
  },
  {
   "cell_type": "code",
   "execution_count": 53,
   "metadata": {
    "colab": {
     "base_uri": "https://localhost:8080/",
     "height": 68
    },
    "colab_type": "code",
    "executionInfo": {
     "elapsed": 907,
     "status": "ok",
     "timestamp": 1588295131469,
     "user": {
      "displayName": "LC",
      "photoUrl": "",
      "userId": "01596675882994571196"
     },
     "user_tz": 300
    },
    "id": "mS8bi2OJ4Kxk",
    "outputId": "0872fe50-e7ad-4b85-df54-532a6cb0918b"
   },
   "outputs": [
    {
     "name": "stdout",
     "output_type": "stream",
     "text": [
      "Dimensión por tipo de clases generadas:\n",
      "dim df_class_1_over: (129050, 58)\n",
      "dim df_over: (645251, 58)\n"
     ]
    }
   ],
   "source": [
    "print('Dimensión por tipo de clases generadas:')\n",
    "print('dim df_class_1_over:',df_class_1_over.shape)\n",
    "print('dim df_over:',df_over.shape)"
   ]
  },
  {
   "cell_type": "code",
   "execution_count": 54,
   "metadata": {
    "colab": {
     "base_uri": "https://localhost:8080/",
     "height": 85
    },
    "colab_type": "code",
    "executionInfo": {
     "elapsed": 905,
     "status": "ok",
     "timestamp": 1588295140029,
     "user": {
      "displayName": "LC",
      "photoUrl": "",
      "userId": "01596675882994571196"
     },
     "user_tz": 300
    },
    "id": "KAiRr-7naOEg",
    "outputId": "52218835-eb5d-4c64-c02f-ce8c9b118afa"
   },
   "outputs": [
    {
     "name": "stdout",
     "output_type": "stream",
     "text": [
      "Random over-sampling:\n",
      "target\n",
      "0    516201\n",
      "1    129050\n",
      "Name: count, dtype: int64\n"
     ]
    }
   ],
   "source": [
    "print('Random over-sampling:')\n",
    "print(df_over.target.value_counts())"
   ]
  },
  {
   "cell_type": "code",
   "execution_count": 55,
   "metadata": {
    "colab": {
     "base_uri": "https://localhost:8080/",
     "height": 278
    },
    "colab_type": "code",
    "executionInfo": {
     "elapsed": 774,
     "status": "ok",
     "timestamp": 1588172414462,
     "user": {
      "displayName": "LC",
      "photoUrl": "",
      "userId": "01596675882994571196"
     },
     "user_tz": 300
    },
    "id": "u1s7Il_5aOHM",
    "outputId": "538fc7bf-33bf-4a1b-a31a-3ccf5ca43f79"
   },
   "outputs": [
    {
     "data": {
      "image/png": "[encoded data removed]",
      "text/plain": [
       "<Figure size 640x480 with 1 Axes>"
      ]
     },
     "metadata": {},
     "output_type": "display_data"
    }
   ],
   "source": [
    "df_over.target.value_counts().plot(kind='bar', title='Count (target)');"
   ]
  },
  {
   "cell_type": "code",
   "execution_count": 56,
   "metadata": {},
   "outputs": [],
   "source": [
    "#Separación de predictoras y predicha\n",
    "X = df_over.drop('target', axis=1)\n",
    "y = df_over['target']"
   ]
  },
  {
   "cell_type": "code",
   "execution_count": 57,
   "metadata": {},
   "outputs": [],
   "source": [
    "#Creación de muestras de train y test\n",
    "X_train, X_test, y_train, y_test = train_test_split(X, y, test_size=0.3, random_state=22)"
   ]
  },
  {
   "cell_type": "markdown",
   "metadata": {},
   "source": [
    "### Modelo Decision Tree"
   ]
  },
  {
   "cell_type": "code",
   "execution_count": 58,
   "metadata": {},
   "outputs": [],
   "source": [
    "tree = DecisionTreeClassifier()\n",
    "tree_model = tree.fit(X_train, y_train)\n",
    "Y_pred = tree_model.predict(X_test)"
   ]
  },
  {
   "cell_type": "code",
   "execution_count": 59,
   "metadata": {},
   "outputs": [
    {
     "name": "stdout",
     "output_type": "stream",
     "text": [
      "Matriz confusion: Test\n",
      "[[145479   9227]\n",
      " [   358  38512]]\n"
     ]
    }
   ],
   "source": [
    "print(\"Matriz confusion: Test\")\n",
    "print(confusion_matrix(y_test,Y_pred))\n",
    "\n",
    "new = pd.DataFrame([{'Modelo' : 'DecisionTree Over', 'Muestra' : 'Test', 'Tamaño': len(Y_pred), 'Accuracy' : accuracy_score(y_test,Y_pred), \n",
    "                  'Precision' : precision_score(y_test,Y_pred), 'Recall' : recall_score(y_test,Y_pred), 'F1Score' : f1_score(y_test,Y_pred)}])\n",
    "ind = pd.concat([ind, new], ignore_index=True)"
   ]
  },
  {
   "cell_type": "code",
   "execution_count": 60,
   "metadata": {},
   "outputs": [
    {
     "name": "stdout",
     "output_type": "stream",
     "text": [
      "Matriz confusion: Unseen\n",
      "[[53968  3349]\n",
      " [ 2042   162]]\n"
     ]
    },
    {
     "data": {
      "text/html": [
       "<div>\n",
       "<style scoped>\n",
       "    .dataframe tbody tr th:only-of-type {\n",
       "        vertical-align: middle;\n",
       "    }\n",
       "\n",
       "    .dataframe tbody tr th {\n",
       "        vertical-align: top;\n",
       "    }\n",
       "\n",
       "    .dataframe thead th {\n",
       "        text-align: right;\n",
       "    }\n",
       "</style>\n",
       "<table border=\"1\" class=\"dataframe\">\n",
       "  <thead>\n",
       "    <tr style=\"text-align: right;\">\n",
       "      <th></th>\n",
       "      <th>Modelo</th>\n",
       "      <th>Muestra</th>\n",
       "      <th>Tamaño</th>\n",
       "      <th>Accuracy</th>\n",
       "      <th>Precision</th>\n",
       "      <th>Recall</th>\n",
       "      <th>F1Score</th>\n",
       "    </tr>\n",
       "  </thead>\n",
       "  <tbody>\n",
       "    <tr>\n",
       "      <th>0</th>\n",
       "      <td>DecisionTree</td>\n",
       "      <td>Test</td>\n",
       "      <td>160708</td>\n",
       "      <td>0.918473</td>\n",
       "      <td>0.046374</td>\n",
       "      <td>0.061972</td>\n",
       "      <td>0.053050</td>\n",
       "    </tr>\n",
       "    <tr>\n",
       "      <th>1</th>\n",
       "      <td>DecisionTree</td>\n",
       "      <td>Reserva</td>\n",
       "      <td>59521</td>\n",
       "      <td>0.918281</td>\n",
       "      <td>0.046694</td>\n",
       "      <td>0.062160</td>\n",
       "      <td>0.053328</td>\n",
       "    </tr>\n",
       "    <tr>\n",
       "      <th>2</th>\n",
       "      <td>XGBoost</td>\n",
       "      <td>Test</td>\n",
       "      <td>160708</td>\n",
       "      <td>0.963101</td>\n",
       "      <td>0.277778</td>\n",
       "      <td>0.000844</td>\n",
       "      <td>0.001684</td>\n",
       "    </tr>\n",
       "    <tr>\n",
       "      <th>3</th>\n",
       "      <td>XGBoost</td>\n",
       "      <td>Reserva</td>\n",
       "      <td>59521</td>\n",
       "      <td>0.962954</td>\n",
       "      <td>0.400000</td>\n",
       "      <td>0.000907</td>\n",
       "      <td>0.001811</td>\n",
       "    </tr>\n",
       "    <tr>\n",
       "      <th>4</th>\n",
       "      <td>RandomForest</td>\n",
       "      <td>Test</td>\n",
       "      <td>160708</td>\n",
       "      <td>0.963138</td>\n",
       "      <td>0.333333</td>\n",
       "      <td>0.000338</td>\n",
       "      <td>0.000675</td>\n",
       "    </tr>\n",
       "    <tr>\n",
       "      <th>5</th>\n",
       "      <td>RandomForest</td>\n",
       "      <td>Reserva</td>\n",
       "      <td>59521</td>\n",
       "      <td>0.962971</td>\n",
       "      <td>0.000000</td>\n",
       "      <td>0.000000</td>\n",
       "      <td>0.000000</td>\n",
       "    </tr>\n",
       "    <tr>\n",
       "      <th>6</th>\n",
       "      <td>DecisionTree Under</td>\n",
       "      <td>Test</td>\n",
       "      <td>29235</td>\n",
       "      <td>0.680725</td>\n",
       "      <td>0.234075</td>\n",
       "      <td>0.256871</td>\n",
       "      <td>0.244944</td>\n",
       "    </tr>\n",
       "    <tr>\n",
       "      <th>7</th>\n",
       "      <td>DecisionTree Under</td>\n",
       "      <td>Reserva</td>\n",
       "      <td>59521</td>\n",
       "      <td>0.769947</td>\n",
       "      <td>0.043834</td>\n",
       "      <td>0.250454</td>\n",
       "      <td>0.074610</td>\n",
       "    </tr>\n",
       "    <tr>\n",
       "      <th>8</th>\n",
       "      <td>XGBoost Under</td>\n",
       "      <td>Test</td>\n",
       "      <td>29235</td>\n",
       "      <td>0.793911</td>\n",
       "      <td>0.406295</td>\n",
       "      <td>0.048185</td>\n",
       "      <td>0.086152</td>\n",
       "    </tr>\n",
       "    <tr>\n",
       "      <th>9</th>\n",
       "      <td>XGBoost Under</td>\n",
       "      <td>Reserva</td>\n",
       "      <td>59521</td>\n",
       "      <td>0.946725</td>\n",
       "      <td>0.074758</td>\n",
       "      <td>0.038566</td>\n",
       "      <td>0.050883</td>\n",
       "    </tr>\n",
       "    <tr>\n",
       "      <th>10</th>\n",
       "      <td>RandomForest Under</td>\n",
       "      <td>Test</td>\n",
       "      <td>29235</td>\n",
       "      <td>0.798529</td>\n",
       "      <td>0.520000</td>\n",
       "      <td>0.008823</td>\n",
       "      <td>0.017351</td>\n",
       "    </tr>\n",
       "    <tr>\n",
       "      <th>11</th>\n",
       "      <td>RandomForest Under</td>\n",
       "      <td>Reserva</td>\n",
       "      <td>59521</td>\n",
       "      <td>0.961627</td>\n",
       "      <td>0.205882</td>\n",
       "      <td>0.012704</td>\n",
       "      <td>0.023932</td>\n",
       "    </tr>\n",
       "    <tr>\n",
       "      <th>12</th>\n",
       "      <td>DecisionTree Over</td>\n",
       "      <td>Test</td>\n",
       "      <td>193576</td>\n",
       "      <td>0.950485</td>\n",
       "      <td>0.806720</td>\n",
       "      <td>0.990790</td>\n",
       "      <td>0.889330</td>\n",
       "    </tr>\n",
       "    <tr>\n",
       "      <th>13</th>\n",
       "      <td>DecisionTree Over</td>\n",
       "      <td>Reserva</td>\n",
       "      <td>59521</td>\n",
       "      <td>0.909427</td>\n",
       "      <td>0.046141</td>\n",
       "      <td>0.073503</td>\n",
       "      <td>0.056693</td>\n",
       "    </tr>\n",
       "  </tbody>\n",
       "</table>\n",
       "</div>"
      ],
      "text/plain": [
       "                Modelo  Muestra  Tamaño  Accuracy  Precision    Recall  \\\n",
       "0         DecisionTree     Test  160708  0.918473   0.046374  0.061972   \n",
       "1         DecisionTree  Reserva   59521  0.918281   0.046694  0.062160   \n",
       "2              XGBoost     Test  160708  0.963101   0.277778  0.000844   \n",
       "3              XGBoost  Reserva   59521  0.962954   0.400000  0.000907   \n",
       "4         RandomForest     Test  160708  0.963138   0.333333  0.000338   \n",
       "5         RandomForest  Reserva   59521  0.962971   0.000000  0.000000   \n",
       "6   DecisionTree Under     Test   29235  0.680725   0.234075  0.256871   \n",
       "7   DecisionTree Under  Reserva   59521  0.769947   0.043834  0.250454   \n",
       "8        XGBoost Under     Test   29235  0.793911   0.406295  0.048185   \n",
       "9        XGBoost Under  Reserva   59521  0.946725   0.074758  0.038566   \n",
       "10  RandomForest Under     Test   29235  0.798529   0.520000  0.008823   \n",
       "11  RandomForest Under  Reserva   59521  0.961627   0.205882  0.012704   \n",
       "12   DecisionTree Over     Test  193576  0.950485   0.806720  0.990790   \n",
       "13   DecisionTree Over  Reserva   59521  0.909427   0.046141  0.073503   \n",
       "\n",
       "     F1Score  \n",
       "0   0.053050  \n",
       "1   0.053328  \n",
       "2   0.001684  \n",
       "3   0.001811  \n",
       "4   0.000675  \n",
       "5   0.000000  \n",
       "6   0.244944  \n",
       "7   0.074610  \n",
       "8   0.086152  \n",
       "9   0.050883  \n",
       "10  0.017351  \n",
       "11  0.023932  \n",
       "12  0.889330  \n",
       "13  0.056693  "
      ]
     },
     "execution_count": 60,
     "metadata": {},
     "output_type": "execute_result"
    }
   ],
   "source": [
    "# Almacenamos las probabilidades\n",
    "y_real = df_unseen['target']\n",
    "Y_pred = tree_model.predict(df_unseen.drop(['id','target'], axis=1))\n",
    "U_pred = tree_model.predict_proba(df_unseen.drop(['id','target'], axis=1))[:,1]\n",
    "datos = np.hstack((df_unseen['id'].values.reshape(-1,1), df_unseen['target'].values.reshape(-1,1), U_pred.reshape(-1,1)))\n",
    "df_submmit = pd.DataFrame(datos, columns=['id','real','prob'])\n",
    "df_submmit.to_csv('over_tree.csv', index=False)\n",
    "\n",
    "print(\"Matriz confusion: Unseen\")\n",
    "print(confusion_matrix(y_real,Y_pred))\n",
    "\n",
    "new = pd.DataFrame([{'Modelo' : 'DecisionTree Over', 'Muestra' : 'Reserva', 'Tamaño': len(Y_pred), 'Accuracy' : accuracy_score(y_real,Y_pred), \n",
    "                  'Precision' : precision_score(y_real,Y_pred), 'Recall' : recall_score(y_real,Y_pred), 'F1Score' : f1_score(y_real,Y_pred)}])\n",
    "ind = pd.concat([ind, new], ignore_index=True)\n",
    "ind"
   ]
  },
  {
   "cell_type": "markdown",
   "metadata": {},
   "source": [
    "### Modelo XGBoost"
   ]
  },
  {
   "cell_type": "code",
   "execution_count": 61,
   "metadata": {},
   "outputs": [],
   "source": [
    "xgb_mod=xgb.XGBClassifier()\n",
    "xgb_mod.fit(X_train, y_train)\n",
    "Y_pred= xgb_mod.predict(X_test)"
   ]
  },
  {
   "cell_type": "code",
   "execution_count": 62,
   "metadata": {},
   "outputs": [
    {
     "name": "stdout",
     "output_type": "stream",
     "text": [
      "Matriz confusion: Test\n",
      "[[153554   1152]\n",
      " [ 34821   4049]]\n"
     ]
    }
   ],
   "source": [
    "print(\"Matriz confusion: Test\")\n",
    "print(confusion_matrix(y_test,Y_pred))\n",
    "\n",
    "new = pd.DataFrame([{'Modelo' : 'XGBoost Over', 'Muestra' : 'Test', 'Tamaño': len(Y_pred), 'Accuracy' : accuracy_score(y_test,Y_pred), \n",
    "                  'Precision' : precision_score(y_test,Y_pred), 'Recall' : recall_score(y_test,Y_pred), 'F1Score' : f1_score(y_test,Y_pred)}])\n",
    "ind = pd.concat([ind, new], ignore_index=True)"
   ]
  },
  {
   "cell_type": "code",
   "execution_count": 63,
   "metadata": {},
   "outputs": [
    {
     "name": "stdout",
     "output_type": "stream",
     "text": [
      "Matriz confusion: Unseen\n",
      "[[56884   433]\n",
      " [ 2157    47]]\n"
     ]
    },
    {
     "data": {
      "text/html": [
       "<div>\n",
       "<style scoped>\n",
       "    .dataframe tbody tr th:only-of-type {\n",
       "        vertical-align: middle;\n",
       "    }\n",
       "\n",
       "    .dataframe tbody tr th {\n",
       "        vertical-align: top;\n",
       "    }\n",
       "\n",
       "    .dataframe thead th {\n",
       "        text-align: right;\n",
       "    }\n",
       "</style>\n",
       "<table border=\"1\" class=\"dataframe\">\n",
       "  <thead>\n",
       "    <tr style=\"text-align: right;\">\n",
       "      <th></th>\n",
       "      <th>Modelo</th>\n",
       "      <th>Muestra</th>\n",
       "      <th>Tamaño</th>\n",
       "      <th>Accuracy</th>\n",
       "      <th>Precision</th>\n",
       "      <th>Recall</th>\n",
       "      <th>F1Score</th>\n",
       "    </tr>\n",
       "  </thead>\n",
       "  <tbody>\n",
       "    <tr>\n",
       "      <th>0</th>\n",
       "      <td>DecisionTree</td>\n",
       "      <td>Test</td>\n",
       "      <td>160708</td>\n",
       "      <td>0.918473</td>\n",
       "      <td>0.046374</td>\n",
       "      <td>0.061972</td>\n",
       "      <td>0.053050</td>\n",
       "    </tr>\n",
       "    <tr>\n",
       "      <th>1</th>\n",
       "      <td>DecisionTree</td>\n",
       "      <td>Reserva</td>\n",
       "      <td>59521</td>\n",
       "      <td>0.918281</td>\n",
       "      <td>0.046694</td>\n",
       "      <td>0.062160</td>\n",
       "      <td>0.053328</td>\n",
       "    </tr>\n",
       "    <tr>\n",
       "      <th>2</th>\n",
       "      <td>XGBoost</td>\n",
       "      <td>Test</td>\n",
       "      <td>160708</td>\n",
       "      <td>0.963101</td>\n",
       "      <td>0.277778</td>\n",
       "      <td>0.000844</td>\n",
       "      <td>0.001684</td>\n",
       "    </tr>\n",
       "    <tr>\n",
       "      <th>3</th>\n",
       "      <td>XGBoost</td>\n",
       "      <td>Reserva</td>\n",
       "      <td>59521</td>\n",
       "      <td>0.962954</td>\n",
       "      <td>0.400000</td>\n",
       "      <td>0.000907</td>\n",
       "      <td>0.001811</td>\n",
       "    </tr>\n",
       "    <tr>\n",
       "      <th>4</th>\n",
       "      <td>RandomForest</td>\n",
       "      <td>Test</td>\n",
       "      <td>160708</td>\n",
       "      <td>0.963138</td>\n",
       "      <td>0.333333</td>\n",
       "      <td>0.000338</td>\n",
       "      <td>0.000675</td>\n",
       "    </tr>\n",
       "    <tr>\n",
       "      <th>5</th>\n",
       "      <td>RandomForest</td>\n",
       "      <td>Reserva</td>\n",
       "      <td>59521</td>\n",
       "      <td>0.962971</td>\n",
       "      <td>0.000000</td>\n",
       "      <td>0.000000</td>\n",
       "      <td>0.000000</td>\n",
       "    </tr>\n",
       "    <tr>\n",
       "      <th>6</th>\n",
       "      <td>DecisionTree Under</td>\n",
       "      <td>Test</td>\n",
       "      <td>29235</td>\n",
       "      <td>0.680725</td>\n",
       "      <td>0.234075</td>\n",
       "      <td>0.256871</td>\n",
       "      <td>0.244944</td>\n",
       "    </tr>\n",
       "    <tr>\n",
       "      <th>7</th>\n",
       "      <td>DecisionTree Under</td>\n",
       "      <td>Reserva</td>\n",
       "      <td>59521</td>\n",
       "      <td>0.769947</td>\n",
       "      <td>0.043834</td>\n",
       "      <td>0.250454</td>\n",
       "      <td>0.074610</td>\n",
       "    </tr>\n",
       "    <tr>\n",
       "      <th>8</th>\n",
       "      <td>XGBoost Under</td>\n",
       "      <td>Test</td>\n",
       "      <td>29235</td>\n",
       "      <td>0.793911</td>\n",
       "      <td>0.406295</td>\n",
       "      <td>0.048185</td>\n",
       "      <td>0.086152</td>\n",
       "    </tr>\n",
       "    <tr>\n",
       "      <th>9</th>\n",
       "      <td>XGBoost Under</td>\n",
       "      <td>Reserva</td>\n",
       "      <td>59521</td>\n",
       "      <td>0.946725</td>\n",
       "      <td>0.074758</td>\n",
       "      <td>0.038566</td>\n",
       "      <td>0.050883</td>\n",
       "    </tr>\n",
       "    <tr>\n",
       "      <th>10</th>\n",
       "      <td>RandomForest Under</td>\n",
       "      <td>Test</td>\n",
       "      <td>29235</td>\n",
       "      <td>0.798529</td>\n",
       "      <td>0.520000</td>\n",
       "      <td>0.008823</td>\n",
       "      <td>0.017351</td>\n",
       "    </tr>\n",
       "    <tr>\n",
       "      <th>11</th>\n",
       "      <td>RandomForest Under</td>\n",
       "      <td>Reserva</td>\n",
       "      <td>59521</td>\n",
       "      <td>0.961627</td>\n",
       "      <td>0.205882</td>\n",
       "      <td>0.012704</td>\n",
       "      <td>0.023932</td>\n",
       "    </tr>\n",
       "    <tr>\n",
       "      <th>12</th>\n",
       "      <td>DecisionTree Over</td>\n",
       "      <td>Test</td>\n",
       "      <td>193576</td>\n",
       "      <td>0.950485</td>\n",
       "      <td>0.806720</td>\n",
       "      <td>0.990790</td>\n",
       "      <td>0.889330</td>\n",
       "    </tr>\n",
       "    <tr>\n",
       "      <th>13</th>\n",
       "      <td>DecisionTree Over</td>\n",
       "      <td>Reserva</td>\n",
       "      <td>59521</td>\n",
       "      <td>0.909427</td>\n",
       "      <td>0.046141</td>\n",
       "      <td>0.073503</td>\n",
       "      <td>0.056693</td>\n",
       "    </tr>\n",
       "    <tr>\n",
       "      <th>14</th>\n",
       "      <td>XGBoost Over</td>\n",
       "      <td>Test</td>\n",
       "      <td>193576</td>\n",
       "      <td>0.814166</td>\n",
       "      <td>0.778504</td>\n",
       "      <td>0.104168</td>\n",
       "      <td>0.183749</td>\n",
       "    </tr>\n",
       "    <tr>\n",
       "      <th>15</th>\n",
       "      <td>XGBoost Over</td>\n",
       "      <td>Reserva</td>\n",
       "      <td>59521</td>\n",
       "      <td>0.956486</td>\n",
       "      <td>0.097917</td>\n",
       "      <td>0.021325</td>\n",
       "      <td>0.035022</td>\n",
       "    </tr>\n",
       "  </tbody>\n",
       "</table>\n",
       "</div>"
      ],
      "text/plain": [
       "                Modelo  Muestra  Tamaño  Accuracy  Precision    Recall  \\\n",
       "0         DecisionTree     Test  160708  0.918473   0.046374  0.061972   \n",
       "1         DecisionTree  Reserva   59521  0.918281   0.046694  0.062160   \n",
       "2              XGBoost     Test  160708  0.963101   0.277778  0.000844   \n",
       "3              XGBoost  Reserva   59521  0.962954   0.400000  0.000907   \n",
       "4         RandomForest     Test  160708  0.963138   0.333333  0.000338   \n",
       "5         RandomForest  Reserva   59521  0.962971   0.000000  0.000000   \n",
       "6   DecisionTree Under     Test   29235  0.680725   0.234075  0.256871   \n",
       "7   DecisionTree Under  Reserva   59521  0.769947   0.043834  0.250454   \n",
       "8        XGBoost Under     Test   29235  0.793911   0.406295  0.048185   \n",
       "9        XGBoost Under  Reserva   59521  0.946725   0.074758  0.038566   \n",
       "10  RandomForest Under     Test   29235  0.798529   0.520000  0.008823   \n",
       "11  RandomForest Under  Reserva   59521  0.961627   0.205882  0.012704   \n",
       "12   DecisionTree Over     Test  193576  0.950485   0.806720  0.990790   \n",
       "13   DecisionTree Over  Reserva   59521  0.909427   0.046141  0.073503   \n",
       "14        XGBoost Over     Test  193576  0.814166   0.778504  0.104168   \n",
       "15        XGBoost Over  Reserva   59521  0.956486   0.097917  0.021325   \n",
       "\n",
       "     F1Score  \n",
       "0   0.053050  \n",
       "1   0.053328  \n",
       "2   0.001684  \n",
       "3   0.001811  \n",
       "4   0.000675  \n",
       "5   0.000000  \n",
       "6   0.244944  \n",
       "7   0.074610  \n",
       "8   0.086152  \n",
       "9   0.050883  \n",
       "10  0.017351  \n",
       "11  0.023932  \n",
       "12  0.889330  \n",
       "13  0.056693  \n",
       "14  0.183749  \n",
       "15  0.035022  "
      ]
     },
     "execution_count": 63,
     "metadata": {},
     "output_type": "execute_result"
    }
   ],
   "source": [
    "# Almacenamos las probabilidades\n",
    "y_real = df_unseen['target']\n",
    "Y_pred = xgb_mod.predict(df_unseen.drop(['id','target'], axis=1))\n",
    "U_pred = xgb_mod.predict_proba(df_unseen.drop(['id','target'], axis=1))[:,1]\n",
    "datos = np.hstack((df_unseen['id'].values.reshape(-1,1), df_unseen['target'].values.reshape(-1,1), U_pred.reshape(-1,1)))\n",
    "df_submmit = pd.DataFrame(datos, columns=['id','real','prob'])\n",
    "df_submmit.to_csv('over_xgb.csv', index=False)\n",
    "\n",
    "print(\"Matriz confusion: Unseen\")\n",
    "print(confusion_matrix(y_real,Y_pred))\n",
    "\n",
    "new = pd.DataFrame([{'Modelo' : 'XGBoost Over', 'Muestra' : 'Reserva', 'Tamaño': len(Y_pred), 'Accuracy' : accuracy_score(y_real,Y_pred), \n",
    "                  'Precision' : precision_score(y_real,Y_pred), 'Recall' : recall_score(y_real,Y_pred), 'F1Score' : f1_score(y_real,Y_pred)}])\n",
    "ind = pd.concat([ind, new], ignore_index=True)\n",
    "ind"
   ]
  },
  {
   "cell_type": "markdown",
   "metadata": {},
   "source": [
    "### Modelo RandomForest"
   ]
  },
  {
   "cell_type": "code",
   "execution_count": 64,
   "metadata": {},
   "outputs": [],
   "source": [
    "rf = RandomForestClassifier()\n",
    "rf.fit(X_train, y_train)\n",
    "Y_pred=rf.predict(X_test)"
   ]
  },
  {
   "cell_type": "code",
   "execution_count": 65,
   "metadata": {},
   "outputs": [
    {
     "name": "stdout",
     "output_type": "stream",
     "text": [
      "Matriz confusion: Test\n",
      "[[154700      6]\n",
      " [   380  38490]]\n"
     ]
    }
   ],
   "source": [
    "print(\"Matriz confusion: Test\")\n",
    "print(confusion_matrix(y_test,Y_pred))\n",
    "\n",
    "new = pd.DataFrame([{'Modelo' : 'RandomForest Over', 'Muestra' : 'Test', 'Tamaño': len(Y_pred), 'Accuracy' : accuracy_score(y_test,Y_pred), \n",
    "                  'Precision' : precision_score(y_test,Y_pred), 'Recall' : recall_score(y_test,Y_pred), 'F1Score' : f1_score(y_test,Y_pred)}])\n",
    "ind = pd.concat([ind, new], ignore_index=True)"
   ]
  },
  {
   "cell_type": "code",
   "execution_count": 66,
   "metadata": {},
   "outputs": [
    {
     "name": "stdout",
     "output_type": "stream",
     "text": [
      "Matriz confusion: Unseen\n",
      "[[57317     0]\n",
      " [ 2203     1]]\n"
     ]
    },
    {
     "data": {
      "text/html": [
       "<div>\n",
       "<style scoped>\n",
       "    .dataframe tbody tr th:only-of-type {\n",
       "        vertical-align: middle;\n",
       "    }\n",
       "\n",
       "    .dataframe tbody tr th {\n",
       "        vertical-align: top;\n",
       "    }\n",
       "\n",
       "    .dataframe thead th {\n",
       "        text-align: right;\n",
       "    }\n",
       "</style>\n",
       "<table border=\"1\" class=\"dataframe\">\n",
       "  <thead>\n",
       "    <tr style=\"text-align: right;\">\n",
       "      <th></th>\n",
       "      <th>Modelo</th>\n",
       "      <th>Muestra</th>\n",
       "      <th>Tamaño</th>\n",
       "      <th>Accuracy</th>\n",
       "      <th>Precision</th>\n",
       "      <th>Recall</th>\n",
       "      <th>F1Score</th>\n",
       "    </tr>\n",
       "  </thead>\n",
       "  <tbody>\n",
       "    <tr>\n",
       "      <th>0</th>\n",
       "      <td>DecisionTree</td>\n",
       "      <td>Test</td>\n",
       "      <td>160708</td>\n",
       "      <td>0.918473</td>\n",
       "      <td>0.046374</td>\n",
       "      <td>0.061972</td>\n",
       "      <td>0.053050</td>\n",
       "    </tr>\n",
       "    <tr>\n",
       "      <th>1</th>\n",
       "      <td>DecisionTree</td>\n",
       "      <td>Reserva</td>\n",
       "      <td>59521</td>\n",
       "      <td>0.918281</td>\n",
       "      <td>0.046694</td>\n",
       "      <td>0.062160</td>\n",
       "      <td>0.053328</td>\n",
       "    </tr>\n",
       "    <tr>\n",
       "      <th>2</th>\n",
       "      <td>XGBoost</td>\n",
       "      <td>Test</td>\n",
       "      <td>160708</td>\n",
       "      <td>0.963101</td>\n",
       "      <td>0.277778</td>\n",
       "      <td>0.000844</td>\n",
       "      <td>0.001684</td>\n",
       "    </tr>\n",
       "    <tr>\n",
       "      <th>3</th>\n",
       "      <td>XGBoost</td>\n",
       "      <td>Reserva</td>\n",
       "      <td>59521</td>\n",
       "      <td>0.962954</td>\n",
       "      <td>0.400000</td>\n",
       "      <td>0.000907</td>\n",
       "      <td>0.001811</td>\n",
       "    </tr>\n",
       "    <tr>\n",
       "      <th>4</th>\n",
       "      <td>RandomForest</td>\n",
       "      <td>Test</td>\n",
       "      <td>160708</td>\n",
       "      <td>0.963138</td>\n",
       "      <td>0.333333</td>\n",
       "      <td>0.000338</td>\n",
       "      <td>0.000675</td>\n",
       "    </tr>\n",
       "    <tr>\n",
       "      <th>5</th>\n",
       "      <td>RandomForest</td>\n",
       "      <td>Reserva</td>\n",
       "      <td>59521</td>\n",
       "      <td>0.962971</td>\n",
       "      <td>0.000000</td>\n",
       "      <td>0.000000</td>\n",
       "      <td>0.000000</td>\n",
       "    </tr>\n",
       "    <tr>\n",
       "      <th>6</th>\n",
       "      <td>DecisionTree Under</td>\n",
       "      <td>Test</td>\n",
       "      <td>29235</td>\n",
       "      <td>0.680725</td>\n",
       "      <td>0.234075</td>\n",
       "      <td>0.256871</td>\n",
       "      <td>0.244944</td>\n",
       "    </tr>\n",
       "    <tr>\n",
       "      <th>7</th>\n",
       "      <td>DecisionTree Under</td>\n",
       "      <td>Reserva</td>\n",
       "      <td>59521</td>\n",
       "      <td>0.769947</td>\n",
       "      <td>0.043834</td>\n",
       "      <td>0.250454</td>\n",
       "      <td>0.074610</td>\n",
       "    </tr>\n",
       "    <tr>\n",
       "      <th>8</th>\n",
       "      <td>XGBoost Under</td>\n",
       "      <td>Test</td>\n",
       "      <td>29235</td>\n",
       "      <td>0.793911</td>\n",
       "      <td>0.406295</td>\n",
       "      <td>0.048185</td>\n",
       "      <td>0.086152</td>\n",
       "    </tr>\n",
       "    <tr>\n",
       "      <th>9</th>\n",
       "      <td>XGBoost Under</td>\n",
       "      <td>Reserva</td>\n",
       "      <td>59521</td>\n",
       "      <td>0.946725</td>\n",
       "      <td>0.074758</td>\n",
       "      <td>0.038566</td>\n",
       "      <td>0.050883</td>\n",
       "    </tr>\n",
       "    <tr>\n",
       "      <th>10</th>\n",
       "      <td>RandomForest Under</td>\n",
       "      <td>Test</td>\n",
       "      <td>29235</td>\n",
       "      <td>0.798529</td>\n",
       "      <td>0.520000</td>\n",
       "      <td>0.008823</td>\n",
       "      <td>0.017351</td>\n",
       "    </tr>\n",
       "    <tr>\n",
       "      <th>11</th>\n",
       "      <td>RandomForest Under</td>\n",
       "      <td>Reserva</td>\n",
       "      <td>59521</td>\n",
       "      <td>0.961627</td>\n",
       "      <td>0.205882</td>\n",
       "      <td>0.012704</td>\n",
       "      <td>0.023932</td>\n",
       "    </tr>\n",
       "    <tr>\n",
       "      <th>12</th>\n",
       "      <td>DecisionTree Over</td>\n",
       "      <td>Test</td>\n",
       "      <td>193576</td>\n",
       "      <td>0.950485</td>\n",
       "      <td>0.806720</td>\n",
       "      <td>0.990790</td>\n",
       "      <td>0.889330</td>\n",
       "    </tr>\n",
       "    <tr>\n",
       "      <th>13</th>\n",
       "      <td>DecisionTree Over</td>\n",
       "      <td>Reserva</td>\n",
       "      <td>59521</td>\n",
       "      <td>0.909427</td>\n",
       "      <td>0.046141</td>\n",
       "      <td>0.073503</td>\n",
       "      <td>0.056693</td>\n",
       "    </tr>\n",
       "    <tr>\n",
       "      <th>14</th>\n",
       "      <td>XGBoost Over</td>\n",
       "      <td>Test</td>\n",
       "      <td>193576</td>\n",
       "      <td>0.814166</td>\n",
       "      <td>0.778504</td>\n",
       "      <td>0.104168</td>\n",
       "      <td>0.183749</td>\n",
       "    </tr>\n",
       "    <tr>\n",
       "      <th>15</th>\n",
       "      <td>XGBoost Over</td>\n",
       "      <td>Reserva</td>\n",
       "      <td>59521</td>\n",
       "      <td>0.956486</td>\n",
       "      <td>0.097917</td>\n",
       "      <td>0.021325</td>\n",
       "      <td>0.035022</td>\n",
       "    </tr>\n",
       "    <tr>\n",
       "      <th>16</th>\n",
       "      <td>RandomForest Over</td>\n",
       "      <td>Test</td>\n",
       "      <td>193576</td>\n",
       "      <td>0.998006</td>\n",
       "      <td>0.999844</td>\n",
       "      <td>0.990224</td>\n",
       "      <td>0.995011</td>\n",
       "    </tr>\n",
       "    <tr>\n",
       "      <th>17</th>\n",
       "      <td>RandomForest Over</td>\n",
       "      <td>Reserva</td>\n",
       "      <td>59521</td>\n",
       "      <td>0.962988</td>\n",
       "      <td>1.000000</td>\n",
       "      <td>0.000454</td>\n",
       "      <td>0.000907</td>\n",
       "    </tr>\n",
       "  </tbody>\n",
       "</table>\n",
       "</div>"
      ],
      "text/plain": [
       "                Modelo  Muestra  Tamaño  Accuracy  Precision    Recall  \\\n",
       "0         DecisionTree     Test  160708  0.918473   0.046374  0.061972   \n",
       "1         DecisionTree  Reserva   59521  0.918281   0.046694  0.062160   \n",
       "2              XGBoost     Test  160708  0.963101   0.277778  0.000844   \n",
       "3              XGBoost  Reserva   59521  0.962954   0.400000  0.000907   \n",
       "4         RandomForest     Test  160708  0.963138   0.333333  0.000338   \n",
       "5         RandomForest  Reserva   59521  0.962971   0.000000  0.000000   \n",
       "6   DecisionTree Under     Test   29235  0.680725   0.234075  0.256871   \n",
       "7   DecisionTree Under  Reserva   59521  0.769947   0.043834  0.250454   \n",
       "8        XGBoost Under     Test   29235  0.793911   0.406295  0.048185   \n",
       "9        XGBoost Under  Reserva   59521  0.946725   0.074758  0.038566   \n",
       "10  RandomForest Under     Test   29235  0.798529   0.520000  0.008823   \n",
       "11  RandomForest Under  Reserva   59521  0.961627   0.205882  0.012704   \n",
       "12   DecisionTree Over     Test  193576  0.950485   0.806720  0.990790   \n",
       "13   DecisionTree Over  Reserva   59521  0.909427   0.046141  0.073503   \n",
       "14        XGBoost Over     Test  193576  0.814166   0.778504  0.104168   \n",
       "15        XGBoost Over  Reserva   59521  0.956486   0.097917  0.021325   \n",
       "16   RandomForest Over     Test  193576  0.998006   0.999844  0.990224   \n",
       "17   RandomForest Over  Reserva   59521  0.962988   1.000000  0.000454   \n",
       "\n",
       "     F1Score  \n",
       "0   0.053050  \n",
       "1   0.053328  \n",
       "2   0.001684  \n",
       "3   0.001811  \n",
       "4   0.000675  \n",
       "5   0.000000  \n",
       "6   0.244944  \n",
       "7   0.074610  \n",
       "8   0.086152  \n",
       "9   0.050883  \n",
       "10  0.017351  \n",
       "11  0.023932  \n",
       "12  0.889330  \n",
       "13  0.056693  \n",
       "14  0.183749  \n",
       "15  0.035022  \n",
       "16  0.995011  \n",
       "17  0.000907  "
      ]
     },
     "execution_count": 66,
     "metadata": {},
     "output_type": "execute_result"
    }
   ],
   "source": [
    "# Almacenamos las probabilidades\n",
    "y_real = df_unseen['target']\n",
    "Y_pred = rf.predict(df_unseen.drop(['id','target'], axis=1))\n",
    "U_pred = rf.predict_proba(df_unseen.drop(['id','target'], axis=1))[:,1]\n",
    "datos = np.hstack((df_unseen['id'].values.reshape(-1,1), df_unseen['target'].values.reshape(-1,1), U_pred.reshape(-1,1)))\n",
    "df_submmit = pd.DataFrame(datos, columns=['id','real','prob'])\n",
    "df_submmit.to_csv('over_rf.csv', index=False)\n",
    "\n",
    "print(\"Matriz confusion: Unseen\")\n",
    "print(confusion_matrix(y_real,Y_pred))\n",
    "\n",
    "new = pd.DataFrame([{'Modelo' : 'RandomForest Over', 'Muestra' : 'Reserva', 'Tamaño': len(Y_pred), 'Accuracy' : accuracy_score(y_real,Y_pred), \n",
    "                  'Precision' : precision_score(y_real,Y_pred), 'Recall' : recall_score(y_real,Y_pred), 'F1Score' : f1_score(y_real,Y_pred)}])\n",
    "ind = pd.concat([ind, new], ignore_index=True)\n",
    "ind"
   ]
  },
  {
   "cell_type": "markdown",
   "metadata": {
    "colab_type": "text",
    "id": "jyMM3hBs0U8K"
   },
   "source": [
    "### 3. Advanced Resampling - SMOTE"
   ]
  },
  {
   "cell_type": "code",
   "execution_count": 67,
   "metadata": {},
   "outputs": [],
   "source": [
    "# !pip install imblearn\n",
    "# conda install -c glemaitre imbalanced-learn\n",
    "# conda install -c conda-forge imbalanced-learn"
   ]
  },
  {
   "cell_type": "code",
   "execution_count": 68,
   "metadata": {
    "colab": {},
    "colab_type": "code",
    "id": "O2riXqdpcsKx"
   },
   "outputs": [],
   "source": [
    "from imblearn.over_sampling import SMOTE"
   ]
  },
  {
   "cell_type": "code",
   "execution_count": 69,
   "metadata": {
    "colab": {},
    "colab_type": "code",
    "id": "vbwNW7oksfCO"
   },
   "outputs": [],
   "source": [
    "#Separación de predictoras y predicha\n",
    "X = df.drop('target', axis=1)\n",
    "y = df['target']"
   ]
  },
  {
   "cell_type": "code",
   "execution_count": 70,
   "metadata": {
    "colab": {
     "base_uri": "https://localhost:8080/",
     "height": 71
    },
    "colab_type": "code",
    "executionInfo": {
     "elapsed": 2885,
     "status": "ok",
     "timestamp": 1588352060104,
     "user": {
      "displayName": "LC",
      "photoUrl": "",
      "userId": "01596675882994571196"
     },
     "user_tz": 300
    },
    "id": "bp-kb3W5sfFD",
    "outputId": "dd4901df-a0e9-4e17-bbda-817726fe9cd5"
   },
   "outputs": [],
   "source": [
    "#Aplicando SMOTE\n",
    "smote = SMOTE(sampling_strategy=0.2)\n",
    "X_sm, y_sm = smote.fit_resample(X, y)"
   ]
  },
  {
   "cell_type": "code",
   "execution_count": 71,
   "metadata": {
    "colab": {},
    "colab_type": "code",
    "id": "sS9f-2ZYsfKR"
   },
   "outputs": [],
   "source": [
    "df_X_sm = pd.DataFrame(data=X_sm,columns=X.columns)\n",
    "df_y_sm = pd.DataFrame(data=y_sm,columns=[\"target\"])\n",
    "\n",
    "# Concatenamos la información\n",
    "df_balanceado_sm = pd.concat([df_X_sm, df_y_sm], axis=1)"
   ]
  },
  {
   "cell_type": "code",
   "execution_count": 72,
   "metadata": {
    "colab": {
     "base_uri": "https://localhost:8080/",
     "height": 68
    },
    "colab_type": "code",
    "executionInfo": {
     "elapsed": 601,
     "status": "ok",
     "timestamp": 1588352072728,
     "user": {
      "displayName": "LC",
      "photoUrl": "",
      "userId": "01596675882994571196"
     },
     "user_tz": 300
    },
    "id": "MBtIlIh74K0E",
    "outputId": "c717d180-3ef9-4023-cc51-cf64f3009618"
   },
   "outputs": [
    {
     "data": {
      "text/plain": [
       "target\n",
       "0    516201\n",
       "1    103240\n",
       "Name: count, dtype: int64"
      ]
     },
     "execution_count": 72,
     "metadata": {},
     "output_type": "execute_result"
    }
   ],
   "source": [
    "df_balanceado_sm.target.value_counts()"
   ]
  },
  {
   "cell_type": "code",
   "execution_count": 73,
   "metadata": {
    "colab": {},
    "colab_type": "code",
    "id": "LRMVNLtlxznE"
   },
   "outputs": [],
   "source": [
    "#Separación de predictoras y predicha\n",
    "X = df_balanceado_sm.drop('target', axis=1)\n",
    "y = df_balanceado_sm['target']"
   ]
  },
  {
   "cell_type": "code",
   "execution_count": 74,
   "metadata": {
    "colab": {},
    "colab_type": "code",
    "id": "o2NkhZk903C1"
   },
   "outputs": [],
   "source": [
    "#Creación de muestras de train y test\n",
    "X_train, X_test, y_train, y_test = train_test_split(X, y, test_size=0.3, random_state=22)"
   ]
  },
  {
   "cell_type": "markdown",
   "metadata": {},
   "source": [
    "### Modelo Decision Tree"
   ]
  },
  {
   "cell_type": "code",
   "execution_count": 75,
   "metadata": {},
   "outputs": [],
   "source": [
    "tree = DecisionTreeClassifier()\n",
    "tree_model = tree.fit(X_train, y_train)\n",
    "Y_pred = tree_model.predict(X_test)"
   ]
  },
  {
   "cell_type": "code",
   "execution_count": 76,
   "metadata": {
    "colab": {
     "base_uri": "https://localhost:8080/",
     "height": 34
    },
    "colab_type": "code",
    "executionInfo": {
     "elapsed": 1515,
     "status": "ok",
     "timestamp": 1588352298625,
     "user": {
      "displayName": "LC",
      "photoUrl": "",
      "userId": "01596675882994571196"
     },
     "user_tz": 300
    },
    "id": "ZYrT2l6A03Fd",
    "outputId": "f0a00a2a-9456-4d7d-e973-5444c92ac5e7"
   },
   "outputs": [
    {
     "name": "stdout",
     "output_type": "stream",
     "text": [
      "Matriz confusion: Test\n",
      "[[144689  10107]\n",
      " [  7608  23429]]\n"
     ]
    }
   ],
   "source": [
    "print(\"Matriz confusion: Test\")\n",
    "print(confusion_matrix(y_test,Y_pred))\n",
    "\n",
    "new = pd.DataFrame([{'Modelo' : 'DecisionTree SMOTE', 'Muestra' : 'Test', 'Tamaño': len(Y_pred), 'Accuracy' : accuracy_score(y_test,Y_pred), \n",
    "                  'Precision' : precision_score(y_test,Y_pred), 'Recall' : recall_score(y_test,Y_pred), 'F1Score' : f1_score(y_test,Y_pred)}])\n",
    "ind = pd.concat([ind, new], ignore_index=True)"
   ]
  },
  {
   "cell_type": "code",
   "execution_count": 77,
   "metadata": {},
   "outputs": [
    {
     "name": "stdout",
     "output_type": "stream",
     "text": [
      "Matriz confusion: Unseen\n",
      "[[53694  3623]\n",
      " [ 1992   212]]\n"
     ]
    },
    {
     "data": {
      "text/html": [
       "<div>\n",
       "<style scoped>\n",
       "    .dataframe tbody tr th:only-of-type {\n",
       "        vertical-align: middle;\n",
       "    }\n",
       "\n",
       "    .dataframe tbody tr th {\n",
       "        vertical-align: top;\n",
       "    }\n",
       "\n",
       "    .dataframe thead th {\n",
       "        text-align: right;\n",
       "    }\n",
       "</style>\n",
       "<table border=\"1\" class=\"dataframe\">\n",
       "  <thead>\n",
       "    <tr style=\"text-align: right;\">\n",
       "      <th></th>\n",
       "      <th>Modelo</th>\n",
       "      <th>Muestra</th>\n",
       "      <th>Tamaño</th>\n",
       "      <th>Accuracy</th>\n",
       "      <th>Precision</th>\n",
       "      <th>Recall</th>\n",
       "      <th>F1Score</th>\n",
       "    </tr>\n",
       "  </thead>\n",
       "  <tbody>\n",
       "    <tr>\n",
       "      <th>0</th>\n",
       "      <td>DecisionTree</td>\n",
       "      <td>Test</td>\n",
       "      <td>160708</td>\n",
       "      <td>0.918473</td>\n",
       "      <td>0.046374</td>\n",
       "      <td>0.061972</td>\n",
       "      <td>0.053050</td>\n",
       "    </tr>\n",
       "    <tr>\n",
       "      <th>1</th>\n",
       "      <td>DecisionTree</td>\n",
       "      <td>Reserva</td>\n",
       "      <td>59521</td>\n",
       "      <td>0.918281</td>\n",
       "      <td>0.046694</td>\n",
       "      <td>0.062160</td>\n",
       "      <td>0.053328</td>\n",
       "    </tr>\n",
       "    <tr>\n",
       "      <th>2</th>\n",
       "      <td>XGBoost</td>\n",
       "      <td>Test</td>\n",
       "      <td>160708</td>\n",
       "      <td>0.963101</td>\n",
       "      <td>0.277778</td>\n",
       "      <td>0.000844</td>\n",
       "      <td>0.001684</td>\n",
       "    </tr>\n",
       "    <tr>\n",
       "      <th>3</th>\n",
       "      <td>XGBoost</td>\n",
       "      <td>Reserva</td>\n",
       "      <td>59521</td>\n",
       "      <td>0.962954</td>\n",
       "      <td>0.400000</td>\n",
       "      <td>0.000907</td>\n",
       "      <td>0.001811</td>\n",
       "    </tr>\n",
       "    <tr>\n",
       "      <th>4</th>\n",
       "      <td>RandomForest</td>\n",
       "      <td>Test</td>\n",
       "      <td>160708</td>\n",
       "      <td>0.963138</td>\n",
       "      <td>0.333333</td>\n",
       "      <td>0.000338</td>\n",
       "      <td>0.000675</td>\n",
       "    </tr>\n",
       "    <tr>\n",
       "      <th>5</th>\n",
       "      <td>RandomForest</td>\n",
       "      <td>Reserva</td>\n",
       "      <td>59521</td>\n",
       "      <td>0.962971</td>\n",
       "      <td>0.000000</td>\n",
       "      <td>0.000000</td>\n",
       "      <td>0.000000</td>\n",
       "    </tr>\n",
       "    <tr>\n",
       "      <th>6</th>\n",
       "      <td>DecisionTree Under</td>\n",
       "      <td>Test</td>\n",
       "      <td>29235</td>\n",
       "      <td>0.680725</td>\n",
       "      <td>0.234075</td>\n",
       "      <td>0.256871</td>\n",
       "      <td>0.244944</td>\n",
       "    </tr>\n",
       "    <tr>\n",
       "      <th>7</th>\n",
       "      <td>DecisionTree Under</td>\n",
       "      <td>Reserva</td>\n",
       "      <td>59521</td>\n",
       "      <td>0.769947</td>\n",
       "      <td>0.043834</td>\n",
       "      <td>0.250454</td>\n",
       "      <td>0.074610</td>\n",
       "    </tr>\n",
       "    <tr>\n",
       "      <th>8</th>\n",
       "      <td>XGBoost Under</td>\n",
       "      <td>Test</td>\n",
       "      <td>29235</td>\n",
       "      <td>0.793911</td>\n",
       "      <td>0.406295</td>\n",
       "      <td>0.048185</td>\n",
       "      <td>0.086152</td>\n",
       "    </tr>\n",
       "    <tr>\n",
       "      <th>9</th>\n",
       "      <td>XGBoost Under</td>\n",
       "      <td>Reserva</td>\n",
       "      <td>59521</td>\n",
       "      <td>0.946725</td>\n",
       "      <td>0.074758</td>\n",
       "      <td>0.038566</td>\n",
       "      <td>0.050883</td>\n",
       "    </tr>\n",
       "    <tr>\n",
       "      <th>10</th>\n",
       "      <td>RandomForest Under</td>\n",
       "      <td>Test</td>\n",
       "      <td>29235</td>\n",
       "      <td>0.798529</td>\n",
       "      <td>0.520000</td>\n",
       "      <td>0.008823</td>\n",
       "      <td>0.017351</td>\n",
       "    </tr>\n",
       "    <tr>\n",
       "      <th>11</th>\n",
       "      <td>RandomForest Under</td>\n",
       "      <td>Reserva</td>\n",
       "      <td>59521</td>\n",
       "      <td>0.961627</td>\n",
       "      <td>0.205882</td>\n",
       "      <td>0.012704</td>\n",
       "      <td>0.023932</td>\n",
       "    </tr>\n",
       "    <tr>\n",
       "      <th>12</th>\n",
       "      <td>DecisionTree Over</td>\n",
       "      <td>Test</td>\n",
       "      <td>193576</td>\n",
       "      <td>0.950485</td>\n",
       "      <td>0.806720</td>\n",
       "      <td>0.990790</td>\n",
       "      <td>0.889330</td>\n",
       "    </tr>\n",
       "    <tr>\n",
       "      <th>13</th>\n",
       "      <td>DecisionTree Over</td>\n",
       "      <td>Reserva</td>\n",
       "      <td>59521</td>\n",
       "      <td>0.909427</td>\n",
       "      <td>0.046141</td>\n",
       "      <td>0.073503</td>\n",
       "      <td>0.056693</td>\n",
       "    </tr>\n",
       "    <tr>\n",
       "      <th>14</th>\n",
       "      <td>XGBoost Over</td>\n",
       "      <td>Test</td>\n",
       "      <td>193576</td>\n",
       "      <td>0.814166</td>\n",
       "      <td>0.778504</td>\n",
       "      <td>0.104168</td>\n",
       "      <td>0.183749</td>\n",
       "    </tr>\n",
       "    <tr>\n",
       "      <th>15</th>\n",
       "      <td>XGBoost Over</td>\n",
       "      <td>Reserva</td>\n",
       "      <td>59521</td>\n",
       "      <td>0.956486</td>\n",
       "      <td>0.097917</td>\n",
       "      <td>0.021325</td>\n",
       "      <td>0.035022</td>\n",
       "    </tr>\n",
       "    <tr>\n",
       "      <th>16</th>\n",
       "      <td>RandomForest Over</td>\n",
       "      <td>Test</td>\n",
       "      <td>193576</td>\n",
       "      <td>0.998006</td>\n",
       "      <td>0.999844</td>\n",
       "      <td>0.990224</td>\n",
       "      <td>0.995011</td>\n",
       "    </tr>\n",
       "    <tr>\n",
       "      <th>17</th>\n",
       "      <td>RandomForest Over</td>\n",
       "      <td>Reserva</td>\n",
       "      <td>59521</td>\n",
       "      <td>0.962988</td>\n",
       "      <td>1.000000</td>\n",
       "      <td>0.000454</td>\n",
       "      <td>0.000907</td>\n",
       "    </tr>\n",
       "    <tr>\n",
       "      <th>18</th>\n",
       "      <td>DecisionTree SMOTE</td>\n",
       "      <td>Test</td>\n",
       "      <td>185833</td>\n",
       "      <td>0.904672</td>\n",
       "      <td>0.698622</td>\n",
       "      <td>0.754873</td>\n",
       "      <td>0.725659</td>\n",
       "    </tr>\n",
       "    <tr>\n",
       "      <th>19</th>\n",
       "      <td>DecisionTree SMOTE</td>\n",
       "      <td>Reserva</td>\n",
       "      <td>59521</td>\n",
       "      <td>0.905664</td>\n",
       "      <td>0.055280</td>\n",
       "      <td>0.096189</td>\n",
       "      <td>0.070210</td>\n",
       "    </tr>\n",
       "  </tbody>\n",
       "</table>\n",
       "</div>"
      ],
      "text/plain": [
       "                Modelo  Muestra  Tamaño  Accuracy  Precision    Recall  \\\n",
       "0         DecisionTree     Test  160708  0.918473   0.046374  0.061972   \n",
       "1         DecisionTree  Reserva   59521  0.918281   0.046694  0.062160   \n",
       "2              XGBoost     Test  160708  0.963101   0.277778  0.000844   \n",
       "3              XGBoost  Reserva   59521  0.962954   0.400000  0.000907   \n",
       "4         RandomForest     Test  160708  0.963138   0.333333  0.000338   \n",
       "5         RandomForest  Reserva   59521  0.962971   0.000000  0.000000   \n",
       "6   DecisionTree Under     Test   29235  0.680725   0.234075  0.256871   \n",
       "7   DecisionTree Under  Reserva   59521  0.769947   0.043834  0.250454   \n",
       "8        XGBoost Under     Test   29235  0.793911   0.406295  0.048185   \n",
       "9        XGBoost Under  Reserva   59521  0.946725   0.074758  0.038566   \n",
       "10  RandomForest Under     Test   29235  0.798529   0.520000  0.008823   \n",
       "11  RandomForest Under  Reserva   59521  0.961627   0.205882  0.012704   \n",
       "12   DecisionTree Over     Test  193576  0.950485   0.806720  0.990790   \n",
       "13   DecisionTree Over  Reserva   59521  0.909427   0.046141  0.073503   \n",
       "14        XGBoost Over     Test  193576  0.814166   0.778504  0.104168   \n",
       "15        XGBoost Over  Reserva   59521  0.956486   0.097917  0.021325   \n",
       "16   RandomForest Over     Test  193576  0.998006   0.999844  0.990224   \n",
       "17   RandomForest Over  Reserva   59521  0.962988   1.000000  0.000454   \n",
       "18  DecisionTree SMOTE     Test  185833  0.904672   0.698622  0.754873   \n",
       "19  DecisionTree SMOTE  Reserva   59521  0.905664   0.055280  0.096189   \n",
       "\n",
       "     F1Score  \n",
       "0   0.053050  \n",
       "1   0.053328  \n",
       "2   0.001684  \n",
       "3   0.001811  \n",
       "4   0.000675  \n",
       "5   0.000000  \n",
       "6   0.244944  \n",
       "7   0.074610  \n",
       "8   0.086152  \n",
       "9   0.050883  \n",
       "10  0.017351  \n",
       "11  0.023932  \n",
       "12  0.889330  \n",
       "13  0.056693  \n",
       "14  0.183749  \n",
       "15  0.035022  \n",
       "16  0.995011  \n",
       "17  0.000907  \n",
       "18  0.725659  \n",
       "19  0.070210  "
      ]
     },
     "execution_count": 77,
     "metadata": {},
     "output_type": "execute_result"
    }
   ],
   "source": [
    "# Almacenamos las probabilidades\n",
    "y_real = df_unseen['target']\n",
    "Y_pred = tree_model.predict(df_unseen.drop(['id','target'], axis=1))\n",
    "U_pred = tree_model.predict_proba(df_unseen.drop(['id','target'], axis=1))[:,1]\n",
    "datos = np.hstack((df_unseen['id'].values.reshape(-1,1), df_unseen['target'].values.reshape(-1,1), U_pred.reshape(-1,1)))\n",
    "df_submmit = pd.DataFrame(datos, columns=['id','real','prob'])\n",
    "df_submmit.to_csv('smote_tree.csv', index=False)\n",
    "\n",
    "print(\"Matriz confusion: Unseen\")\n",
    "print(confusion_matrix(y_real,Y_pred))\n",
    "\n",
    "new = pd.DataFrame([{'Modelo' : 'DecisionTree SMOTE', 'Muestra' : 'Reserva', 'Tamaño': len(Y_pred), 'Accuracy' : accuracy_score(y_real,Y_pred), \n",
    "                  'Precision' : precision_score(y_real,Y_pred), 'Recall' : recall_score(y_real,Y_pred), 'F1Score' : f1_score(y_real,Y_pred)}])\n",
    "ind = pd.concat([ind, new], ignore_index=True)\n",
    "ind"
   ]
  },
  {
   "cell_type": "markdown",
   "metadata": {},
   "source": [
    "### Modelo XGBoost"
   ]
  },
  {
   "cell_type": "code",
   "execution_count": 78,
   "metadata": {},
   "outputs": [],
   "source": [
    "xgb_mod=xgb.XGBClassifier()\n",
    "xgb_mod.fit(X_train, y_train)\n",
    "Y_pred= xgb_mod.predict(X_test)"
   ]
  },
  {
   "cell_type": "code",
   "execution_count": 79,
   "metadata": {},
   "outputs": [
    {
     "name": "stdout",
     "output_type": "stream",
     "text": [
      "Matriz confusion: Test\n",
      "[[154785     11]\n",
      " [  5901  25136]]\n"
     ]
    }
   ],
   "source": [
    "print(\"Matriz confusion: Test\")\n",
    "print(confusion_matrix(y_test,Y_pred))\n",
    "\n",
    "new = pd.DataFrame([{'Modelo' : 'XGBoost SMOTE', 'Muestra' : 'Test', 'Tamaño': len(Y_pred), 'Accuracy' : accuracy_score(y_test,Y_pred), \n",
    "                  'Precision' : precision_score(y_test,Y_pred), 'Recall' : recall_score(y_test,Y_pred), 'F1Score' : f1_score(y_test,Y_pred)}])\n",
    "ind = pd.concat([ind, new], ignore_index=True)"
   ]
  },
  {
   "cell_type": "code",
   "execution_count": 80,
   "metadata": {},
   "outputs": [
    {
     "name": "stdout",
     "output_type": "stream",
     "text": [
      "Matriz confusion: Unseen\n",
      "[[57311     6]\n",
      " [ 2202     2]]\n"
     ]
    },
    {
     "data": {
      "text/html": [
       "<div>\n",
       "<style scoped>\n",
       "    .dataframe tbody tr th:only-of-type {\n",
       "        vertical-align: middle;\n",
       "    }\n",
       "\n",
       "    .dataframe tbody tr th {\n",
       "        vertical-align: top;\n",
       "    }\n",
       "\n",
       "    .dataframe thead th {\n",
       "        text-align: right;\n",
       "    }\n",
       "</style>\n",
       "<table border=\"1\" class=\"dataframe\">\n",
       "  <thead>\n",
       "    <tr style=\"text-align: right;\">\n",
       "      <th></th>\n",
       "      <th>Modelo</th>\n",
       "      <th>Muestra</th>\n",
       "      <th>Tamaño</th>\n",
       "      <th>Accuracy</th>\n",
       "      <th>Precision</th>\n",
       "      <th>Recall</th>\n",
       "      <th>F1Score</th>\n",
       "    </tr>\n",
       "  </thead>\n",
       "  <tbody>\n",
       "    <tr>\n",
       "      <th>0</th>\n",
       "      <td>DecisionTree</td>\n",
       "      <td>Test</td>\n",
       "      <td>160708</td>\n",
       "      <td>0.918473</td>\n",
       "      <td>0.046374</td>\n",
       "      <td>0.061972</td>\n",
       "      <td>0.053050</td>\n",
       "    </tr>\n",
       "    <tr>\n",
       "      <th>1</th>\n",
       "      <td>DecisionTree</td>\n",
       "      <td>Reserva</td>\n",
       "      <td>59521</td>\n",
       "      <td>0.918281</td>\n",
       "      <td>0.046694</td>\n",
       "      <td>0.062160</td>\n",
       "      <td>0.053328</td>\n",
       "    </tr>\n",
       "    <tr>\n",
       "      <th>2</th>\n",
       "      <td>XGBoost</td>\n",
       "      <td>Test</td>\n",
       "      <td>160708</td>\n",
       "      <td>0.963101</td>\n",
       "      <td>0.277778</td>\n",
       "      <td>0.000844</td>\n",
       "      <td>0.001684</td>\n",
       "    </tr>\n",
       "    <tr>\n",
       "      <th>3</th>\n",
       "      <td>XGBoost</td>\n",
       "      <td>Reserva</td>\n",
       "      <td>59521</td>\n",
       "      <td>0.962954</td>\n",
       "      <td>0.400000</td>\n",
       "      <td>0.000907</td>\n",
       "      <td>0.001811</td>\n",
       "    </tr>\n",
       "    <tr>\n",
       "      <th>4</th>\n",
       "      <td>RandomForest</td>\n",
       "      <td>Test</td>\n",
       "      <td>160708</td>\n",
       "      <td>0.963138</td>\n",
       "      <td>0.333333</td>\n",
       "      <td>0.000338</td>\n",
       "      <td>0.000675</td>\n",
       "    </tr>\n",
       "    <tr>\n",
       "      <th>5</th>\n",
       "      <td>RandomForest</td>\n",
       "      <td>Reserva</td>\n",
       "      <td>59521</td>\n",
       "      <td>0.962971</td>\n",
       "      <td>0.000000</td>\n",
       "      <td>0.000000</td>\n",
       "      <td>0.000000</td>\n",
       "    </tr>\n",
       "    <tr>\n",
       "      <th>6</th>\n",
       "      <td>DecisionTree Under</td>\n",
       "      <td>Test</td>\n",
       "      <td>29235</td>\n",
       "      <td>0.680725</td>\n",
       "      <td>0.234075</td>\n",
       "      <td>0.256871</td>\n",
       "      <td>0.244944</td>\n",
       "    </tr>\n",
       "    <tr>\n",
       "      <th>7</th>\n",
       "      <td>DecisionTree Under</td>\n",
       "      <td>Reserva</td>\n",
       "      <td>59521</td>\n",
       "      <td>0.769947</td>\n",
       "      <td>0.043834</td>\n",
       "      <td>0.250454</td>\n",
       "      <td>0.074610</td>\n",
       "    </tr>\n",
       "    <tr>\n",
       "      <th>8</th>\n",
       "      <td>XGBoost Under</td>\n",
       "      <td>Test</td>\n",
       "      <td>29235</td>\n",
       "      <td>0.793911</td>\n",
       "      <td>0.406295</td>\n",
       "      <td>0.048185</td>\n",
       "      <td>0.086152</td>\n",
       "    </tr>\n",
       "    <tr>\n",
       "      <th>9</th>\n",
       "      <td>XGBoost Under</td>\n",
       "      <td>Reserva</td>\n",
       "      <td>59521</td>\n",
       "      <td>0.946725</td>\n",
       "      <td>0.074758</td>\n",
       "      <td>0.038566</td>\n",
       "      <td>0.050883</td>\n",
       "    </tr>\n",
       "    <tr>\n",
       "      <th>10</th>\n",
       "      <td>RandomForest Under</td>\n",
       "      <td>Test</td>\n",
       "      <td>29235</td>\n",
       "      <td>0.798529</td>\n",
       "      <td>0.520000</td>\n",
       "      <td>0.008823</td>\n",
       "      <td>0.017351</td>\n",
       "    </tr>\n",
       "    <tr>\n",
       "      <th>11</th>\n",
       "      <td>RandomForest Under</td>\n",
       "      <td>Reserva</td>\n",
       "      <td>59521</td>\n",
       "      <td>0.961627</td>\n",
       "      <td>0.205882</td>\n",
       "      <td>0.012704</td>\n",
       "      <td>0.023932</td>\n",
       "    </tr>\n",
       "    <tr>\n",
       "      <th>12</th>\n",
       "      <td>DecisionTree Over</td>\n",
       "      <td>Test</td>\n",
       "      <td>193576</td>\n",
       "      <td>0.950485</td>\n",
       "      <td>0.806720</td>\n",
       "      <td>0.990790</td>\n",
       "      <td>0.889330</td>\n",
       "    </tr>\n",
       "    <tr>\n",
       "      <th>13</th>\n",
       "      <td>DecisionTree Over</td>\n",
       "      <td>Reserva</td>\n",
       "      <td>59521</td>\n",
       "      <td>0.909427</td>\n",
       "      <td>0.046141</td>\n",
       "      <td>0.073503</td>\n",
       "      <td>0.056693</td>\n",
       "    </tr>\n",
       "    <tr>\n",
       "      <th>14</th>\n",
       "      <td>XGBoost Over</td>\n",
       "      <td>Test</td>\n",
       "      <td>193576</td>\n",
       "      <td>0.814166</td>\n",
       "      <td>0.778504</td>\n",
       "      <td>0.104168</td>\n",
       "      <td>0.183749</td>\n",
       "    </tr>\n",
       "    <tr>\n",
       "      <th>15</th>\n",
       "      <td>XGBoost Over</td>\n",
       "      <td>Reserva</td>\n",
       "      <td>59521</td>\n",
       "      <td>0.956486</td>\n",
       "      <td>0.097917</td>\n",
       "      <td>0.021325</td>\n",
       "      <td>0.035022</td>\n",
       "    </tr>\n",
       "    <tr>\n",
       "      <th>16</th>\n",
       "      <td>RandomForest Over</td>\n",
       "      <td>Test</td>\n",
       "      <td>193576</td>\n",
       "      <td>0.998006</td>\n",
       "      <td>0.999844</td>\n",
       "      <td>0.990224</td>\n",
       "      <td>0.995011</td>\n",
       "    </tr>\n",
       "    <tr>\n",
       "      <th>17</th>\n",
       "      <td>RandomForest Over</td>\n",
       "      <td>Reserva</td>\n",
       "      <td>59521</td>\n",
       "      <td>0.962988</td>\n",
       "      <td>1.000000</td>\n",
       "      <td>0.000454</td>\n",
       "      <td>0.000907</td>\n",
       "    </tr>\n",
       "    <tr>\n",
       "      <th>18</th>\n",
       "      <td>DecisionTree SMOTE</td>\n",
       "      <td>Test</td>\n",
       "      <td>185833</td>\n",
       "      <td>0.904672</td>\n",
       "      <td>0.698622</td>\n",
       "      <td>0.754873</td>\n",
       "      <td>0.725659</td>\n",
       "    </tr>\n",
       "    <tr>\n",
       "      <th>19</th>\n",
       "      <td>DecisionTree SMOTE</td>\n",
       "      <td>Reserva</td>\n",
       "      <td>59521</td>\n",
       "      <td>0.905664</td>\n",
       "      <td>0.055280</td>\n",
       "      <td>0.096189</td>\n",
       "      <td>0.070210</td>\n",
       "    </tr>\n",
       "    <tr>\n",
       "      <th>20</th>\n",
       "      <td>XGBoost SMOTE</td>\n",
       "      <td>Test</td>\n",
       "      <td>185833</td>\n",
       "      <td>0.968186</td>\n",
       "      <td>0.999563</td>\n",
       "      <td>0.809872</td>\n",
       "      <td>0.894774</td>\n",
       "    </tr>\n",
       "    <tr>\n",
       "      <th>21</th>\n",
       "      <td>XGBoost SMOTE</td>\n",
       "      <td>Reserva</td>\n",
       "      <td>59521</td>\n",
       "      <td>0.962904</td>\n",
       "      <td>0.250000</td>\n",
       "      <td>0.000907</td>\n",
       "      <td>0.001808</td>\n",
       "    </tr>\n",
       "  </tbody>\n",
       "</table>\n",
       "</div>"
      ],
      "text/plain": [
       "                Modelo  Muestra  Tamaño  Accuracy  Precision    Recall  \\\n",
       "0         DecisionTree     Test  160708  0.918473   0.046374  0.061972   \n",
       "1         DecisionTree  Reserva   59521  0.918281   0.046694  0.062160   \n",
       "2              XGBoost     Test  160708  0.963101   0.277778  0.000844   \n",
       "3              XGBoost  Reserva   59521  0.962954   0.400000  0.000907   \n",
       "4         RandomForest     Test  160708  0.963138   0.333333  0.000338   \n",
       "5         RandomForest  Reserva   59521  0.962971   0.000000  0.000000   \n",
       "6   DecisionTree Under     Test   29235  0.680725   0.234075  0.256871   \n",
       "7   DecisionTree Under  Reserva   59521  0.769947   0.043834  0.250454   \n",
       "8        XGBoost Under     Test   29235  0.793911   0.406295  0.048185   \n",
       "9        XGBoost Under  Reserva   59521  0.946725   0.074758  0.038566   \n",
       "10  RandomForest Under     Test   29235  0.798529   0.520000  0.008823   \n",
       "11  RandomForest Under  Reserva   59521  0.961627   0.205882  0.012704   \n",
       "12   DecisionTree Over     Test  193576  0.950485   0.806720  0.990790   \n",
       "13   DecisionTree Over  Reserva   59521  0.909427   0.046141  0.073503   \n",
       "14        XGBoost Over     Test  193576  0.814166   0.778504  0.104168   \n",
       "15        XGBoost Over  Reserva   59521  0.956486   0.097917  0.021325   \n",
       "16   RandomForest Over     Test  193576  0.998006   0.999844  0.990224   \n",
       "17   RandomForest Over  Reserva   59521  0.962988   1.000000  0.000454   \n",
       "18  DecisionTree SMOTE     Test  185833  0.904672   0.698622  0.754873   \n",
       "19  DecisionTree SMOTE  Reserva   59521  0.905664   0.055280  0.096189   \n",
       "20       XGBoost SMOTE     Test  185833  0.968186   0.999563  0.809872   \n",
       "21       XGBoost SMOTE  Reserva   59521  0.962904   0.250000  0.000907   \n",
       "\n",
       "     F1Score  \n",
       "0   0.053050  \n",
       "1   0.053328  \n",
       "2   0.001684  \n",
       "3   0.001811  \n",
       "4   0.000675  \n",
       "5   0.000000  \n",
       "6   0.244944  \n",
       "7   0.074610  \n",
       "8   0.086152  \n",
       "9   0.050883  \n",
       "10  0.017351  \n",
       "11  0.023932  \n",
       "12  0.889330  \n",
       "13  0.056693  \n",
       "14  0.183749  \n",
       "15  0.035022  \n",
       "16  0.995011  \n",
       "17  0.000907  \n",
       "18  0.725659  \n",
       "19  0.070210  \n",
       "20  0.894774  \n",
       "21  0.001808  "
      ]
     },
     "execution_count": 80,
     "metadata": {},
     "output_type": "execute_result"
    }
   ],
   "source": [
    "# Almacenamos las probabilidades\n",
    "y_real = df_unseen['target']\n",
    "Y_pred = xgb_mod.predict(df_unseen.drop(['id','target'], axis=1))\n",
    "U_pred = xgb_mod.predict_proba(df_unseen.drop(['id','target'], axis=1))[:,1]\n",
    "datos = np.hstack((df_unseen['id'].values.reshape(-1,1), df_unseen['target'].values.reshape(-1,1), U_pred.reshape(-1,1)))\n",
    "df_submmit = pd.DataFrame(datos, columns=['id','real','prob'])\n",
    "df_submmit.to_csv('smote_xgb.csv', index=False)\n",
    "\n",
    "print(\"Matriz confusion: Unseen\")\n",
    "print(confusion_matrix(y_real,Y_pred))\n",
    "\n",
    "new = pd.DataFrame([{'Modelo' : 'XGBoost SMOTE', 'Muestra' : 'Reserva', 'Tamaño': len(Y_pred), 'Accuracy' : accuracy_score(y_real,Y_pred), \n",
    "                  'Precision' : precision_score(y_real,Y_pred), 'Recall' : recall_score(y_real,Y_pred), 'F1Score' : f1_score(y_real,Y_pred)}])\n",
    "ind = pd.concat([ind, new], ignore_index=True)\n",
    "ind"
   ]
  },
  {
   "cell_type": "markdown",
   "metadata": {},
   "source": [
    "### Modelo RandomForest"
   ]
  },
  {
   "cell_type": "code",
   "execution_count": 81,
   "metadata": {},
   "outputs": [],
   "source": [
    "rf = RandomForestClassifier()\n",
    "rf.fit(X_train, y_train)\n",
    "Y_pred=rf.predict(X_test)"
   ]
  },
  {
   "cell_type": "code",
   "execution_count": 82,
   "metadata": {},
   "outputs": [
    {
     "name": "stdout",
     "output_type": "stream",
     "text": [
      "Matriz confusion: Test\n",
      "[[154744     52]\n",
      " [  8028  23009]]\n"
     ]
    }
   ],
   "source": [
    "print(\"Matriz confusion: Test\")\n",
    "print(confusion_matrix(y_test,Y_pred))\n",
    "\n",
    "new = pd.DataFrame([{'Modelo' : 'RandomForest SMOTE', 'Muestra' : 'Test', 'Tamaño': len(Y_pred), 'Accuracy' : accuracy_score(y_test,Y_pred), \n",
    "                  'Precision' : precision_score(y_test,Y_pred), 'Recall' : recall_score(y_test,Y_pred), 'F1Score' : f1_score(y_test,Y_pred)}])\n",
    "ind = pd.concat([ind, new], ignore_index=True)"
   ]
  },
  {
   "cell_type": "code",
   "execution_count": 83,
   "metadata": {},
   "outputs": [
    {
     "name": "stdout",
     "output_type": "stream",
     "text": [
      "Matriz confusion: Unseen\n",
      "[[57301    16]\n",
      " [ 2203     1]]\n"
     ]
    },
    {
     "data": {
      "text/html": [
       "<div>\n",
       "<style scoped>\n",
       "    .dataframe tbody tr th:only-of-type {\n",
       "        vertical-align: middle;\n",
       "    }\n",
       "\n",
       "    .dataframe tbody tr th {\n",
       "        vertical-align: top;\n",
       "    }\n",
       "\n",
       "    .dataframe thead th {\n",
       "        text-align: right;\n",
       "    }\n",
       "</style>\n",
       "<table border=\"1\" class=\"dataframe\">\n",
       "  <thead>\n",
       "    <tr style=\"text-align: right;\">\n",
       "      <th></th>\n",
       "      <th>Modelo</th>\n",
       "      <th>Muestra</th>\n",
       "      <th>Tamaño</th>\n",
       "      <th>Accuracy</th>\n",
       "      <th>Precision</th>\n",
       "      <th>Recall</th>\n",
       "      <th>F1Score</th>\n",
       "    </tr>\n",
       "  </thead>\n",
       "  <tbody>\n",
       "    <tr>\n",
       "      <th>0</th>\n",
       "      <td>DecisionTree</td>\n",
       "      <td>Test</td>\n",
       "      <td>160708</td>\n",
       "      <td>0.918473</td>\n",
       "      <td>0.046374</td>\n",
       "      <td>0.061972</td>\n",
       "      <td>0.053050</td>\n",
       "    </tr>\n",
       "    <tr>\n",
       "      <th>1</th>\n",
       "      <td>DecisionTree</td>\n",
       "      <td>Reserva</td>\n",
       "      <td>59521</td>\n",
       "      <td>0.918281</td>\n",
       "      <td>0.046694</td>\n",
       "      <td>0.062160</td>\n",
       "      <td>0.053328</td>\n",
       "    </tr>\n",
       "    <tr>\n",
       "      <th>2</th>\n",
       "      <td>XGBoost</td>\n",
       "      <td>Test</td>\n",
       "      <td>160708</td>\n",
       "      <td>0.963101</td>\n",
       "      <td>0.277778</td>\n",
       "      <td>0.000844</td>\n",
       "      <td>0.001684</td>\n",
       "    </tr>\n",
       "    <tr>\n",
       "      <th>3</th>\n",
       "      <td>XGBoost</td>\n",
       "      <td>Reserva</td>\n",
       "      <td>59521</td>\n",
       "      <td>0.962954</td>\n",
       "      <td>0.400000</td>\n",
       "      <td>0.000907</td>\n",
       "      <td>0.001811</td>\n",
       "    </tr>\n",
       "    <tr>\n",
       "      <th>4</th>\n",
       "      <td>RandomForest</td>\n",
       "      <td>Test</td>\n",
       "      <td>160708</td>\n",
       "      <td>0.963138</td>\n",
       "      <td>0.333333</td>\n",
       "      <td>0.000338</td>\n",
       "      <td>0.000675</td>\n",
       "    </tr>\n",
       "    <tr>\n",
       "      <th>5</th>\n",
       "      <td>RandomForest</td>\n",
       "      <td>Reserva</td>\n",
       "      <td>59521</td>\n",
       "      <td>0.962971</td>\n",
       "      <td>0.000000</td>\n",
       "      <td>0.000000</td>\n",
       "      <td>0.000000</td>\n",
       "    </tr>\n",
       "    <tr>\n",
       "      <th>6</th>\n",
       "      <td>DecisionTree Under</td>\n",
       "      <td>Test</td>\n",
       "      <td>29235</td>\n",
       "      <td>0.680725</td>\n",
       "      <td>0.234075</td>\n",
       "      <td>0.256871</td>\n",
       "      <td>0.244944</td>\n",
       "    </tr>\n",
       "    <tr>\n",
       "      <th>7</th>\n",
       "      <td>DecisionTree Under</td>\n",
       "      <td>Reserva</td>\n",
       "      <td>59521</td>\n",
       "      <td>0.769947</td>\n",
       "      <td>0.043834</td>\n",
       "      <td>0.250454</td>\n",
       "      <td>0.074610</td>\n",
       "    </tr>\n",
       "    <tr>\n",
       "      <th>8</th>\n",
       "      <td>XGBoost Under</td>\n",
       "      <td>Test</td>\n",
       "      <td>29235</td>\n",
       "      <td>0.793911</td>\n",
       "      <td>0.406295</td>\n",
       "      <td>0.048185</td>\n",
       "      <td>0.086152</td>\n",
       "    </tr>\n",
       "    <tr>\n",
       "      <th>9</th>\n",
       "      <td>XGBoost Under</td>\n",
       "      <td>Reserva</td>\n",
       "      <td>59521</td>\n",
       "      <td>0.946725</td>\n",
       "      <td>0.074758</td>\n",
       "      <td>0.038566</td>\n",
       "      <td>0.050883</td>\n",
       "    </tr>\n",
       "    <tr>\n",
       "      <th>10</th>\n",
       "      <td>RandomForest Under</td>\n",
       "      <td>Test</td>\n",
       "      <td>29235</td>\n",
       "      <td>0.798529</td>\n",
       "      <td>0.520000</td>\n",
       "      <td>0.008823</td>\n",
       "      <td>0.017351</td>\n",
       "    </tr>\n",
       "    <tr>\n",
       "      <th>11</th>\n",
       "      <td>RandomForest Under</td>\n",
       "      <td>Reserva</td>\n",
       "      <td>59521</td>\n",
       "      <td>0.961627</td>\n",
       "      <td>0.205882</td>\n",
       "      <td>0.012704</td>\n",
       "      <td>0.023932</td>\n",
       "    </tr>\n",
       "    <tr>\n",
       "      <th>12</th>\n",
       "      <td>DecisionTree Over</td>\n",
       "      <td>Test</td>\n",
       "      <td>193576</td>\n",
       "      <td>0.950485</td>\n",
       "      <td>0.806720</td>\n",
       "      <td>0.990790</td>\n",
       "      <td>0.889330</td>\n",
       "    </tr>\n",
       "    <tr>\n",
       "      <th>13</th>\n",
       "      <td>DecisionTree Over</td>\n",
       "      <td>Reserva</td>\n",
       "      <td>59521</td>\n",
       "      <td>0.909427</td>\n",
       "      <td>0.046141</td>\n",
       "      <td>0.073503</td>\n",
       "      <td>0.056693</td>\n",
       "    </tr>\n",
       "    <tr>\n",
       "      <th>14</th>\n",
       "      <td>XGBoost Over</td>\n",
       "      <td>Test</td>\n",
       "      <td>193576</td>\n",
       "      <td>0.814166</td>\n",
       "      <td>0.778504</td>\n",
       "      <td>0.104168</td>\n",
       "      <td>0.183749</td>\n",
       "    </tr>\n",
       "    <tr>\n",
       "      <th>15</th>\n",
       "      <td>XGBoost Over</td>\n",
       "      <td>Reserva</td>\n",
       "      <td>59521</td>\n",
       "      <td>0.956486</td>\n",
       "      <td>0.097917</td>\n",
       "      <td>0.021325</td>\n",
       "      <td>0.035022</td>\n",
       "    </tr>\n",
       "    <tr>\n",
       "      <th>16</th>\n",
       "      <td>RandomForest Over</td>\n",
       "      <td>Test</td>\n",
       "      <td>193576</td>\n",
       "      <td>0.998006</td>\n",
       "      <td>0.999844</td>\n",
       "      <td>0.990224</td>\n",
       "      <td>0.995011</td>\n",
       "    </tr>\n",
       "    <tr>\n",
       "      <th>17</th>\n",
       "      <td>RandomForest Over</td>\n",
       "      <td>Reserva</td>\n",
       "      <td>59521</td>\n",
       "      <td>0.962988</td>\n",
       "      <td>1.000000</td>\n",
       "      <td>0.000454</td>\n",
       "      <td>0.000907</td>\n",
       "    </tr>\n",
       "    <tr>\n",
       "      <th>18</th>\n",
       "      <td>DecisionTree SMOTE</td>\n",
       "      <td>Test</td>\n",
       "      <td>185833</td>\n",
       "      <td>0.904672</td>\n",
       "      <td>0.698622</td>\n",
       "      <td>0.754873</td>\n",
       "      <td>0.725659</td>\n",
       "    </tr>\n",
       "    <tr>\n",
       "      <th>19</th>\n",
       "      <td>DecisionTree SMOTE</td>\n",
       "      <td>Reserva</td>\n",
       "      <td>59521</td>\n",
       "      <td>0.905664</td>\n",
       "      <td>0.055280</td>\n",
       "      <td>0.096189</td>\n",
       "      <td>0.070210</td>\n",
       "    </tr>\n",
       "    <tr>\n",
       "      <th>20</th>\n",
       "      <td>XGBoost SMOTE</td>\n",
       "      <td>Test</td>\n",
       "      <td>185833</td>\n",
       "      <td>0.968186</td>\n",
       "      <td>0.999563</td>\n",
       "      <td>0.809872</td>\n",
       "      <td>0.894774</td>\n",
       "    </tr>\n",
       "    <tr>\n",
       "      <th>21</th>\n",
       "      <td>XGBoost SMOTE</td>\n",
       "      <td>Reserva</td>\n",
       "      <td>59521</td>\n",
       "      <td>0.962904</td>\n",
       "      <td>0.250000</td>\n",
       "      <td>0.000907</td>\n",
       "      <td>0.001808</td>\n",
       "    </tr>\n",
       "    <tr>\n",
       "      <th>22</th>\n",
       "      <td>RandomForest SMOTE</td>\n",
       "      <td>Test</td>\n",
       "      <td>185833</td>\n",
       "      <td>0.956520</td>\n",
       "      <td>0.997745</td>\n",
       "      <td>0.741341</td>\n",
       "      <td>0.850641</td>\n",
       "    </tr>\n",
       "    <tr>\n",
       "      <th>23</th>\n",
       "      <td>RandomForest SMOTE</td>\n",
       "      <td>Reserva</td>\n",
       "      <td>59521</td>\n",
       "      <td>0.962719</td>\n",
       "      <td>0.058824</td>\n",
       "      <td>0.000454</td>\n",
       "      <td>0.000900</td>\n",
       "    </tr>\n",
       "  </tbody>\n",
       "</table>\n",
       "</div>"
      ],
      "text/plain": [
       "                Modelo  Muestra  Tamaño  Accuracy  Precision    Recall  \\\n",
       "0         DecisionTree     Test  160708  0.918473   0.046374  0.061972   \n",
       "1         DecisionTree  Reserva   59521  0.918281   0.046694  0.062160   \n",
       "2              XGBoost     Test  160708  0.963101   0.277778  0.000844   \n",
       "3              XGBoost  Reserva   59521  0.962954   0.400000  0.000907   \n",
       "4         RandomForest     Test  160708  0.963138   0.333333  0.000338   \n",
       "5         RandomForest  Reserva   59521  0.962971   0.000000  0.000000   \n",
       "6   DecisionTree Under     Test   29235  0.680725   0.234075  0.256871   \n",
       "7   DecisionTree Under  Reserva   59521  0.769947   0.043834  0.250454   \n",
       "8        XGBoost Under     Test   29235  0.793911   0.406295  0.048185   \n",
       "9        XGBoost Under  Reserva   59521  0.946725   0.074758  0.038566   \n",
       "10  RandomForest Under     Test   29235  0.798529   0.520000  0.008823   \n",
       "11  RandomForest Under  Reserva   59521  0.961627   0.205882  0.012704   \n",
       "12   DecisionTree Over     Test  193576  0.950485   0.806720  0.990790   \n",
       "13   DecisionTree Over  Reserva   59521  0.909427   0.046141  0.073503   \n",
       "14        XGBoost Over     Test  193576  0.814166   0.778504  0.104168   \n",
       "15        XGBoost Over  Reserva   59521  0.956486   0.097917  0.021325   \n",
       "16   RandomForest Over     Test  193576  0.998006   0.999844  0.990224   \n",
       "17   RandomForest Over  Reserva   59521  0.962988   1.000000  0.000454   \n",
       "18  DecisionTree SMOTE     Test  185833  0.904672   0.698622  0.754873   \n",
       "19  DecisionTree SMOTE  Reserva   59521  0.905664   0.055280  0.096189   \n",
       "20       XGBoost SMOTE     Test  185833  0.968186   0.999563  0.809872   \n",
       "21       XGBoost SMOTE  Reserva   59521  0.962904   0.250000  0.000907   \n",
       "22  RandomForest SMOTE     Test  185833  0.956520   0.997745  0.741341   \n",
       "23  RandomForest SMOTE  Reserva   59521  0.962719   0.058824  0.000454   \n",
       "\n",
       "     F1Score  \n",
       "0   0.053050  \n",
       "1   0.053328  \n",
       "2   0.001684  \n",
       "3   0.001811  \n",
       "4   0.000675  \n",
       "5   0.000000  \n",
       "6   0.244944  \n",
       "7   0.074610  \n",
       "8   0.086152  \n",
       "9   0.050883  \n",
       "10  0.017351  \n",
       "11  0.023932  \n",
       "12  0.889330  \n",
       "13  0.056693  \n",
       "14  0.183749  \n",
       "15  0.035022  \n",
       "16  0.995011  \n",
       "17  0.000907  \n",
       "18  0.725659  \n",
       "19  0.070210  \n",
       "20  0.894774  \n",
       "21  0.001808  \n",
       "22  0.850641  \n",
       "23  0.000900  "
      ]
     },
     "execution_count": 83,
     "metadata": {},
     "output_type": "execute_result"
    }
   ],
   "source": [
    "# Almacenamos las probabilidades\n",
    "y_real = df_unseen['target']\n",
    "Y_pred = rf.predict(df_unseen.drop(['id','target'], axis=1))\n",
    "U_pred = rf.predict_proba(df_unseen.drop(['id','target'], axis=1))[:,1]\n",
    "datos = np.hstack((df_unseen['id'].values.reshape(-1,1), df_unseen['target'].values.reshape(-1,1), U_pred.reshape(-1,1)))\n",
    "df_submmit = pd.DataFrame(datos, columns=['id','real','prob'])\n",
    "df_submmit.to_csv('smote_rf.csv', index=False)\n",
    "\n",
    "print(\"Matriz confusion: Unseen\")\n",
    "print(confusion_matrix(y_real,Y_pred))\n",
    "\n",
    "new = pd.DataFrame([{'Modelo' : 'RandomForest SMOTE', 'Muestra' : 'Reserva', 'Tamaño': len(Y_pred), 'Accuracy' : accuracy_score(y_real,Y_pred), \n",
    "                  'Precision' : precision_score(y_real,Y_pred), 'Recall' : recall_score(y_real,Y_pred), 'F1Score' : f1_score(y_real,Y_pred)}])\n",
    "ind = pd.concat([ind, new], ignore_index=True)\n",
    "ind"
   ]
  },
  {
   "cell_type": "markdown",
   "metadata": {},
   "source": [
    "Copyright 2023. Elaborado por Luis Cajachahua"
   ]
  }
 ],
 "metadata": {
  "colab": {
   "authorship_tag": "ABX9TyNa//3M4G0ziIjyi3XMSIRP",
   "name": "D. Resampling strategies.ipynb",
   "provenance": []
  },
  "kernelspec": {
   "display_name": "Python 3 (ipykernel)",
   "language": "python",
   "name": "python3"
  },
  "language_info": {
   "codemirror_mode": {
    "name": "ipython",
    "version": 3
   },
   "file_extension": ".py",
   "mimetype": "text/x-python",
   "name": "python",
   "nbconvert_exporter": "python",
   "pygments_lexer": "ipython3",
   "version": "3.10.9"
  }
 },
 "nbformat": 4,
 "nbformat_minor": 4
}
